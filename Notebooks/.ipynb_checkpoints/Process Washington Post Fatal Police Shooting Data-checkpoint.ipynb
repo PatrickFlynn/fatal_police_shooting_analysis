{
 "cells": [
  {
   "cell_type": "markdown",
   "id": "2f79fd6b",
   "metadata": {},
   "source": [
    "# Summary"
   ]
  },
  {
   "cell_type": "markdown",
   "id": "39e2781c",
   "metadata": {},
   "source": [
    "### Required Libraries"
   ]
  },
  {
   "cell_type": "code",
   "execution_count": 609,
   "id": "ab8c32c6",
   "metadata": {},
   "outputs": [],
   "source": [
    "#Base Python libraries\n",
    "import requests\n",
    "import os\n",
    "import getpass\n",
    "import urllib\n",
    "import json\n",
    "import pickle\n",
    "\n",
    "#Data Sci/Analysis libraries\n",
    "import numpy as np\n",
    "import pandas as pd\n",
    "\n",
    "#Visualization Libraries\n",
    "import matplotlib.pyplot as plt\n",
    "import seaborn as sns"
   ]
  },
  {
   "cell_type": "markdown",
   "id": "4b0ae4ff",
   "metadata": {},
   "source": [
    "### Sources"
   ]
  },
  {
   "cell_type": "markdown",
   "id": "08ba005b",
   "metadata": {},
   "source": [
    "Washington Post Github Repo:\n",
    "- <a href=\"https://github.com/washingtonpost/data-police-shootings/\">https://github.com/washingtonpost/data-police-shootings/</a>\n",
    "\n",
    "Data Dictionary:\n",
    "- <a href=\"https://github.com/washingtonpost/data-police-shootings/blob/master/v2/README.md\">https://github.com/washingtonpost/data-police-shootings/blob/master/v2/README.md</a>"
   ]
  },
  {
   "cell_type": "markdown",
   "id": "da03f5d5",
   "metadata": {},
   "source": [
    "### Download Data from Washington Post Github Repo"
   ]
  },
  {
   "cell_type": "markdown",
   "id": "b1963958",
   "metadata": {},
   "source": [
    "We will be downloading two data sources:\n",
    "   - The actual fatal police shootings (fatal-police-shootings-data.csv)\n",
    "   - Agency information (such as department type, state, ORI codes, etc)"
   ]
  },
  {
   "cell_type": "code",
   "execution_count": 610,
   "id": "643b1274",
   "metadata": {},
   "outputs": [],
   "source": [
    "data_url = \"https://raw.githubusercontent.com/washingtonpost/data-police-shootings/master/v2/fatal-police-shootings-data.csv\"\n",
    "\n",
    "#Put on two lines for readability\n",
    "agency_url = \\\n",
    "\"https://raw.githubusercontent.com/washingtonpost/data-police-shootings/master/v2/fatal-police-shootings-agencies.csv\""
   ]
  },
  {
   "cell_type": "markdown",
   "id": "49a422c1",
   "metadata": {},
   "source": [
    "We will only download this data if it already doesn't exist in our repo: (current date/time of download 2023-09-15 20:00 UTC)"
   ]
  },
  {
   "cell_type": "code",
   "execution_count": 611,
   "id": "edc329a9",
   "metadata": {},
   "outputs": [],
   "source": [
    "if ~ os.path.exists('../Data/fatal-police-shootings-data.csv'):\n",
    "    data_csv = requests.get(data_url).content\n",
    "    with open('../Data/fatal-police-shootings-data.csv', 'wb') as csv_file:\n",
    "        csv_file.write(data_csv)\n",
    "        \n",
    "if ~ os.path.exists('../Data/fatal-police-shootings-agencies.csv'):\n",
    "    data_csv = requests.get(agency_url).content\n",
    "    with open('../Data/fatal-police-shootings-agencies.csv', 'wb') as csv_file:\n",
    "        csv_file.write(data_csv)"
   ]
  },
  {
   "cell_type": "markdown",
   "id": "1e6fd468",
   "metadata": {},
   "source": [
    "### Inspection of Shooting Dataset"
   ]
  },
  {
   "cell_type": "code",
   "execution_count": 612,
   "id": "08e40cdd",
   "metadata": {},
   "outputs": [],
   "source": [
    "df = pd.read_csv('../Data/fatal-police-shootings-data.csv')\n",
    "agency_df = pd.read_csv('../Data/fatal-police-shootings-agencies.csv').drop(columns=['total_shootings', 'state'])"
   ]
  },
  {
   "cell_type": "code",
   "execution_count": 613,
   "id": "373410f9",
   "metadata": {},
   "outputs": [
    {
     "data": {
      "text/html": [
       "<div>\n",
       "<style scoped>\n",
       "    .dataframe tbody tr th:only-of-type {\n",
       "        vertical-align: middle;\n",
       "    }\n",
       "\n",
       "    .dataframe tbody tr th {\n",
       "        vertical-align: top;\n",
       "    }\n",
       "\n",
       "    .dataframe thead th {\n",
       "        text-align: right;\n",
       "    }\n",
       "</style>\n",
       "<table border=\"1\" class=\"dataframe\">\n",
       "  <thead>\n",
       "    <tr style=\"text-align: right;\">\n",
       "      <th></th>\n",
       "      <th>id</th>\n",
       "      <th>date</th>\n",
       "      <th>threat_type</th>\n",
       "      <th>flee_status</th>\n",
       "      <th>armed_with</th>\n",
       "      <th>city</th>\n",
       "      <th>county</th>\n",
       "      <th>state</th>\n",
       "      <th>latitude</th>\n",
       "      <th>longitude</th>\n",
       "      <th>location_precision</th>\n",
       "      <th>name</th>\n",
       "      <th>age</th>\n",
       "      <th>gender</th>\n",
       "      <th>race</th>\n",
       "      <th>race_source</th>\n",
       "      <th>was_mental_illness_related</th>\n",
       "      <th>body_camera</th>\n",
       "      <th>agency_ids</th>\n",
       "    </tr>\n",
       "  </thead>\n",
       "  <tbody>\n",
       "    <tr>\n",
       "      <th>0</th>\n",
       "      <td>3</td>\n",
       "      <td>2015-01-02</td>\n",
       "      <td>point</td>\n",
       "      <td>not</td>\n",
       "      <td>gun</td>\n",
       "      <td>Shelton</td>\n",
       "      <td>Mason</td>\n",
       "      <td>WA</td>\n",
       "      <td>47.246826</td>\n",
       "      <td>-123.121592</td>\n",
       "      <td>not_available</td>\n",
       "      <td>Tim Elliot</td>\n",
       "      <td>53.0</td>\n",
       "      <td>male</td>\n",
       "      <td>A</td>\n",
       "      <td>not_available</td>\n",
       "      <td>True</td>\n",
       "      <td>False</td>\n",
       "      <td>73</td>\n",
       "    </tr>\n",
       "    <tr>\n",
       "      <th>1</th>\n",
       "      <td>4</td>\n",
       "      <td>2015-01-02</td>\n",
       "      <td>point</td>\n",
       "      <td>not</td>\n",
       "      <td>gun</td>\n",
       "      <td>Aloha</td>\n",
       "      <td>Washington</td>\n",
       "      <td>OR</td>\n",
       "      <td>45.487421</td>\n",
       "      <td>-122.891696</td>\n",
       "      <td>not_available</td>\n",
       "      <td>Lewis Lee Lembke</td>\n",
       "      <td>47.0</td>\n",
       "      <td>male</td>\n",
       "      <td>W</td>\n",
       "      <td>not_available</td>\n",
       "      <td>False</td>\n",
       "      <td>False</td>\n",
       "      <td>70</td>\n",
       "    </tr>\n",
       "    <tr>\n",
       "      <th>2</th>\n",
       "      <td>5</td>\n",
       "      <td>2015-01-03</td>\n",
       "      <td>move</td>\n",
       "      <td>not</td>\n",
       "      <td>unarmed</td>\n",
       "      <td>Wichita</td>\n",
       "      <td>Sedgwick</td>\n",
       "      <td>KS</td>\n",
       "      <td>37.694766</td>\n",
       "      <td>-97.280554</td>\n",
       "      <td>not_available</td>\n",
       "      <td>John Paul Quintero</td>\n",
       "      <td>23.0</td>\n",
       "      <td>male</td>\n",
       "      <td>H</td>\n",
       "      <td>not_available</td>\n",
       "      <td>False</td>\n",
       "      <td>False</td>\n",
       "      <td>238</td>\n",
       "    </tr>\n",
       "    <tr>\n",
       "      <th>3</th>\n",
       "      <td>8</td>\n",
       "      <td>2015-01-04</td>\n",
       "      <td>point</td>\n",
       "      <td>not</td>\n",
       "      <td>replica</td>\n",
       "      <td>San Francisco</td>\n",
       "      <td>San Francisco</td>\n",
       "      <td>CA</td>\n",
       "      <td>37.762910</td>\n",
       "      <td>-122.422001</td>\n",
       "      <td>not_available</td>\n",
       "      <td>Matthew Hoffman</td>\n",
       "      <td>32.0</td>\n",
       "      <td>male</td>\n",
       "      <td>W</td>\n",
       "      <td>not_available</td>\n",
       "      <td>True</td>\n",
       "      <td>False</td>\n",
       "      <td>196</td>\n",
       "    </tr>\n",
       "    <tr>\n",
       "      <th>4</th>\n",
       "      <td>9</td>\n",
       "      <td>2015-01-04</td>\n",
       "      <td>point</td>\n",
       "      <td>not</td>\n",
       "      <td>other</td>\n",
       "      <td>Evans</td>\n",
       "      <td>Weld</td>\n",
       "      <td>CO</td>\n",
       "      <td>40.383937</td>\n",
       "      <td>-104.692261</td>\n",
       "      <td>not_available</td>\n",
       "      <td>Michael Rodriguez</td>\n",
       "      <td>39.0</td>\n",
       "      <td>male</td>\n",
       "      <td>H</td>\n",
       "      <td>not_available</td>\n",
       "      <td>False</td>\n",
       "      <td>False</td>\n",
       "      <td>473</td>\n",
       "    </tr>\n",
       "  </tbody>\n",
       "</table>\n",
       "</div>"
      ],
      "text/plain": [
       "   id        date threat_type flee_status armed_with           city  \\\n",
       "0   3  2015-01-02       point         not        gun        Shelton   \n",
       "1   4  2015-01-02       point         not        gun          Aloha   \n",
       "2   5  2015-01-03        move         not    unarmed        Wichita   \n",
       "3   8  2015-01-04       point         not    replica  San Francisco   \n",
       "4   9  2015-01-04       point         not      other          Evans   \n",
       "\n",
       "          county state   latitude   longitude location_precision  \\\n",
       "0          Mason    WA  47.246826 -123.121592      not_available   \n",
       "1     Washington    OR  45.487421 -122.891696      not_available   \n",
       "2       Sedgwick    KS  37.694766  -97.280554      not_available   \n",
       "3  San Francisco    CA  37.762910 -122.422001      not_available   \n",
       "4           Weld    CO  40.383937 -104.692261      not_available   \n",
       "\n",
       "                 name   age gender race    race_source  \\\n",
       "0          Tim Elliot  53.0   male    A  not_available   \n",
       "1    Lewis Lee Lembke  47.0   male    W  not_available   \n",
       "2  John Paul Quintero  23.0   male    H  not_available   \n",
       "3     Matthew Hoffman  32.0   male    W  not_available   \n",
       "4   Michael Rodriguez  39.0   male    H  not_available   \n",
       "\n",
       "   was_mental_illness_related  body_camera agency_ids  \n",
       "0                        True        False         73  \n",
       "1                       False        False         70  \n",
       "2                       False        False        238  \n",
       "3                        True        False        196  \n",
       "4                       False        False        473  "
      ]
     },
     "execution_count": 613,
     "metadata": {},
     "output_type": "execute_result"
    }
   ],
   "source": [
    "df.head()"
   ]
  },
  {
   "cell_type": "code",
   "execution_count": 614,
   "id": "b8e599ff",
   "metadata": {},
   "outputs": [
    {
     "name": "stdout",
     "output_type": "stream",
     "text": [
      "<class 'pandas.core.frame.DataFrame'>\n",
      "RangeIndex: 8735 entries, 0 to 8734\n",
      "Data columns (total 19 columns):\n",
      " #   Column                      Non-Null Count  Dtype  \n",
      "---  ------                      --------------  -----  \n",
      " 0   id                          8735 non-null   int64  \n",
      " 1   date                        8735 non-null   object \n",
      " 2   threat_type                 8692 non-null   object \n",
      " 3   flee_status                 7558 non-null   object \n",
      " 4   armed_with                  8525 non-null   object \n",
      " 5   city                        8681 non-null   object \n",
      " 6   county                      3879 non-null   object \n",
      " 7   state                       8735 non-null   object \n",
      " 8   latitude                    7755 non-null   float64\n",
      " 9   longitude                   7755 non-null   float64\n",
      " 10  location_precision          7755 non-null   object \n",
      " 11  name                        8158 non-null   object \n",
      " 12  age                         8134 non-null   float64\n",
      " 13  gender                      8685 non-null   object \n",
      " 14  race                        7336 non-null   object \n",
      " 15  race_source                 7358 non-null   object \n",
      " 16  was_mental_illness_related  8735 non-null   bool   \n",
      " 17  body_camera                 8735 non-null   bool   \n",
      " 18  agency_ids                  8733 non-null   object \n",
      "dtypes: bool(2), float64(3), int64(1), object(13)\n",
      "memory usage: 1.1+ MB\n"
     ]
    }
   ],
   "source": [
    "df.info()"
   ]
  },
  {
   "cell_type": "markdown",
   "id": "6f77d7a6",
   "metadata": {},
   "source": [
    "For the most part, our dataset is in good shape. But we will want to transform/enrich/remove some of our data to perform our analysis. \n",
    "\n",
    "**Missing Data**</br>\n",
    "The following columns that contain NULL values we will mark as \"unknown\":\n",
    "\n",
    "- threat_type\n",
    "- flee_status\n",
    "- armed_with\n",
    "- city\n",
    "- county\n",
    "- gender\n",
    "- race\n",
    "\n",
    "**Data to be Removed**<br/>\n",
    "We will remove the following columns as they aren't relavant to our analysis:\n",
    "- name\n",
    "- race_source\n",
    "\n",
    "**Data to be Enriched/Transformed**<br/>\n",
    "- armed_with\n",
    "    - We will only keep the MOST severe weapon based on the force continuum (i.e. Hand/Feet/Fist > Knife > Gun etc.)\n",
    "- race\n",
    "    - We will replace the race with the full version (i.e. W => White) as described in the provided data dictionary\n",
    "    - Additionally, if TWO or more races are present (designated with a \";\" separator) we will only use the FIRST race\n",
    "- latitude/longitude\n",
    "    - If we do not have latitude/longitude, we will geolocate the data to the nearest city \n",
    "- agency_ids\n",
    "    - If we have MORE than one agency_id listed for a shooting, we will use the first agency for easier analysis"
   ]
  },
  {
   "cell_type": "markdown",
   "id": "ea2fa263",
   "metadata": {},
   "source": [
    "### Cleaning our Dataset"
   ]
  },
  {
   "cell_type": "markdown",
   "id": "5bf18ba5",
   "metadata": {},
   "source": [
    "Some basic cleaning and verification:"
   ]
  },
  {
   "cell_type": "markdown",
   "id": "faf6a097",
   "metadata": {},
   "source": [
    "**Date field:**<br/>We can go ahead and turn out date into a Python DateTime object"
   ]
  },
  {
   "cell_type": "code",
   "execution_count": 615,
   "id": "1bae2563",
   "metadata": {},
   "outputs": [],
   "source": [
    "df['date'] = pd.to_datetime(df['date'])"
   ]
  },
  {
   "cell_type": "markdown",
   "id": "ff3cee07",
   "metadata": {},
   "source": [
    "**Age:**<br/> We have some missing values for age so we will also verify that they haven't ALSO been coded as 0 or 99 when age is missing:"
   ]
  },
  {
   "cell_type": "code",
   "execution_count": 616,
   "id": "df55f4ed",
   "metadata": {},
   "outputs": [],
   "source": [
    "assert((df['age'] <= 0).sum() + (df['age'] >= 99).sum() == 0)"
   ]
  },
  {
   "cell_type": "markdown",
   "id": "9618003e",
   "metadata": {},
   "source": [
    "First we will mark our NULL values as described above as \"unknown\""
   ]
  },
  {
   "cell_type": "code",
   "execution_count": 617,
   "id": "d0f099a7",
   "metadata": {},
   "outputs": [],
   "source": [
    "columns_to_replace_nan_vals = ['threat_type', 'flee_status','armed_with','city','county','gender','race']"
   ]
  },
  {
   "cell_type": "code",
   "execution_count": 618,
   "id": "178dc81b",
   "metadata": {},
   "outputs": [],
   "source": [
    "df.loc[:, columns_to_replace_nan_vals] = \\\n",
    "df.loc[:, columns_to_replace_nan_vals].fillna('unknown')"
   ]
  },
  {
   "cell_type": "code",
   "execution_count": 619,
   "id": "c74ff09a",
   "metadata": {},
   "outputs": [],
   "source": [
    "#Assert that we have replace ALL missing values for designated columns\n",
    "assert(df.loc[:, columns_to_replace_nan_vals].isna().sum().sum() == 0)"
   ]
  },
  {
   "cell_type": "markdown",
   "id": "b6b861b5",
   "metadata": {},
   "source": [
    "Next we will remove the columns not necessary for our analysis"
   ]
  },
  {
   "cell_type": "code",
   "execution_count": 620,
   "id": "9774cd1b",
   "metadata": {},
   "outputs": [],
   "source": [
    "df.drop(columns=['name', 'race_source'], inplace=True)"
   ]
  },
  {
   "cell_type": "markdown",
   "id": "1153f434",
   "metadata": {},
   "source": [
    "Now we will begin transforming/enriching our data:"
   ]
  },
  {
   "cell_type": "markdown",
   "id": "9cc0de12",
   "metadata": {},
   "source": [
    "#### Weapon (armed_with) Transformation"
   ]
  },
  {
   "cell_type": "markdown",
   "id": "98a75480",
   "metadata": {},
   "source": [
    "These are the unique weapon/weapon combinations in the dataset:"
   ]
  },
  {
   "cell_type": "code",
   "execution_count": 621,
   "id": "2255c633",
   "metadata": {},
   "outputs": [
    {
     "data": {
      "text/plain": [
       "array(['gun', 'unarmed', 'replica', 'other', 'knife', 'unknown',\n",
       "       'blunt_object', 'vehicle', 'undetermined', 'other;gun',\n",
       "       'blunt_object;blunt_object', 'gun;knife', 'knife;blunt_object',\n",
       "       'vehicle;gun', 'gun;vehicle', 'replica;vehicle',\n",
       "       'blunt_object;knife', 'knife;vehicle', 'vehicle;knife;other',\n",
       "       'replica;knife', 'other;blunt_object;knife'], dtype=object)"
      ]
     },
     "execution_count": 621,
     "metadata": {},
     "output_type": "execute_result"
    }
   ],
   "source": [
    "df['armed_with'].unique()"
   ]
  },
  {
   "cell_type": "markdown",
   "id": "05b2eeb4",
   "metadata": {},
   "source": [
    "This is obviously somewhat arbitrary in terms of ranking, but in theory is listed in order of danger/perceived danger level from the officer's standpoint:"
   ]
  },
  {
   "cell_type": "code",
   "execution_count": 622,
   "id": "8f061f55",
   "metadata": {},
   "outputs": [],
   "source": [
    "weapon_severity = {\n",
    "    'gun' : 1,\n",
    "    'vehicle': 2,\n",
    "    'replica':3,\n",
    "    'knife': 4,\n",
    "    'blunt_object':5,\n",
    "    'other':6,\n",
    "    'unarmed':7,\n",
    "    'undetermined':8,\n",
    "    'unknown':9,\n",
    "}"
   ]
  },
  {
   "cell_type": "markdown",
   "id": "81344a66",
   "metadata": {},
   "source": [
    "Now we will identify any records that have multiple weapons listed and ONLY get the most severe based on our severity ranking created above."
   ]
  },
  {
   "cell_type": "code",
   "execution_count": 623,
   "id": "8613fe98",
   "metadata": {},
   "outputs": [],
   "source": [
    "multi_wep_mask = df['armed_with'].str.contains(';')"
   ]
  },
  {
   "cell_type": "code",
   "execution_count": 624,
   "id": "af69cc14",
   "metadata": {},
   "outputs": [],
   "source": [
    "df.loc[multi_wep_mask, 'armed_with'] = \\\n",
    "df.loc[multi_wep_mask, 'armed_with'].str.split(';')\\\n",
    ".apply(lambda x: sorted(x, key=lambda y: weapon_severity[y])[0])"
   ]
  },
  {
   "cell_type": "code",
   "execution_count": 625,
   "id": "6a8205d5",
   "metadata": {},
   "outputs": [],
   "source": [
    "assert(df.iloc[4824]['armed_with'] == 'vehicle')#Should be VEHICLE, was previously: 'vehicle;knife;other'"
   ]
  },
  {
   "cell_type": "markdown",
   "id": "f322329a",
   "metadata": {},
   "source": [
    "Now let's take one more look and verify we dont have any multi-weapon records:"
   ]
  },
  {
   "cell_type": "code",
   "execution_count": 626,
   "id": "b6483d8f",
   "metadata": {},
   "outputs": [
    {
     "data": {
      "text/plain": [
       "array(['gun', 'unarmed', 'replica', 'other', 'knife', 'unknown',\n",
       "       'blunt_object', 'vehicle', 'undetermined'], dtype=object)"
      ]
     },
     "execution_count": 626,
     "metadata": {},
     "output_type": "execute_result"
    }
   ],
   "source": [
    "df['armed_with'].unique()"
   ]
  },
  {
   "cell_type": "markdown",
   "id": "87d320e5",
   "metadata": {},
   "source": [
    "#### Race Transformation\n",
    "We will first replace the short-hand versions of race with the full version for easier interpretation."
   ]
  },
  {
   "cell_type": "code",
   "execution_count": 627,
   "id": "e8faa784",
   "metadata": {},
   "outputs": [],
   "source": [
    "#Short-hand to longer description map\n",
    "race_map = {\n",
    "    'W':'White',\n",
    "    'B':'Black',\n",
    "    'A':'Asian Heritage',\n",
    "    'N':'Native American',\n",
    "    'H':'Hispanic',\n",
    "    'O':'Other',\n",
    "    '--':'unknown',\n",
    "    'unknown':'unknown',\n",
    "}"
   ]
  },
  {
   "cell_type": "code",
   "execution_count": 628,
   "id": "74a7fba1",
   "metadata": {},
   "outputs": [
    {
     "data": {
      "text/plain": [
       "7704    B;H\n",
       "Name: race, dtype: object"
      ]
     },
     "execution_count": 628,
     "metadata": {},
     "output_type": "execute_result"
    }
   ],
   "source": [
    "# We only have one record that lists the deceadant as two races \n",
    "df.loc[df['race'].str.contains(';'), 'race']"
   ]
  },
  {
   "cell_type": "code",
   "execution_count": 629,
   "id": "8bf887dd",
   "metadata": {},
   "outputs": [],
   "source": [
    "#We will fix any subjects that have multiple races listed\n",
    "multi_race_mask = df['race'].str.contains(';')\n",
    "df.loc[multi_race_mask, 'race'] = df.loc[multi_race_mask, 'race'].apply(lambda x: x[0])\n",
    "assert(len(df.loc[df['race'].str.contains(';'), 'race']) == 0) #Quickly verify we handeled all multi-race subjects"
   ]
  },
  {
   "cell_type": "code",
   "execution_count": 630,
   "id": "295d6101",
   "metadata": {},
   "outputs": [],
   "source": [
    "# Now we will map over our races and transform them into the long-form race descriptions\n",
    "df['race'] = df['race'].map(race_map)"
   ]
  },
  {
   "cell_type": "markdown",
   "id": "64a10a94",
   "metadata": {},
   "source": [
    "#### Obtaining missing latitude/longitude data based on city+state"
   ]
  },
  {
   "cell_type": "code",
   "execution_count": 631,
   "id": "00dc0cbd",
   "metadata": {},
   "outputs": [],
   "source": [
    "missing_geo_data = df.loc[(df['latitude'].isna()) | (df['longitude'].isna())].copy() \n",
    "#(copy) is toensure we arent referencing base DF"
   ]
  },
  {
   "cell_type": "code",
   "execution_count": 632,
   "id": "16d3577f",
   "metadata": {},
   "outputs": [],
   "source": [
    "missing_geo_data['city_state'] = missing_geo_data['city'] + ', ' + missing_geo_data['state'] + ', USA'"
   ]
  },
  {
   "cell_type": "code",
   "execution_count": 633,
   "id": "23dbfc82",
   "metadata": {},
   "outputs": [
    {
     "data": {
      "text/plain": [
       "773"
      ]
     },
     "execution_count": 633,
     "metadata": {},
     "output_type": "execute_result"
    }
   ],
   "source": [
    "len(missing_geo_data['city_state'].unique())"
   ]
  },
  {
   "cell_type": "markdown",
   "id": "4e7f292e",
   "metadata": {},
   "source": [
    "We need to geolocate 773 cities! Let's get to it! The first thing we will do is add a record to our missing_geo_data dataframe for the URL encoded address in the form of `city, state, USA` to pass off to Google Geocoding API"
   ]
  },
  {
   "cell_type": "code",
   "execution_count": 634,
   "id": "a7f2ecac",
   "metadata": {},
   "outputs": [],
   "source": [
    "missing_geo_data['url_address'] = \\\n",
    "missing_geo_data['city_state'].apply(lambda x: urllib.parse.quote(x))"
   ]
  },
  {
   "cell_type": "code",
   "execution_count": 635,
   "id": "d25b5d96",
   "metadata": {},
   "outputs": [
    {
     "data": {
      "text/plain": [
       "872               Weatherford%2C%20TX%2C%20USA\n",
       "1371    Chesterfield%20County%2C%20SC%2C%20USA\n",
       "1373                Flagstaff%2C%20AZ%2C%20USA\n",
       "1375                   Oxford%2C%20MA%2C%20USA\n",
       "1388                  Solvang%2C%20CA%2C%20USA\n",
       "Name: url_address, dtype: object"
      ]
     },
     "execution_count": 635,
     "metadata": {},
     "output_type": "execute_result"
    }
   ],
   "source": [
    "missing_geo_data['url_address'].head()"
   ]
  },
  {
   "cell_type": "markdown",
   "id": "868cd8c7",
   "metadata": {},
   "source": [
    "We will create a little helper dictionary so that we only have to geocode one city+state once if there are duplicates. This will also ensure that if our code stops/breaks at any point we don't have to re-geolocate that location."
   ]
  },
  {
   "cell_type": "code",
   "execution_count": 636,
   "id": "6f7c3456",
   "metadata": {},
   "outputs": [],
   "source": [
    "unique_address_dict = {}\n",
    "indexes = missing_geo_data.groupby('url_address').indices\n",
    "for key, value in indexes.items():\n",
    "    unique_address_dict[key] = {'row_indexes':list(value), 'coordinates':None, 'location_type':None}"
   ]
  },
  {
   "cell_type": "markdown",
   "id": "e47ccbac",
   "metadata": {},
   "source": [
    "Now we will loop through the unique addresses and geolocate them! If this hasn't already been done (e.g. no `geolocated_missing_data.pkl` file, you will need to provide a Google Maps Geocoding API key in order to locate the missing locations."
   ]
  },
  {
   "cell_type": "code",
   "execution_count": 637,
   "id": "613ff7e6",
   "metadata": {},
   "outputs": [],
   "source": [
    "if os.path.exists('../Data/geolocated_missing_data.pkl'):\n",
    "    \n",
    "    with open('../Data/geolocated_missing_data.pkl', 'rb') as dictionary_pickle:\n",
    "        unique_address_dict = pickle.load(dictionary_pickle)\n",
    "    \n",
    "else:\n",
    "    \n",
    "    api_key = getpass.getpass() #This requires a Google maps API key with Geocoding API enabled\n",
    "\n",
    "    for address, value in unique_address_dict.items():\n",
    "\n",
    "            #Only geolocate the data if we haven't already\n",
    "            if value['coordinates'] is None:\n",
    "\n",
    "                google_geocode_url = \"https://maps.googleapis.com/maps/api/geocode/json?address={}&key={}\"\\\n",
    "                .format(address, api_key)\n",
    "\n",
    "                geolocated_json = json.loads(requests.get(google_geocode_url).content)['results'][0]\n",
    "\n",
    "                coords = geolocated_json['geometry']['location']\n",
    "                location_type = geolocated_json['geometry']['location_type']\n",
    "\n",
    "                unique_address_dict[address]['coordinates'] = coords\n",
    "                unique_address_dict[address]['location_type'] = location_type\n",
    "                \n",
    "    with open('../Data/geolocated_missing_data.pkl', 'wb') as dictionary_pickle:\n",
    "         pickle.dump(unique_address_dict, dictionary_pickle, protocol=pickle.HIGHEST_PROTOCOL)"
   ]
  },
  {
   "cell_type": "markdown",
   "id": "fa259a53",
   "metadata": {},
   "source": [
    "Now that we have approximately geo-referenced our data we can update the base dataframe and clean up our data we no longer need."
   ]
  },
  {
   "cell_type": "code",
   "execution_count": 638,
   "id": "32333633",
   "metadata": {},
   "outputs": [],
   "source": [
    "for vals in unique_address_dict.values():\n",
    "    row_ind_list = vals['row_indexes']\n",
    "    for row_indx_ptr in row_ind_list:\n",
    "        row_idx = missing_geo_data.index[row_indx_ptr]\n",
    "        missing_geo_data.loc[row_idx, 'latitude'] = vals['coordinates']['lat']\n",
    "        missing_geo_data.loc[row_idx, 'longitude'] = vals['coordinates']['lng']\n",
    "        missing_geo_data.loc[row_idx, 'location_precision'] = 'GoogleLocated_' + vals['location_type']\n",
    "        \n",
    "#Update base data    \n",
    "df.update(missing_geo_data[['latitude', 'longitude', 'location_precision']])\n",
    "\n",
    "#Delete missing_geo_data DF and location dictionary now\n",
    "del missing_geo_data, unique_address_dict"
   ]
  },
  {
   "cell_type": "code",
   "execution_count": 639,
   "id": "a30960f0",
   "metadata": {},
   "outputs": [],
   "source": [
    "assert(df['latitude'].isna().sum() + df['longitude'].isna().sum() == 0)"
   ]
  },
  {
   "cell_type": "markdown",
   "id": "6752cafc",
   "metadata": {},
   "source": [
    "#### Agency Cleaning (Only listing one agency per shooting)"
   ]
  },
  {
   "cell_type": "markdown",
   "id": "334d9a4a",
   "metadata": {},
   "source": [
    "We have two shootings that DO NOT have an agency id listed, rather than dropping these, we will use the agency_id of another shooting that happened in the same city+county+state:"
   ]
  },
  {
   "cell_type": "code",
   "execution_count": 640,
   "id": "d2d0e030",
   "metadata": {},
   "outputs": [
    {
     "data": {
      "text/html": [
       "<div>\n",
       "<style scoped>\n",
       "    .dataframe tbody tr th:only-of-type {\n",
       "        vertical-align: middle;\n",
       "    }\n",
       "\n",
       "    .dataframe tbody tr th {\n",
       "        vertical-align: top;\n",
       "    }\n",
       "\n",
       "    .dataframe thead th {\n",
       "        text-align: right;\n",
       "    }\n",
       "</style>\n",
       "<table border=\"1\" class=\"dataframe\">\n",
       "  <thead>\n",
       "    <tr style=\"text-align: right;\">\n",
       "      <th></th>\n",
       "      <th>id</th>\n",
       "      <th>date</th>\n",
       "      <th>threat_type</th>\n",
       "      <th>flee_status</th>\n",
       "      <th>armed_with</th>\n",
       "      <th>city</th>\n",
       "      <th>county</th>\n",
       "      <th>state</th>\n",
       "      <th>latitude</th>\n",
       "      <th>longitude</th>\n",
       "      <th>location_precision</th>\n",
       "      <th>age</th>\n",
       "      <th>gender</th>\n",
       "      <th>race</th>\n",
       "      <th>was_mental_illness_related</th>\n",
       "      <th>body_camera</th>\n",
       "      <th>agency_ids</th>\n",
       "    </tr>\n",
       "  </thead>\n",
       "  <tbody>\n",
       "    <tr>\n",
       "      <th>8672</th>\n",
       "      <td>9435</td>\n",
       "      <td>2023-08-04</td>\n",
       "      <td>threat</td>\n",
       "      <td>foot</td>\n",
       "      <td>gun</td>\n",
       "      <td>Kingwood</td>\n",
       "      <td>Harris</td>\n",
       "      <td>TX</td>\n",
       "      <td>30.055926</td>\n",
       "      <td>-95.222457</td>\n",
       "      <td>poi_large</td>\n",
       "      <td>NaN</td>\n",
       "      <td>unknown</td>\n",
       "      <td>unknown</td>\n",
       "      <td>False</td>\n",
       "      <td>False</td>\n",
       "      <td>NaN</td>\n",
       "    </tr>\n",
       "    <tr>\n",
       "      <th>8676</th>\n",
       "      <td>9428</td>\n",
       "      <td>2023-08-05</td>\n",
       "      <td>shoot</td>\n",
       "      <td>unknown</td>\n",
       "      <td>gun</td>\n",
       "      <td>Columbia</td>\n",
       "      <td>Boone</td>\n",
       "      <td>MO</td>\n",
       "      <td>38.922324</td>\n",
       "      <td>-92.335543</td>\n",
       "      <td>address</td>\n",
       "      <td>22.0</td>\n",
       "      <td>male</td>\n",
       "      <td>unknown</td>\n",
       "      <td>True</td>\n",
       "      <td>True</td>\n",
       "      <td>NaN</td>\n",
       "    </tr>\n",
       "  </tbody>\n",
       "</table>\n",
       "</div>"
      ],
      "text/plain": [
       "        id       date threat_type flee_status armed_with      city  county  \\\n",
       "8672  9435 2023-08-04      threat        foot        gun  Kingwood  Harris   \n",
       "8676  9428 2023-08-05       shoot     unknown        gun  Columbia   Boone   \n",
       "\n",
       "     state   latitude  longitude location_precision   age   gender     race  \\\n",
       "8672    TX  30.055926 -95.222457          poi_large   NaN  unknown  unknown   \n",
       "8676    MO  38.922324 -92.335543            address  22.0     male  unknown   \n",
       "\n",
       "      was_mental_illness_related  body_camera agency_ids  \n",
       "8672                       False        False        NaN  \n",
       "8676                        True         True        NaN  "
      ]
     },
     "execution_count": 640,
     "metadata": {},
     "output_type": "execute_result"
    }
   ],
   "source": [
    "df.loc[df['agency_ids'].isna()]"
   ]
  },
  {
   "cell_type": "code",
   "execution_count": 641,
   "id": "56a3eb04",
   "metadata": {},
   "outputs": [],
   "source": [
    "df.loc[df['id'] == 9435, 'agency_ids'] =  \\\n",
    "list(df.loc[(df['state'] == 'TX') \\\n",
    "       & (df['county'] == 'Harris')  \\\n",
    "       & (df['city'] == 'Kingwood') \\\n",
    "       & (~df['agency_ids'].isna()), 'agency_ids'])[0]"
   ]
  },
  {
   "cell_type": "code",
   "execution_count": 642,
   "id": "4ee39b7c",
   "metadata": {},
   "outputs": [],
   "source": [
    "#This city+county+state combination has multiple listed, we will use the first\n",
    "df.loc[df['id'] == 9428, 'agency_ids'] = \\\n",
    "list(df.loc[(df['state'] == 'MO') \\\n",
    "       & (df['county'] == 'Boone')  \\\n",
    "       & (df['city'] == 'Columbia') \\\n",
    "       & (~df['agency_ids'].isna()), 'agency_ids'])[0]"
   ]
  },
  {
   "cell_type": "code",
   "execution_count": 643,
   "id": "c8017068",
   "metadata": {},
   "outputs": [],
   "source": [
    "assert(len(df.loc[df['agency_ids'].isna()]) == 0)"
   ]
  },
  {
   "cell_type": "markdown",
   "id": "5292378e",
   "metadata": {},
   "source": [
    "Now that we've handeled the missing agency ID's we can remove the shootings with multiple agencies. Of course if we were doing agency-specific related analysis we would handle this process differently."
   ]
  },
  {
   "cell_type": "code",
   "execution_count": 644,
   "id": "dbec4531",
   "metadata": {},
   "outputs": [],
   "source": [
    "multi_agency_mask = df['agency_ids'].str.contains(';')"
   ]
  },
  {
   "cell_type": "code",
   "execution_count": 645,
   "id": "f7e92f59",
   "metadata": {},
   "outputs": [],
   "source": [
    "df.loc[multi_agency_mask, 'agency_ids'] = df.loc[multi_agency_mask, 'agency_ids'].str.split(';').apply(lambda x: x[0])"
   ]
  },
  {
   "cell_type": "code",
   "execution_count": 646,
   "id": "38365c8d",
   "metadata": {},
   "outputs": [],
   "source": [
    "assert(df['agency_ids'].str.contains(';').sum() == 0)"
   ]
  },
  {
   "cell_type": "code",
   "execution_count": 647,
   "id": "6bf040cb",
   "metadata": {},
   "outputs": [],
   "source": [
    "df['agency_ids'] = df['agency_ids'].astype(int)"
   ]
  },
  {
   "cell_type": "markdown",
   "id": "b650858d",
   "metadata": {},
   "source": [
    "### Agency Dataset"
   ]
  },
  {
   "cell_type": "markdown",
   "id": "98e014a9",
   "metadata": {},
   "source": [
    "In order to enrich our data, we will also join the respective agency for the fatal shooting."
   ]
  },
  {
   "cell_type": "code",
   "execution_count": 648,
   "id": "4bd995e1",
   "metadata": {},
   "outputs": [
    {
     "data": {
      "text/html": [
       "<div>\n",
       "<style scoped>\n",
       "    .dataframe tbody tr th:only-of-type {\n",
       "        vertical-align: middle;\n",
       "    }\n",
       "\n",
       "    .dataframe tbody tr th {\n",
       "        vertical-align: top;\n",
       "    }\n",
       "\n",
       "    .dataframe thead th {\n",
       "        text-align: right;\n",
       "    }\n",
       "</style>\n",
       "<table border=\"1\" class=\"dataframe\">\n",
       "  <thead>\n",
       "    <tr style=\"text-align: right;\">\n",
       "      <th></th>\n",
       "      <th>id</th>\n",
       "      <th>name</th>\n",
       "      <th>type</th>\n",
       "      <th>oricodes</th>\n",
       "    </tr>\n",
       "  </thead>\n",
       "  <tbody>\n",
       "    <tr>\n",
       "      <th>0</th>\n",
       "      <td>3145</td>\n",
       "      <td>Abbeville County Sheriff's Office</td>\n",
       "      <td>sheriff</td>\n",
       "      <td>SC00100</td>\n",
       "    </tr>\n",
       "    <tr>\n",
       "      <th>1</th>\n",
       "      <td>2576</td>\n",
       "      <td>Aberdeen Police Department</td>\n",
       "      <td>local_police</td>\n",
       "      <td>WA01401</td>\n",
       "    </tr>\n",
       "    <tr>\n",
       "      <th>2</th>\n",
       "      <td>2114</td>\n",
       "      <td>Abilene Police Department</td>\n",
       "      <td>local_police</td>\n",
       "      <td>TX22101</td>\n",
       "    </tr>\n",
       "    <tr>\n",
       "      <th>3</th>\n",
       "      <td>2088</td>\n",
       "      <td>Abington Township Police Department</td>\n",
       "      <td>local_police</td>\n",
       "      <td>PA04601</td>\n",
       "    </tr>\n",
       "    <tr>\n",
       "      <th>4</th>\n",
       "      <td>3187</td>\n",
       "      <td>Acadia Parish Sheriff's Office</td>\n",
       "      <td>sheriff</td>\n",
       "      <td>LA00100</td>\n",
       "    </tr>\n",
       "  </tbody>\n",
       "</table>\n",
       "</div>"
      ],
      "text/plain": [
       "     id                                 name          type oricodes\n",
       "0  3145    Abbeville County Sheriff's Office       sheriff  SC00100\n",
       "1  2576           Aberdeen Police Department  local_police  WA01401\n",
       "2  2114            Abilene Police Department  local_police  TX22101\n",
       "3  2088  Abington Township Police Department  local_police  PA04601\n",
       "4  3187       Acadia Parish Sheriff's Office       sheriff  LA00100"
      ]
     },
     "execution_count": 648,
     "metadata": {},
     "output_type": "execute_result"
    }
   ],
   "source": [
    "agency_df.head()"
   ]
  },
  {
   "cell_type": "code",
   "execution_count": 649,
   "id": "ef7c8977",
   "metadata": {},
   "outputs": [],
   "source": [
    "agency_df.drop(columns=['oricodes'], inplace=True) #Not required for our analysis\n",
    "agency_df = agency_df.rename(columns={'id':'agency_ids', 'name':'agency_name', 'type':'agency_type'}) #For easier merging"
   ]
  },
  {
   "cell_type": "markdown",
   "id": "09c7b98d",
   "metadata": {},
   "source": [
    "Now we can merge out data with the agency data"
   ]
  },
  {
   "cell_type": "code",
   "execution_count": 650,
   "id": "d8d85b68",
   "metadata": {},
   "outputs": [],
   "source": [
    "df = pd.merge(df, agency_df, how='left', left_on='agency_ids', right_on='agency_ids')"
   ]
  },
  {
   "cell_type": "code",
   "execution_count": 651,
   "id": "09c3127d",
   "metadata": {},
   "outputs": [
    {
     "data": {
      "text/html": [
       "<div>\n",
       "<style scoped>\n",
       "    .dataframe tbody tr th:only-of-type {\n",
       "        vertical-align: middle;\n",
       "    }\n",
       "\n",
       "    .dataframe tbody tr th {\n",
       "        vertical-align: top;\n",
       "    }\n",
       "\n",
       "    .dataframe thead th {\n",
       "        text-align: right;\n",
       "    }\n",
       "</style>\n",
       "<table border=\"1\" class=\"dataframe\">\n",
       "  <thead>\n",
       "    <tr style=\"text-align: right;\">\n",
       "      <th></th>\n",
       "      <th>id</th>\n",
       "      <th>date</th>\n",
       "      <th>threat_type</th>\n",
       "      <th>flee_status</th>\n",
       "      <th>armed_with</th>\n",
       "      <th>city</th>\n",
       "      <th>county</th>\n",
       "      <th>state</th>\n",
       "      <th>latitude</th>\n",
       "      <th>longitude</th>\n",
       "      <th>location_precision</th>\n",
       "      <th>age</th>\n",
       "      <th>gender</th>\n",
       "      <th>race</th>\n",
       "      <th>was_mental_illness_related</th>\n",
       "      <th>body_camera</th>\n",
       "      <th>agency_ids</th>\n",
       "      <th>agency_name</th>\n",
       "      <th>agency_type</th>\n",
       "    </tr>\n",
       "  </thead>\n",
       "  <tbody>\n",
       "    <tr>\n",
       "      <th>0</th>\n",
       "      <td>3</td>\n",
       "      <td>2015-01-02</td>\n",
       "      <td>point</td>\n",
       "      <td>not</td>\n",
       "      <td>gun</td>\n",
       "      <td>Shelton</td>\n",
       "      <td>Mason</td>\n",
       "      <td>WA</td>\n",
       "      <td>47.246826</td>\n",
       "      <td>-123.121592</td>\n",
       "      <td>not_available</td>\n",
       "      <td>53.0</td>\n",
       "      <td>male</td>\n",
       "      <td>Asian Heritage</td>\n",
       "      <td>True</td>\n",
       "      <td>False</td>\n",
       "      <td>73</td>\n",
       "      <td>Mason County Sheriff's Office</td>\n",
       "      <td>sheriff</td>\n",
       "    </tr>\n",
       "    <tr>\n",
       "      <th>1</th>\n",
       "      <td>4</td>\n",
       "      <td>2015-01-02</td>\n",
       "      <td>point</td>\n",
       "      <td>not</td>\n",
       "      <td>gun</td>\n",
       "      <td>Aloha</td>\n",
       "      <td>Washington</td>\n",
       "      <td>OR</td>\n",
       "      <td>45.487421</td>\n",
       "      <td>-122.891696</td>\n",
       "      <td>not_available</td>\n",
       "      <td>47.0</td>\n",
       "      <td>male</td>\n",
       "      <td>White</td>\n",
       "      <td>False</td>\n",
       "      <td>False</td>\n",
       "      <td>70</td>\n",
       "      <td>Washington County Sheriff's Office</td>\n",
       "      <td>sheriff</td>\n",
       "    </tr>\n",
       "    <tr>\n",
       "      <th>2</th>\n",
       "      <td>5</td>\n",
       "      <td>2015-01-03</td>\n",
       "      <td>move</td>\n",
       "      <td>not</td>\n",
       "      <td>unarmed</td>\n",
       "      <td>Wichita</td>\n",
       "      <td>Sedgwick</td>\n",
       "      <td>KS</td>\n",
       "      <td>37.694766</td>\n",
       "      <td>-97.280554</td>\n",
       "      <td>not_available</td>\n",
       "      <td>23.0</td>\n",
       "      <td>male</td>\n",
       "      <td>Hispanic</td>\n",
       "      <td>False</td>\n",
       "      <td>False</td>\n",
       "      <td>238</td>\n",
       "      <td>Wichita Police Department</td>\n",
       "      <td>local_police</td>\n",
       "    </tr>\n",
       "    <tr>\n",
       "      <th>3</th>\n",
       "      <td>8</td>\n",
       "      <td>2015-01-04</td>\n",
       "      <td>point</td>\n",
       "      <td>not</td>\n",
       "      <td>replica</td>\n",
       "      <td>San Francisco</td>\n",
       "      <td>San Francisco</td>\n",
       "      <td>CA</td>\n",
       "      <td>37.762910</td>\n",
       "      <td>-122.422001</td>\n",
       "      <td>not_available</td>\n",
       "      <td>32.0</td>\n",
       "      <td>male</td>\n",
       "      <td>White</td>\n",
       "      <td>True</td>\n",
       "      <td>False</td>\n",
       "      <td>196</td>\n",
       "      <td>San Francisco Police Department</td>\n",
       "      <td>local_police</td>\n",
       "    </tr>\n",
       "    <tr>\n",
       "      <th>4</th>\n",
       "      <td>9</td>\n",
       "      <td>2015-01-04</td>\n",
       "      <td>point</td>\n",
       "      <td>not</td>\n",
       "      <td>other</td>\n",
       "      <td>Evans</td>\n",
       "      <td>Weld</td>\n",
       "      <td>CO</td>\n",
       "      <td>40.383937</td>\n",
       "      <td>-104.692261</td>\n",
       "      <td>not_available</td>\n",
       "      <td>39.0</td>\n",
       "      <td>male</td>\n",
       "      <td>Hispanic</td>\n",
       "      <td>False</td>\n",
       "      <td>False</td>\n",
       "      <td>473</td>\n",
       "      <td>Evans Police Department</td>\n",
       "      <td>local_police</td>\n",
       "    </tr>\n",
       "  </tbody>\n",
       "</table>\n",
       "</div>"
      ],
      "text/plain": [
       "   id       date threat_type flee_status armed_with           city  \\\n",
       "0   3 2015-01-02       point         not        gun        Shelton   \n",
       "1   4 2015-01-02       point         not        gun          Aloha   \n",
       "2   5 2015-01-03        move         not    unarmed        Wichita   \n",
       "3   8 2015-01-04       point         not    replica  San Francisco   \n",
       "4   9 2015-01-04       point         not      other          Evans   \n",
       "\n",
       "          county state   latitude   longitude location_precision   age gender  \\\n",
       "0          Mason    WA  47.246826 -123.121592      not_available  53.0   male   \n",
       "1     Washington    OR  45.487421 -122.891696      not_available  47.0   male   \n",
       "2       Sedgwick    KS  37.694766  -97.280554      not_available  23.0   male   \n",
       "3  San Francisco    CA  37.762910 -122.422001      not_available  32.0   male   \n",
       "4           Weld    CO  40.383937 -104.692261      not_available  39.0   male   \n",
       "\n",
       "             race  was_mental_illness_related  body_camera  agency_ids  \\\n",
       "0  Asian Heritage                        True        False          73   \n",
       "1           White                       False        False          70   \n",
       "2        Hispanic                       False        False         238   \n",
       "3           White                        True        False         196   \n",
       "4        Hispanic                       False        False         473   \n",
       "\n",
       "                          agency_name   agency_type  \n",
       "0       Mason County Sheriff's Office       sheriff  \n",
       "1  Washington County Sheriff's Office       sheriff  \n",
       "2           Wichita Police Department  local_police  \n",
       "3     San Francisco Police Department  local_police  \n",
       "4             Evans Police Department  local_police  "
      ]
     },
     "execution_count": 651,
     "metadata": {},
     "output_type": "execute_result"
    }
   ],
   "source": [
    "df.head()"
   ]
  },
  {
   "cell_type": "markdown",
   "id": "5845e511",
   "metadata": {},
   "source": [
    "### Final Data Inspection / Export"
   ]
  },
  {
   "cell_type": "markdown",
   "id": "4ef09063",
   "metadata": {},
   "source": [
    "We will rename armed_with to \"primary_weapon\""
   ]
  },
  {
   "cell_type": "code",
   "execution_count": 652,
   "id": "d4b477f1",
   "metadata": {},
   "outputs": [],
   "source": [
    "df = df.rename(columns={'armed_with':'primary_weapon'})"
   ]
  },
  {
   "cell_type": "code",
   "execution_count": 653,
   "id": "8b01375a",
   "metadata": {},
   "outputs": [],
   "source": [
    "df = df.set_index('id')"
   ]
  },
  {
   "cell_type": "code",
   "execution_count": 654,
   "id": "0a882206",
   "metadata": {},
   "outputs": [
    {
     "data": {
      "text/html": [
       "<div>\n",
       "<style scoped>\n",
       "    .dataframe tbody tr th:only-of-type {\n",
       "        vertical-align: middle;\n",
       "    }\n",
       "\n",
       "    .dataframe tbody tr th {\n",
       "        vertical-align: top;\n",
       "    }\n",
       "\n",
       "    .dataframe thead th {\n",
       "        text-align: right;\n",
       "    }\n",
       "</style>\n",
       "<table border=\"1\" class=\"dataframe\">\n",
       "  <thead>\n",
       "    <tr style=\"text-align: right;\">\n",
       "      <th></th>\n",
       "      <th>date</th>\n",
       "      <th>threat_type</th>\n",
       "      <th>flee_status</th>\n",
       "      <th>primary_weapon</th>\n",
       "      <th>city</th>\n",
       "      <th>county</th>\n",
       "      <th>state</th>\n",
       "      <th>latitude</th>\n",
       "      <th>longitude</th>\n",
       "      <th>location_precision</th>\n",
       "      <th>age</th>\n",
       "      <th>gender</th>\n",
       "      <th>race</th>\n",
       "      <th>was_mental_illness_related</th>\n",
       "      <th>body_camera</th>\n",
       "      <th>agency_ids</th>\n",
       "      <th>agency_name</th>\n",
       "      <th>agency_type</th>\n",
       "    </tr>\n",
       "    <tr>\n",
       "      <th>id</th>\n",
       "      <th></th>\n",
       "      <th></th>\n",
       "      <th></th>\n",
       "      <th></th>\n",
       "      <th></th>\n",
       "      <th></th>\n",
       "      <th></th>\n",
       "      <th></th>\n",
       "      <th></th>\n",
       "      <th></th>\n",
       "      <th></th>\n",
       "      <th></th>\n",
       "      <th></th>\n",
       "      <th></th>\n",
       "      <th></th>\n",
       "      <th></th>\n",
       "      <th></th>\n",
       "      <th></th>\n",
       "    </tr>\n",
       "  </thead>\n",
       "  <tbody>\n",
       "    <tr>\n",
       "      <th>3</th>\n",
       "      <td>2015-01-02</td>\n",
       "      <td>point</td>\n",
       "      <td>not</td>\n",
       "      <td>gun</td>\n",
       "      <td>Shelton</td>\n",
       "      <td>Mason</td>\n",
       "      <td>WA</td>\n",
       "      <td>47.246826</td>\n",
       "      <td>-123.121592</td>\n",
       "      <td>not_available</td>\n",
       "      <td>53.0</td>\n",
       "      <td>male</td>\n",
       "      <td>Asian Heritage</td>\n",
       "      <td>True</td>\n",
       "      <td>False</td>\n",
       "      <td>73</td>\n",
       "      <td>Mason County Sheriff's Office</td>\n",
       "      <td>sheriff</td>\n",
       "    </tr>\n",
       "    <tr>\n",
       "      <th>4</th>\n",
       "      <td>2015-01-02</td>\n",
       "      <td>point</td>\n",
       "      <td>not</td>\n",
       "      <td>gun</td>\n",
       "      <td>Aloha</td>\n",
       "      <td>Washington</td>\n",
       "      <td>OR</td>\n",
       "      <td>45.487421</td>\n",
       "      <td>-122.891696</td>\n",
       "      <td>not_available</td>\n",
       "      <td>47.0</td>\n",
       "      <td>male</td>\n",
       "      <td>White</td>\n",
       "      <td>False</td>\n",
       "      <td>False</td>\n",
       "      <td>70</td>\n",
       "      <td>Washington County Sheriff's Office</td>\n",
       "      <td>sheriff</td>\n",
       "    </tr>\n",
       "    <tr>\n",
       "      <th>5</th>\n",
       "      <td>2015-01-03</td>\n",
       "      <td>move</td>\n",
       "      <td>not</td>\n",
       "      <td>unarmed</td>\n",
       "      <td>Wichita</td>\n",
       "      <td>Sedgwick</td>\n",
       "      <td>KS</td>\n",
       "      <td>37.694766</td>\n",
       "      <td>-97.280554</td>\n",
       "      <td>not_available</td>\n",
       "      <td>23.0</td>\n",
       "      <td>male</td>\n",
       "      <td>Hispanic</td>\n",
       "      <td>False</td>\n",
       "      <td>False</td>\n",
       "      <td>238</td>\n",
       "      <td>Wichita Police Department</td>\n",
       "      <td>local_police</td>\n",
       "    </tr>\n",
       "    <tr>\n",
       "      <th>8</th>\n",
       "      <td>2015-01-04</td>\n",
       "      <td>point</td>\n",
       "      <td>not</td>\n",
       "      <td>replica</td>\n",
       "      <td>San Francisco</td>\n",
       "      <td>San Francisco</td>\n",
       "      <td>CA</td>\n",
       "      <td>37.762910</td>\n",
       "      <td>-122.422001</td>\n",
       "      <td>not_available</td>\n",
       "      <td>32.0</td>\n",
       "      <td>male</td>\n",
       "      <td>White</td>\n",
       "      <td>True</td>\n",
       "      <td>False</td>\n",
       "      <td>196</td>\n",
       "      <td>San Francisco Police Department</td>\n",
       "      <td>local_police</td>\n",
       "    </tr>\n",
       "    <tr>\n",
       "      <th>9</th>\n",
       "      <td>2015-01-04</td>\n",
       "      <td>point</td>\n",
       "      <td>not</td>\n",
       "      <td>other</td>\n",
       "      <td>Evans</td>\n",
       "      <td>Weld</td>\n",
       "      <td>CO</td>\n",
       "      <td>40.383937</td>\n",
       "      <td>-104.692261</td>\n",
       "      <td>not_available</td>\n",
       "      <td>39.0</td>\n",
       "      <td>male</td>\n",
       "      <td>Hispanic</td>\n",
       "      <td>False</td>\n",
       "      <td>False</td>\n",
       "      <td>473</td>\n",
       "      <td>Evans Police Department</td>\n",
       "      <td>local_police</td>\n",
       "    </tr>\n",
       "  </tbody>\n",
       "</table>\n",
       "</div>"
      ],
      "text/plain": [
       "         date threat_type flee_status primary_weapon           city  \\\n",
       "id                                                                    \n",
       "3  2015-01-02       point         not            gun        Shelton   \n",
       "4  2015-01-02       point         not            gun          Aloha   \n",
       "5  2015-01-03        move         not        unarmed        Wichita   \n",
       "8  2015-01-04       point         not        replica  San Francisco   \n",
       "9  2015-01-04       point         not          other          Evans   \n",
       "\n",
       "           county state   latitude   longitude location_precision   age  \\\n",
       "id                                                                        \n",
       "3           Mason    WA  47.246826 -123.121592      not_available  53.0   \n",
       "4      Washington    OR  45.487421 -122.891696      not_available  47.0   \n",
       "5        Sedgwick    KS  37.694766  -97.280554      not_available  23.0   \n",
       "8   San Francisco    CA  37.762910 -122.422001      not_available  32.0   \n",
       "9            Weld    CO  40.383937 -104.692261      not_available  39.0   \n",
       "\n",
       "   gender            race  was_mental_illness_related  body_camera  \\\n",
       "id                                                                   \n",
       "3    male  Asian Heritage                        True        False   \n",
       "4    male           White                       False        False   \n",
       "5    male        Hispanic                       False        False   \n",
       "8    male           White                        True        False   \n",
       "9    male        Hispanic                       False        False   \n",
       "\n",
       "    agency_ids                         agency_name   agency_type  \n",
       "id                                                                \n",
       "3           73       Mason County Sheriff's Office       sheriff  \n",
       "4           70  Washington County Sheriff's Office       sheriff  \n",
       "5          238           Wichita Police Department  local_police  \n",
       "8          196     San Francisco Police Department  local_police  \n",
       "9          473             Evans Police Department  local_police  "
      ]
     },
     "execution_count": 654,
     "metadata": {},
     "output_type": "execute_result"
    }
   ],
   "source": [
    "df.head()"
   ]
  },
  {
   "cell_type": "code",
   "execution_count": 655,
   "id": "7000d0a2",
   "metadata": {},
   "outputs": [],
   "source": [
    "assert(len(df) == 8735) # After ALL of our processing, let's just verify our data is still correct and nothing got lost"
   ]
  }
 ],
 "metadata": {
  "kernelspec": {
   "display_name": "Python 3 (ipykernel)",
   "language": "python",
   "name": "python3"
  },
  "language_info": {
   "codemirror_mode": {
    "name": "ipython",
    "version": 3
   },
   "file_extension": ".py",
   "mimetype": "text/x-python",
   "name": "python",
   "nbconvert_exporter": "python",
   "pygments_lexer": "ipython3",
   "version": "3.11.4"
  }
 },
 "nbformat": 4,
 "nbformat_minor": 5
}

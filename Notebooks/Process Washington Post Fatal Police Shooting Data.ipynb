{
 "cells": [
  {
   "cell_type": "markdown",
   "id": "2f79fd6b",
   "metadata": {},
   "source": [
    "# Summary\n",
    "*Author: Patrick S. Flynn*  \n",
    "*September, 2023*"
   ]
  },
  {
   "cell_type": "markdown",
   "id": "94f4f9df",
   "metadata": {},
   "source": [
    "The purpose of this data processing is to prepare Fatal Police Shooting data (2015 - 2023-09-06) provided by the Washington Post (see attributions below) for further analysis. This process will include:\n",
    "- cleaning any bad data\n",
    "- Replacing missing values\n",
    "- Transforming features for easier demographic/geographic analysis\n",
    "- Uploading the data to a public space so others can provide their own insights\n",
    "\n",
    "The end goal of this process and the data within is to be used as a means to inform and educate policy makers, law enforcement entities, the private sector, and most importantly the communities affected regarding the shooting deaths between the police and public. This data should aim to generate new questions and insights about ways we as a society can reduce these shooting deaths by 50% in the next 10 years."
   ]
  },
  {
   "cell_type": "markdown",
   "id": "39e2781c",
   "metadata": {},
   "source": [
    "### Required Libraries"
   ]
  },
  {
   "cell_type": "code",
   "execution_count": 97,
   "id": "ab8c32c6",
   "metadata": {},
   "outputs": [],
   "source": [
    "#Base Python libraries\n",
    "import requests\n",
    "import os\n",
    "import getpass\n",
    "import urllib\n",
    "import json\n",
    "import pickle\n",
    "import datetime as dt\n",
    "\n",
    "#Data Sci/Analysis libraries\n",
    "import numpy as np\n",
    "import pandas as pd\n",
    "\n",
    "#Visualization Libraries\n",
    "import matplotlib.pyplot as plt\n",
    "import seaborn as sns\n",
    "\n",
    "#ESRI ArcGIS \n",
    "from arcgis.gis import GIS"
   ]
  },
  {
   "cell_type": "markdown",
   "id": "4b0ae4ff",
   "metadata": {},
   "source": [
    "### Sources"
   ]
  },
  {
   "cell_type": "markdown",
   "id": "08ba005b",
   "metadata": {},
   "source": [
    "Washington Post Github Repo:\n",
    "- <a href=\"https://github.com/washingtonpost/data-police-shootings/\">https://github.com/washingtonpost/data-police-shootings/</a>\n",
    "\n",
    "Data Dictionary:\n",
    "- <a href=\"https://github.com/washingtonpost/data-police-shootings/blob/master/v2/README.md\">https://github.com/washingtonpost/data-police-shootings/blob/master/v2/README.md</a>"
   ]
  },
  {
   "cell_type": "markdown",
   "id": "da03f5d5",
   "metadata": {},
   "source": [
    "### Download Data from Washington Post Github Repo"
   ]
  },
  {
   "cell_type": "markdown",
   "id": "b1963958",
   "metadata": {},
   "source": [
    "We will be downloading two data sources:\n",
    "   - The actual fatal police shootings (fatal-police-shootings-data.csv)\n",
    "   - Agency information (such as department type, state, ORI codes, etc)"
   ]
  },
  {
   "cell_type": "code",
   "execution_count": 98,
   "id": "643b1274",
   "metadata": {},
   "outputs": [],
   "source": [
    "data_url = \"https://raw.githubusercontent.com/washingtonpost/data-police-shootings/master/v2/fatal-police-shootings-data.csv\"\n",
    "\n",
    "#Put on two lines for readability\n",
    "agency_url = \\\n",
    "\"https://raw.githubusercontent.com/washingtonpost/data-police-shootings/master/v2/fatal-police-shootings-agencies.csv\""
   ]
  },
  {
   "cell_type": "markdown",
   "id": "49a422c1",
   "metadata": {},
   "source": [
    "We will only download this data if it already doesn't exist in our repo: (current date/time of download 2023-09-15 20:00 UTC)"
   ]
  },
  {
   "cell_type": "code",
   "execution_count": 99,
   "id": "edc329a9",
   "metadata": {},
   "outputs": [],
   "source": [
    "if ~ os.path.exists('../Data/fatal-police-shootings-data.csv'):\n",
    "    data_csv = requests.get(data_url).content\n",
    "    with open('../Data/fatal-police-shootings-data.csv', 'wb') as csv_file:\n",
    "        csv_file.write(data_csv)\n",
    "        \n",
    "if ~ os.path.exists('../Data/fatal-police-shootings-agencies.csv'):\n",
    "    data_csv = requests.get(agency_url).content\n",
    "    with open('../Data/fatal-police-shootings-agencies.csv', 'wb') as csv_file:\n",
    "        csv_file.write(data_csv)"
   ]
  },
  {
   "cell_type": "markdown",
   "id": "fd8e5d59",
   "metadata": {},
   "source": [
    "### Inspection of Shooting Dataset"
   ]
  },
  {
   "cell_type": "code",
   "execution_count": 100,
   "id": "b22a1009",
   "metadata": {},
   "outputs": [],
   "source": [
    "df = pd.read_csv('../Data/fatal-police-shootings-data.csv')\n",
    "agency_df = pd.read_csv('../Data/fatal-police-shootings-agencies.csv').drop(columns=['total_shootings', 'state'])"
   ]
  },
  {
   "cell_type": "code",
   "execution_count": 101,
   "id": "a3bf87b4",
   "metadata": {},
   "outputs": [
    {
     "data": {
      "text/html": [
       "<div>\n",
       "<style scoped>\n",
       "    .dataframe tbody tr th:only-of-type {\n",
       "        vertical-align: middle;\n",
       "    }\n",
       "\n",
       "    .dataframe tbody tr th {\n",
       "        vertical-align: top;\n",
       "    }\n",
       "\n",
       "    .dataframe thead th {\n",
       "        text-align: right;\n",
       "    }\n",
       "</style>\n",
       "<table border=\"1\" class=\"dataframe\">\n",
       "  <thead>\n",
       "    <tr style=\"text-align: right;\">\n",
       "      <th></th>\n",
       "      <th>id</th>\n",
       "      <th>date</th>\n",
       "      <th>threat_type</th>\n",
       "      <th>flee_status</th>\n",
       "      <th>armed_with</th>\n",
       "      <th>city</th>\n",
       "      <th>county</th>\n",
       "      <th>state</th>\n",
       "      <th>latitude</th>\n",
       "      <th>longitude</th>\n",
       "      <th>location_precision</th>\n",
       "      <th>name</th>\n",
       "      <th>age</th>\n",
       "      <th>gender</th>\n",
       "      <th>race</th>\n",
       "      <th>race_source</th>\n",
       "      <th>was_mental_illness_related</th>\n",
       "      <th>body_camera</th>\n",
       "      <th>agency_ids</th>\n",
       "    </tr>\n",
       "  </thead>\n",
       "  <tbody>\n",
       "    <tr>\n",
       "      <th>0</th>\n",
       "      <td>3</td>\n",
       "      <td>2015-01-02</td>\n",
       "      <td>point</td>\n",
       "      <td>not</td>\n",
       "      <td>gun</td>\n",
       "      <td>Shelton</td>\n",
       "      <td>Mason</td>\n",
       "      <td>WA</td>\n",
       "      <td>47.246826</td>\n",
       "      <td>-123.121592</td>\n",
       "      <td>not_available</td>\n",
       "      <td>Tim Elliot</td>\n",
       "      <td>53.0</td>\n",
       "      <td>male</td>\n",
       "      <td>A</td>\n",
       "      <td>not_available</td>\n",
       "      <td>True</td>\n",
       "      <td>False</td>\n",
       "      <td>73</td>\n",
       "    </tr>\n",
       "    <tr>\n",
       "      <th>1</th>\n",
       "      <td>4</td>\n",
       "      <td>2015-01-02</td>\n",
       "      <td>point</td>\n",
       "      <td>not</td>\n",
       "      <td>gun</td>\n",
       "      <td>Aloha</td>\n",
       "      <td>Washington</td>\n",
       "      <td>OR</td>\n",
       "      <td>45.487421</td>\n",
       "      <td>-122.891696</td>\n",
       "      <td>not_available</td>\n",
       "      <td>Lewis Lee Lembke</td>\n",
       "      <td>47.0</td>\n",
       "      <td>male</td>\n",
       "      <td>W</td>\n",
       "      <td>not_available</td>\n",
       "      <td>False</td>\n",
       "      <td>False</td>\n",
       "      <td>70</td>\n",
       "    </tr>\n",
       "    <tr>\n",
       "      <th>2</th>\n",
       "      <td>5</td>\n",
       "      <td>2015-01-03</td>\n",
       "      <td>move</td>\n",
       "      <td>not</td>\n",
       "      <td>unarmed</td>\n",
       "      <td>Wichita</td>\n",
       "      <td>Sedgwick</td>\n",
       "      <td>KS</td>\n",
       "      <td>37.694766</td>\n",
       "      <td>-97.280554</td>\n",
       "      <td>not_available</td>\n",
       "      <td>John Paul Quintero</td>\n",
       "      <td>23.0</td>\n",
       "      <td>male</td>\n",
       "      <td>H</td>\n",
       "      <td>not_available</td>\n",
       "      <td>False</td>\n",
       "      <td>False</td>\n",
       "      <td>238</td>\n",
       "    </tr>\n",
       "    <tr>\n",
       "      <th>3</th>\n",
       "      <td>8</td>\n",
       "      <td>2015-01-04</td>\n",
       "      <td>point</td>\n",
       "      <td>not</td>\n",
       "      <td>replica</td>\n",
       "      <td>San Francisco</td>\n",
       "      <td>San Francisco</td>\n",
       "      <td>CA</td>\n",
       "      <td>37.762910</td>\n",
       "      <td>-122.422001</td>\n",
       "      <td>not_available</td>\n",
       "      <td>Matthew Hoffman</td>\n",
       "      <td>32.0</td>\n",
       "      <td>male</td>\n",
       "      <td>W</td>\n",
       "      <td>not_available</td>\n",
       "      <td>True</td>\n",
       "      <td>False</td>\n",
       "      <td>196</td>\n",
       "    </tr>\n",
       "    <tr>\n",
       "      <th>4</th>\n",
       "      <td>9</td>\n",
       "      <td>2015-01-04</td>\n",
       "      <td>point</td>\n",
       "      <td>not</td>\n",
       "      <td>other</td>\n",
       "      <td>Evans</td>\n",
       "      <td>Weld</td>\n",
       "      <td>CO</td>\n",
       "      <td>40.383937</td>\n",
       "      <td>-104.692261</td>\n",
       "      <td>not_available</td>\n",
       "      <td>Michael Rodriguez</td>\n",
       "      <td>39.0</td>\n",
       "      <td>male</td>\n",
       "      <td>H</td>\n",
       "      <td>not_available</td>\n",
       "      <td>False</td>\n",
       "      <td>False</td>\n",
       "      <td>473</td>\n",
       "    </tr>\n",
       "  </tbody>\n",
       "</table>\n",
       "</div>"
      ],
      "text/plain": [
       "   id        date threat_type flee_status armed_with           city  \\\n",
       "0   3  2015-01-02       point         not        gun        Shelton   \n",
       "1   4  2015-01-02       point         not        gun          Aloha   \n",
       "2   5  2015-01-03        move         not    unarmed        Wichita   \n",
       "3   8  2015-01-04       point         not    replica  San Francisco   \n",
       "4   9  2015-01-04       point         not      other          Evans   \n",
       "\n",
       "          county state   latitude   longitude location_precision  \\\n",
       "0          Mason    WA  47.246826 -123.121592      not_available   \n",
       "1     Washington    OR  45.487421 -122.891696      not_available   \n",
       "2       Sedgwick    KS  37.694766  -97.280554      not_available   \n",
       "3  San Francisco    CA  37.762910 -122.422001      not_available   \n",
       "4           Weld    CO  40.383937 -104.692261      not_available   \n",
       "\n",
       "                 name   age gender race    race_source  \\\n",
       "0          Tim Elliot  53.0   male    A  not_available   \n",
       "1    Lewis Lee Lembke  47.0   male    W  not_available   \n",
       "2  John Paul Quintero  23.0   male    H  not_available   \n",
       "3     Matthew Hoffman  32.0   male    W  not_available   \n",
       "4   Michael Rodriguez  39.0   male    H  not_available   \n",
       "\n",
       "   was_mental_illness_related  body_camera agency_ids  \n",
       "0                        True        False         73  \n",
       "1                       False        False         70  \n",
       "2                       False        False        238  \n",
       "3                        True        False        196  \n",
       "4                       False        False        473  "
      ]
     },
     "execution_count": 101,
     "metadata": {},
     "output_type": "execute_result"
    }
   ],
   "source": [
    "df.head()"
   ]
  },
  {
   "cell_type": "code",
   "execution_count": 102,
   "id": "5641bb40",
   "metadata": {},
   "outputs": [
    {
     "name": "stdout",
     "output_type": "stream",
     "text": [
      "<class 'pandas.core.frame.DataFrame'>\n",
      "RangeIndex: 8735 entries, 0 to 8734\n",
      "Data columns (total 19 columns):\n",
      " #   Column                      Non-Null Count  Dtype  \n",
      "---  ------                      --------------  -----  \n",
      " 0   id                          8735 non-null   int64  \n",
      " 1   date                        8735 non-null   object \n",
      " 2   threat_type                 8692 non-null   object \n",
      " 3   flee_status                 7558 non-null   object \n",
      " 4   armed_with                  8525 non-null   object \n",
      " 5   city                        8681 non-null   object \n",
      " 6   county                      3879 non-null   object \n",
      " 7   state                       8735 non-null   object \n",
      " 8   latitude                    7755 non-null   float64\n",
      " 9   longitude                   7755 non-null   float64\n",
      " 10  location_precision          7755 non-null   object \n",
      " 11  name                        8158 non-null   object \n",
      " 12  age                         8134 non-null   float64\n",
      " 13  gender                      8685 non-null   object \n",
      " 14  race                        7336 non-null   object \n",
      " 15  race_source                 7358 non-null   object \n",
      " 16  was_mental_illness_related  8735 non-null   bool   \n",
      " 17  body_camera                 8735 non-null   bool   \n",
      " 18  agency_ids                  8734 non-null   object \n",
      "dtypes: bool(2), float64(3), int64(1), object(13)\n",
      "memory usage: 1.1+ MB\n"
     ]
    }
   ],
   "source": [
    "df.info()"
   ]
  },
  {
   "cell_type": "markdown",
   "id": "01765a8c",
   "metadata": {},
   "source": [
    "For the most part, our dataset is in good shape. But we will want to transform/enrich/remove some of our data to perform our analysis. \n",
    "\n",
    "**Missing Data**</br>\n",
    "The following columns that contain NULL values we will mark as \"unknown\":\n",
    "\n",
    "- threat_type\n",
    "- flee_status\n",
    "- armed_with\n",
    "- city\n",
    "- county\n",
    "- gender\n",
    "- race\n",
    "\n",
    "**Data to be Removed**<br/>\n",
    "We will remove the following columns as they aren't relavant to our analysis:\n",
    "- name\n",
    "- race_source\n",
    "\n",
    "**Data to be Enriched/Transformed**<br/>\n",
    "- armed_with\n",
    "    - We will only keep the MOST severe weapon based on the force continuum (i.e. Hand/Feet/Fist > Knife > Gun etc.)\n",
    "- race\n",
    "    - We will replace the race with the full version (i.e. W => White) as described in the provided data dictionary\n",
    "    - Additionally, if TWO or more races are present (designated with a \";\" separator) we will only use the FIRST race\n",
    "- latitude/longitude\n",
    "    - If we do not have latitude/longitude, we will geolocate the data to the nearest city \n",
    "- agency_ids\n",
    "    - If we have MORE than one agency_id listed for a shooting, we will use the first agency for easier analysis"
   ]
  },
  {
   "cell_type": "markdown",
   "id": "16a7b4a0",
   "metadata": {},
   "source": [
    "### Cleaning our Dataset"
   ]
  },
  {
   "cell_type": "markdown",
   "id": "62b4c9b7",
   "metadata": {},
   "source": [
    "Some basic cleaning and verification:"
   ]
  },
  {
   "cell_type": "markdown",
   "id": "51a3b27f",
   "metadata": {},
   "source": [
    "**Date field:**<br/>We can go ahead and turn out date into a Python DateTime object"
   ]
  },
  {
   "cell_type": "code",
   "execution_count": 103,
   "id": "2da86ad6",
   "metadata": {},
   "outputs": [],
   "source": [
    "df['date'] = pd.to_datetime(df['date'])"
   ]
  },
  {
   "cell_type": "markdown",
   "id": "1c552298",
   "metadata": {},
   "source": [
    "Additionally we will create a simple \"year\" field"
   ]
  },
  {
   "cell_type": "code",
   "execution_count": 104,
   "id": "9fbe2ab1",
   "metadata": {},
   "outputs": [],
   "source": [
    "df['year'] = df['date'].dt.year"
   ]
  },
  {
   "cell_type": "code",
   "execution_count": 105,
   "id": "c1297158",
   "metadata": {},
   "outputs": [],
   "source": [
    "df['date'] = df['date'].apply(lambda x: x.date()) #transform the date into just a date object (no time)"
   ]
  },
  {
   "cell_type": "markdown",
   "id": "45544736",
   "metadata": {},
   "source": [
    "**Age:**<br/> We have some missing values for age so we will also verify that they haven't ALSO been coded as 0 or 99 when age is missing:"
   ]
  },
  {
   "cell_type": "code",
   "execution_count": 106,
   "id": "d40acaa8",
   "metadata": {},
   "outputs": [],
   "source": [
    "assert((df['age'] <= 0).sum() + (df['age'] >= 99).sum() == 0)"
   ]
  },
  {
   "cell_type": "markdown",
   "id": "d452b3b6",
   "metadata": {},
   "source": [
    "#### Boolean Fields:\n",
    "We will replace boolean values (true/false) with their corresponding integer values (false = 0, true = 1)"
   ]
  },
  {
   "cell_type": "code",
   "execution_count": 107,
   "id": "f8e16435",
   "metadata": {},
   "outputs": [],
   "source": [
    "df.loc[:, ['was_mental_illness_related', 'body_camera']] = df.loc[:, ['was_mental_illness_related', 'body_camera']].astype(int)"
   ]
  },
  {
   "cell_type": "markdown",
   "id": "f6c6ef03",
   "metadata": {},
   "source": [
    "#### Null/Missing Replacements"
   ]
  },
  {
   "cell_type": "markdown",
   "id": "750f1da1",
   "metadata": {},
   "source": [
    "We will mark our NULL values as described above as \"unknown\""
   ]
  },
  {
   "cell_type": "code",
   "execution_count": 108,
   "id": "b5af361a",
   "metadata": {},
   "outputs": [],
   "source": [
    "columns_to_replace_nan_vals = ['threat_type', 'flee_status','armed_with','city','county','gender','race']"
   ]
  },
  {
   "cell_type": "code",
   "execution_count": 109,
   "id": "b6ce959a",
   "metadata": {},
   "outputs": [],
   "source": [
    "df.loc[:, columns_to_replace_nan_vals] = \\\n",
    "df.loc[:, columns_to_replace_nan_vals].fillna('unknown')"
   ]
  },
  {
   "cell_type": "code",
   "execution_count": 110,
   "id": "e44b0899",
   "metadata": {},
   "outputs": [],
   "source": [
    "#Assert that we have replace ALL missing values for designated columns\n",
    "assert(df.loc[:, columns_to_replace_nan_vals].isna().sum().sum() == 0)"
   ]
  },
  {
   "cell_type": "markdown",
   "id": "3394416a",
   "metadata": {},
   "source": [
    "Next we will remove the columns not necessary for our analysis"
   ]
  },
  {
   "cell_type": "code",
   "execution_count": 111,
   "id": "345c3165",
   "metadata": {},
   "outputs": [],
   "source": [
    "df.drop(columns=['name', 'race_source'], inplace=True)"
   ]
  },
  {
   "cell_type": "markdown",
   "id": "d3141f45",
   "metadata": {},
   "source": [
    "Now we will begin transforming/enriching our data:"
   ]
  },
  {
   "cell_type": "markdown",
   "id": "548decb5",
   "metadata": {},
   "source": [
    "#### Weapon (armed_with) Transformation"
   ]
  },
  {
   "cell_type": "markdown",
   "id": "3c70dfce",
   "metadata": {},
   "source": [
    "These are the unique weapon/weapon combinations in the dataset:"
   ]
  },
  {
   "cell_type": "code",
   "execution_count": 112,
   "id": "ae85df21",
   "metadata": {},
   "outputs": [
    {
     "data": {
      "text/plain": [
       "array(['gun', 'unarmed', 'replica', 'other', 'knife', 'unknown',\n",
       "       'blunt_object', 'vehicle', 'undetermined', 'other;gun',\n",
       "       'blunt_object;blunt_object', 'gun;knife', 'knife;blunt_object',\n",
       "       'vehicle;gun', 'gun;vehicle', 'replica;vehicle',\n",
       "       'blunt_object;knife', 'knife;vehicle', 'vehicle;knife;other',\n",
       "       'replica;knife', 'other;blunt_object;knife'], dtype=object)"
      ]
     },
     "execution_count": 112,
     "metadata": {},
     "output_type": "execute_result"
    }
   ],
   "source": [
    "df['armed_with'].unique()"
   ]
  },
  {
   "cell_type": "markdown",
   "id": "f96aaf40",
   "metadata": {},
   "source": [
    "This is obviously somewhat arbitrary in terms of ranking, but in theory is listed in order of danger/perceived danger level from the officer's standpoint:"
   ]
  },
  {
   "cell_type": "code",
   "execution_count": 113,
   "id": "a2614441",
   "metadata": {},
   "outputs": [],
   "source": [
    "weapon_severity = {\n",
    "    'gun' : 1,\n",
    "    'vehicle': 2,\n",
    "    'replica':3,\n",
    "    'knife': 4,\n",
    "    'blunt_object':5,\n",
    "    'other':6,\n",
    "    'unarmed':7,\n",
    "    'undetermined':8,\n",
    "    'unknown':9,\n",
    "}"
   ]
  },
  {
   "cell_type": "markdown",
   "id": "559674a7",
   "metadata": {},
   "source": [
    "Now we will identify any records that have multiple weapons listed and ONLY get the most severe based on our severity ranking created above."
   ]
  },
  {
   "cell_type": "code",
   "execution_count": 114,
   "id": "0c15f4c5",
   "metadata": {},
   "outputs": [],
   "source": [
    "multi_wep_mask = df['armed_with'].str.contains(';')"
   ]
  },
  {
   "cell_type": "code",
   "execution_count": 115,
   "id": "edcf304b",
   "metadata": {},
   "outputs": [],
   "source": [
    "df.loc[multi_wep_mask, 'armed_with'] = \\\n",
    "df.loc[multi_wep_mask, 'armed_with'].str.split(';')\\\n",
    ".apply(lambda x: sorted(x, key=lambda y: weapon_severity[y])[0])"
   ]
  },
  {
   "cell_type": "code",
   "execution_count": 116,
   "id": "983d1939",
   "metadata": {},
   "outputs": [],
   "source": [
    "assert(df.iloc[4824]['armed_with'] == 'vehicle')#Should be VEHICLE, was previously: 'vehicle;knife;other'"
   ]
  },
  {
   "cell_type": "markdown",
   "id": "7fd1baa9",
   "metadata": {},
   "source": [
    "Now let's take one more look and verify we dont have any multi-weapon records:"
   ]
  },
  {
   "cell_type": "code",
   "execution_count": 117,
   "id": "941a1721",
   "metadata": {},
   "outputs": [
    {
     "data": {
      "text/plain": [
       "array(['gun', 'unarmed', 'replica', 'other', 'knife', 'unknown',\n",
       "       'blunt_object', 'vehicle', 'undetermined'], dtype=object)"
      ]
     },
     "execution_count": 117,
     "metadata": {},
     "output_type": "execute_result"
    }
   ],
   "source": [
    "df['armed_with'].unique()"
   ]
  },
  {
   "cell_type": "markdown",
   "id": "f7c37eeb",
   "metadata": {},
   "source": [
    "#### Race Transformation\n",
    "We will first replace the short-hand versions of race with the full version for easier interpretation."
   ]
  },
  {
   "cell_type": "code",
   "execution_count": 118,
   "id": "7f4fcdeb",
   "metadata": {},
   "outputs": [],
   "source": [
    "#Short-hand to longer description map\n",
    "race_map = {\n",
    "    'W':'White',\n",
    "    'B':'Black',\n",
    "    'A':'Asian_Heritage',\n",
    "    'N':'Native_American',\n",
    "    'H':'Hispanic',\n",
    "    'O':'Other',\n",
    "    '--':'unknown',\n",
    "    'unknown':'unknown',\n",
    "}"
   ]
  },
  {
   "cell_type": "code",
   "execution_count": 119,
   "id": "472ac50d",
   "metadata": {},
   "outputs": [
    {
     "data": {
      "text/plain": [
       "7704    B;H\n",
       "Name: race, dtype: object"
      ]
     },
     "execution_count": 119,
     "metadata": {},
     "output_type": "execute_result"
    }
   ],
   "source": [
    "# We only have one record that lists the deceadant as two races \n",
    "df.loc[df['race'].str.contains(';'), 'race']"
   ]
  },
  {
   "cell_type": "code",
   "execution_count": 120,
   "id": "e91dabb6",
   "metadata": {},
   "outputs": [],
   "source": [
    "#We will fix any subjects that have multiple races listed\n",
    "multi_race_mask = df['race'].str.contains(';')\n",
    "df.loc[multi_race_mask, 'race'] = df.loc[multi_race_mask, 'race'].apply(lambda x: x[0])\n",
    "assert(len(df.loc[df['race'].str.contains(';'), 'race']) == 0) #Quickly verify we handeled all multi-race subjects"
   ]
  },
  {
   "cell_type": "code",
   "execution_count": 121,
   "id": "6012927a",
   "metadata": {},
   "outputs": [],
   "source": [
    "# Now we will map over our races and transform them into the long-form race descriptions\n",
    "df['race'] = df['race'].map(race_map)"
   ]
  },
  {
   "cell_type": "markdown",
   "id": "0d7a9aa8",
   "metadata": {},
   "source": [
    "#### Obtaining missing latitude/longitude data based on city+state"
   ]
  },
  {
   "cell_type": "code",
   "execution_count": 122,
   "id": "c0c2152d",
   "metadata": {},
   "outputs": [],
   "source": [
    "missing_geo_data = df.loc[(df['latitude'].isna()) | (df['longitude'].isna())].copy() \n",
    "#(copy) is toensure we arent referencing base DF"
   ]
  },
  {
   "cell_type": "code",
   "execution_count": 123,
   "id": "16ede1df",
   "metadata": {},
   "outputs": [],
   "source": [
    "missing_geo_data['city_state'] = missing_geo_data['city'] + ', ' + missing_geo_data['state'] + ', USA'"
   ]
  },
  {
   "cell_type": "code",
   "execution_count": 124,
   "id": "491bce78",
   "metadata": {},
   "outputs": [
    {
     "data": {
      "text/plain": [
       "773"
      ]
     },
     "execution_count": 124,
     "metadata": {},
     "output_type": "execute_result"
    }
   ],
   "source": [
    "len(missing_geo_data['city_state'].unique())"
   ]
  },
  {
   "cell_type": "markdown",
   "id": "7ae992d9",
   "metadata": {},
   "source": [
    "We need to geolocate 773 cities! Let's get to it! The first thing we will do is add a record to our missing_geo_data dataframe for the URL encoded address in the form of `city, state, USA` to pass off to Google Geocoding API"
   ]
  },
  {
   "cell_type": "code",
   "execution_count": 125,
   "id": "ed73a731",
   "metadata": {},
   "outputs": [],
   "source": [
    "missing_geo_data['url_address'] = \\\n",
    "missing_geo_data['city_state'].apply(lambda x: urllib.parse.quote(x))"
   ]
  },
  {
   "cell_type": "code",
   "execution_count": 126,
   "id": "393f29f3",
   "metadata": {},
   "outputs": [
    {
     "data": {
      "text/plain": [
       "872               Weatherford%2C%20TX%2C%20USA\n",
       "1371    Chesterfield%20County%2C%20SC%2C%20USA\n",
       "1373                Flagstaff%2C%20AZ%2C%20USA\n",
       "1375                   Oxford%2C%20MA%2C%20USA\n",
       "1388                  Solvang%2C%20CA%2C%20USA\n",
       "Name: url_address, dtype: object"
      ]
     },
     "execution_count": 126,
     "metadata": {},
     "output_type": "execute_result"
    }
   ],
   "source": [
    "missing_geo_data['url_address'].head()"
   ]
  },
  {
   "cell_type": "markdown",
   "id": "2a95850d",
   "metadata": {},
   "source": [
    "We will create a little helper dictionary so that we only have to geocode one city+state once if there are duplicates. This will also ensure that if our code stops/breaks at any point we don't have to re-geolocate that location."
   ]
  },
  {
   "cell_type": "code",
   "execution_count": 127,
   "id": "e0585fa3",
   "metadata": {},
   "outputs": [],
   "source": [
    "unique_address_dict = {}\n",
    "indexes = missing_geo_data.groupby('url_address').indices\n",
    "for key, value in indexes.items():\n",
    "    unique_address_dict[key] = {'row_indexes':list(value), 'coordinates':None, 'location_type':None}"
   ]
  },
  {
   "cell_type": "markdown",
   "id": "062c78b8",
   "metadata": {},
   "source": [
    "Now we will loop through the unique addresses and geolocate them! If this hasn't already been done (e.g. no `geolocated_missing_data.pkl` file, you will need to provide a Google Maps Geocoding API key in order to locate the missing locations."
   ]
  },
  {
   "cell_type": "code",
   "execution_count": 128,
   "id": "023756ec",
   "metadata": {},
   "outputs": [],
   "source": [
    "if os.path.exists('../Data/geolocated_missing_data.pkl'):\n",
    "    \n",
    "    with open('../Data/geolocated_missing_data.pkl', 'rb') as dictionary_pickle:\n",
    "        unique_address_dict = pickle.load(dictionary_pickle)\n",
    "    \n",
    "else:\n",
    "    \n",
    "    api_key = getpass.getpass() #This requires a Google maps API key with Geocoding API enabled\n",
    "\n",
    "    for address, value in unique_address_dict.items():\n",
    "\n",
    "            #Only geolocate the data if we haven't already\n",
    "            if value['coordinates'] is None:\n",
    "\n",
    "                google_geocode_url = \"https://maps.googleapis.com/maps/api/geocode/json?address={}&key={}\"\\\n",
    "                .format(address, api_key)\n",
    "\n",
    "                geolocated_json = json.loads(requests.get(google_geocode_url).content)['results'][0]\n",
    "\n",
    "                coords = geolocated_json['geometry']['location']\n",
    "                location_type = geolocated_json['geometry']['location_type']\n",
    "\n",
    "                unique_address_dict[address]['coordinates'] = coords\n",
    "                unique_address_dict[address]['location_type'] = location_type\n",
    "                \n",
    "    with open('../Data/geolocated_missing_data.pkl', 'wb') as dictionary_pickle:\n",
    "         pickle.dump(unique_address_dict, dictionary_pickle, protocol=pickle.HIGHEST_PROTOCOL)"
   ]
  },
  {
   "cell_type": "markdown",
   "id": "998a6f1b",
   "metadata": {},
   "source": [
    "Now that we have approximately geo-referenced our data we can update the base dataframe and clean up our data we no longer need."
   ]
  },
  {
   "cell_type": "code",
   "execution_count": 129,
   "id": "012dc67b",
   "metadata": {},
   "outputs": [],
   "source": [
    "for vals in unique_address_dict.values():\n",
    "    row_ind_list = vals['row_indexes']\n",
    "    for row_indx_ptr in row_ind_list:\n",
    "        row_idx = missing_geo_data.index[row_indx_ptr]\n",
    "        missing_geo_data.loc[row_idx, 'latitude'] = vals['coordinates']['lat']\n",
    "        missing_geo_data.loc[row_idx, 'longitude'] = vals['coordinates']['lng']\n",
    "        missing_geo_data.loc[row_idx, 'location_precision'] = 'GoogleLocated_' + vals['location_type']\n",
    "        \n",
    "#Update base data    \n",
    "df.update(missing_geo_data[['latitude', 'longitude', 'location_precision']])\n",
    "\n",
    "#Delete missing_geo_data DF and location dictionary now\n",
    "del missing_geo_data, unique_address_dict"
   ]
  },
  {
   "cell_type": "code",
   "execution_count": 130,
   "id": "be89f6c3",
   "metadata": {},
   "outputs": [],
   "source": [
    "assert(df['latitude'].isna().sum() + df['longitude'].isna().sum() == 0)"
   ]
  },
  {
   "cell_type": "markdown",
   "id": "36d8f939",
   "metadata": {},
   "source": [
    "#### Agency Cleaning (Only listing one agency per shooting)"
   ]
  },
  {
   "cell_type": "markdown",
   "id": "22fc0e27",
   "metadata": {},
   "source": [
    "We have two shootings that DO NOT have an agency id listed, rather than dropping these, we will use the agency_id of another shooting that happened in the same city+county+state:"
   ]
  },
  {
   "cell_type": "code",
   "execution_count": 131,
   "id": "a9c3a5b1",
   "metadata": {},
   "outputs": [
    {
     "data": {
      "text/html": [
       "<div>\n",
       "<style scoped>\n",
       "    .dataframe tbody tr th:only-of-type {\n",
       "        vertical-align: middle;\n",
       "    }\n",
       "\n",
       "    .dataframe tbody tr th {\n",
       "        vertical-align: top;\n",
       "    }\n",
       "\n",
       "    .dataframe thead th {\n",
       "        text-align: right;\n",
       "    }\n",
       "</style>\n",
       "<table border=\"1\" class=\"dataframe\">\n",
       "  <thead>\n",
       "    <tr style=\"text-align: right;\">\n",
       "      <th></th>\n",
       "      <th>id</th>\n",
       "      <th>date</th>\n",
       "      <th>threat_type</th>\n",
       "      <th>flee_status</th>\n",
       "      <th>armed_with</th>\n",
       "      <th>city</th>\n",
       "      <th>county</th>\n",
       "      <th>state</th>\n",
       "      <th>latitude</th>\n",
       "      <th>longitude</th>\n",
       "      <th>location_precision</th>\n",
       "      <th>age</th>\n",
       "      <th>gender</th>\n",
       "      <th>race</th>\n",
       "      <th>was_mental_illness_related</th>\n",
       "      <th>body_camera</th>\n",
       "      <th>agency_ids</th>\n",
       "      <th>year</th>\n",
       "    </tr>\n",
       "  </thead>\n",
       "  <tbody>\n",
       "    <tr>\n",
       "      <th>8676</th>\n",
       "      <td>9428</td>\n",
       "      <td>2023-08-05</td>\n",
       "      <td>shoot</td>\n",
       "      <td>unknown</td>\n",
       "      <td>gun</td>\n",
       "      <td>Columbia</td>\n",
       "      <td>Boone</td>\n",
       "      <td>MO</td>\n",
       "      <td>38.922324</td>\n",
       "      <td>-92.335543</td>\n",
       "      <td>address</td>\n",
       "      <td>22.0</td>\n",
       "      <td>male</td>\n",
       "      <td>unknown</td>\n",
       "      <td>1</td>\n",
       "      <td>1</td>\n",
       "      <td>NaN</td>\n",
       "      <td>2023</td>\n",
       "    </tr>\n",
       "  </tbody>\n",
       "</table>\n",
       "</div>"
      ],
      "text/plain": [
       "        id        date threat_type flee_status armed_with      city county  \\\n",
       "8676  9428  2023-08-05       shoot     unknown        gun  Columbia  Boone   \n",
       "\n",
       "     state   latitude  longitude location_precision   age gender     race  \\\n",
       "8676    MO  38.922324 -92.335543            address  22.0   male  unknown   \n",
       "\n",
       "      was_mental_illness_related  body_camera agency_ids  year  \n",
       "8676                           1            1        NaN  2023  "
      ]
     },
     "execution_count": 131,
     "metadata": {},
     "output_type": "execute_result"
    }
   ],
   "source": [
    "df.loc[df['agency_ids'].isna()]"
   ]
  },
  {
   "cell_type": "code",
   "execution_count": 132,
   "id": "0f9c273c",
   "metadata": {},
   "outputs": [],
   "source": [
    "df.loc[df['id'] == 9435, 'agency_ids'] =  \\\n",
    "list(df.loc[(df['state'] == 'TX') \\\n",
    "       & (df['county'] == 'Harris')  \\\n",
    "       & (df['city'] == 'Kingwood') \\\n",
    "       & (~df['agency_ids'].isna()), 'agency_ids'])[0]"
   ]
  },
  {
   "cell_type": "code",
   "execution_count": 133,
   "id": "e66c4d17",
   "metadata": {},
   "outputs": [],
   "source": [
    "#This city+county+state combination has multiple listed, we will use the first\n",
    "df.loc[df['id'] == 9428, 'agency_ids'] = \\\n",
    "list(df.loc[(df['state'] == 'MO') \\\n",
    "       & (df['county'] == 'Boone')  \\\n",
    "       & (df['city'] == 'Columbia') \\\n",
    "       & (~df['agency_ids'].isna()), 'agency_ids'])[0]"
   ]
  },
  {
   "cell_type": "code",
   "execution_count": 134,
   "id": "7a4567b9",
   "metadata": {},
   "outputs": [],
   "source": [
    "assert(len(df.loc[df['agency_ids'].isna()]) == 0)"
   ]
  },
  {
   "cell_type": "markdown",
   "id": "06636d54",
   "metadata": {},
   "source": [
    "Now that we've handeled the missing agency ID's we can remove the shootings with multiple agencies. Of course if we were doing agency-specific related analysis we would handle this process differently."
   ]
  },
  {
   "cell_type": "code",
   "execution_count": 135,
   "id": "dd8afb21",
   "metadata": {},
   "outputs": [],
   "source": [
    "multi_agency_mask = df['agency_ids'].str.contains(';')"
   ]
  },
  {
   "cell_type": "code",
   "execution_count": 136,
   "id": "ae85c83e",
   "metadata": {},
   "outputs": [],
   "source": [
    "df.loc[multi_agency_mask, 'agency_ids'] = df.loc[multi_agency_mask, 'agency_ids'].str.split(';').apply(lambda x: x[0])"
   ]
  },
  {
   "cell_type": "code",
   "execution_count": 137,
   "id": "e5ef620b",
   "metadata": {},
   "outputs": [],
   "source": [
    "assert(df['agency_ids'].str.contains(';').sum() == 0)"
   ]
  },
  {
   "cell_type": "code",
   "execution_count": 138,
   "id": "78b4ce84",
   "metadata": {},
   "outputs": [],
   "source": [
    "df['agency_ids'] = df['agency_ids'].astype(int)"
   ]
  },
  {
   "cell_type": "markdown",
   "id": "99e1137f",
   "metadata": {},
   "source": [
    "### Agency Dataset"
   ]
  },
  {
   "cell_type": "markdown",
   "id": "e6e60c66",
   "metadata": {},
   "source": [
    "In order to enrich our data, we will also join the respective agency for the fatal shooting."
   ]
  },
  {
   "cell_type": "code",
   "execution_count": 139,
   "id": "aed83129",
   "metadata": {},
   "outputs": [
    {
     "data": {
      "text/html": [
       "<div>\n",
       "<style scoped>\n",
       "    .dataframe tbody tr th:only-of-type {\n",
       "        vertical-align: middle;\n",
       "    }\n",
       "\n",
       "    .dataframe tbody tr th {\n",
       "        vertical-align: top;\n",
       "    }\n",
       "\n",
       "    .dataframe thead th {\n",
       "        text-align: right;\n",
       "    }\n",
       "</style>\n",
       "<table border=\"1\" class=\"dataframe\">\n",
       "  <thead>\n",
       "    <tr style=\"text-align: right;\">\n",
       "      <th></th>\n",
       "      <th>id</th>\n",
       "      <th>name</th>\n",
       "      <th>type</th>\n",
       "      <th>oricodes</th>\n",
       "    </tr>\n",
       "  </thead>\n",
       "  <tbody>\n",
       "    <tr>\n",
       "      <th>0</th>\n",
       "      <td>3145</td>\n",
       "      <td>Abbeville County Sheriff's Office</td>\n",
       "      <td>sheriff</td>\n",
       "      <td>SC00100</td>\n",
       "    </tr>\n",
       "    <tr>\n",
       "      <th>1</th>\n",
       "      <td>2576</td>\n",
       "      <td>Aberdeen Police Department</td>\n",
       "      <td>local_police</td>\n",
       "      <td>WA01401</td>\n",
       "    </tr>\n",
       "    <tr>\n",
       "      <th>2</th>\n",
       "      <td>2114</td>\n",
       "      <td>Abilene Police Department</td>\n",
       "      <td>local_police</td>\n",
       "      <td>TX22101</td>\n",
       "    </tr>\n",
       "    <tr>\n",
       "      <th>3</th>\n",
       "      <td>2088</td>\n",
       "      <td>Abington Township Police Department</td>\n",
       "      <td>local_police</td>\n",
       "      <td>PA04601</td>\n",
       "    </tr>\n",
       "    <tr>\n",
       "      <th>4</th>\n",
       "      <td>3187</td>\n",
       "      <td>Acadia Parish Sheriff's Office</td>\n",
       "      <td>sheriff</td>\n",
       "      <td>LA00100</td>\n",
       "    </tr>\n",
       "  </tbody>\n",
       "</table>\n",
       "</div>"
      ],
      "text/plain": [
       "     id                                 name          type oricodes\n",
       "0  3145    Abbeville County Sheriff's Office       sheriff  SC00100\n",
       "1  2576           Aberdeen Police Department  local_police  WA01401\n",
       "2  2114            Abilene Police Department  local_police  TX22101\n",
       "3  2088  Abington Township Police Department  local_police  PA04601\n",
       "4  3187       Acadia Parish Sheriff's Office       sheriff  LA00100"
      ]
     },
     "execution_count": 139,
     "metadata": {},
     "output_type": "execute_result"
    }
   ],
   "source": [
    "agency_df.head()"
   ]
  },
  {
   "cell_type": "code",
   "execution_count": 140,
   "id": "2c9ab30f",
   "metadata": {},
   "outputs": [],
   "source": [
    "agency_df.drop(columns=['oricodes'], inplace=True) #Not required for our analysis\n",
    "agency_df = agency_df.rename(columns={'id':'agency_ids', 'name':'agency_name', 'type':'agency_type'}) #For easier merging"
   ]
  },
  {
   "cell_type": "markdown",
   "id": "aa07aea3",
   "metadata": {},
   "source": [
    "Now we can merge out data with the agency data"
   ]
  },
  {
   "cell_type": "code",
   "execution_count": 141,
   "id": "46dfe21d",
   "metadata": {},
   "outputs": [],
   "source": [
    "df = pd.merge(df, agency_df, how='left', left_on='agency_ids', right_on='agency_ids')"
   ]
  },
  {
   "cell_type": "code",
   "execution_count": 142,
   "id": "e7ac60d8",
   "metadata": {},
   "outputs": [
    {
     "data": {
      "text/html": [
       "<div>\n",
       "<style scoped>\n",
       "    .dataframe tbody tr th:only-of-type {\n",
       "        vertical-align: middle;\n",
       "    }\n",
       "\n",
       "    .dataframe tbody tr th {\n",
       "        vertical-align: top;\n",
       "    }\n",
       "\n",
       "    .dataframe thead th {\n",
       "        text-align: right;\n",
       "    }\n",
       "</style>\n",
       "<table border=\"1\" class=\"dataframe\">\n",
       "  <thead>\n",
       "    <tr style=\"text-align: right;\">\n",
       "      <th></th>\n",
       "      <th>id</th>\n",
       "      <th>date</th>\n",
       "      <th>threat_type</th>\n",
       "      <th>flee_status</th>\n",
       "      <th>armed_with</th>\n",
       "      <th>city</th>\n",
       "      <th>county</th>\n",
       "      <th>state</th>\n",
       "      <th>latitude</th>\n",
       "      <th>longitude</th>\n",
       "      <th>location_precision</th>\n",
       "      <th>age</th>\n",
       "      <th>gender</th>\n",
       "      <th>race</th>\n",
       "      <th>was_mental_illness_related</th>\n",
       "      <th>body_camera</th>\n",
       "      <th>agency_ids</th>\n",
       "      <th>year</th>\n",
       "      <th>agency_name</th>\n",
       "      <th>agency_type</th>\n",
       "    </tr>\n",
       "  </thead>\n",
       "  <tbody>\n",
       "    <tr>\n",
       "      <th>0</th>\n",
       "      <td>3</td>\n",
       "      <td>2015-01-02</td>\n",
       "      <td>point</td>\n",
       "      <td>not</td>\n",
       "      <td>gun</td>\n",
       "      <td>Shelton</td>\n",
       "      <td>Mason</td>\n",
       "      <td>WA</td>\n",
       "      <td>47.246826</td>\n",
       "      <td>-123.121592</td>\n",
       "      <td>not_available</td>\n",
       "      <td>53.0</td>\n",
       "      <td>male</td>\n",
       "      <td>Asian_Heritage</td>\n",
       "      <td>1</td>\n",
       "      <td>0</td>\n",
       "      <td>73</td>\n",
       "      <td>2015</td>\n",
       "      <td>Mason County Sheriff's Office</td>\n",
       "      <td>sheriff</td>\n",
       "    </tr>\n",
       "    <tr>\n",
       "      <th>1</th>\n",
       "      <td>4</td>\n",
       "      <td>2015-01-02</td>\n",
       "      <td>point</td>\n",
       "      <td>not</td>\n",
       "      <td>gun</td>\n",
       "      <td>Aloha</td>\n",
       "      <td>Washington</td>\n",
       "      <td>OR</td>\n",
       "      <td>45.487421</td>\n",
       "      <td>-122.891696</td>\n",
       "      <td>not_available</td>\n",
       "      <td>47.0</td>\n",
       "      <td>male</td>\n",
       "      <td>White</td>\n",
       "      <td>0</td>\n",
       "      <td>0</td>\n",
       "      <td>70</td>\n",
       "      <td>2015</td>\n",
       "      <td>Washington County Sheriff's Office</td>\n",
       "      <td>sheriff</td>\n",
       "    </tr>\n",
       "    <tr>\n",
       "      <th>2</th>\n",
       "      <td>5</td>\n",
       "      <td>2015-01-03</td>\n",
       "      <td>move</td>\n",
       "      <td>not</td>\n",
       "      <td>unarmed</td>\n",
       "      <td>Wichita</td>\n",
       "      <td>Sedgwick</td>\n",
       "      <td>KS</td>\n",
       "      <td>37.694766</td>\n",
       "      <td>-97.280554</td>\n",
       "      <td>not_available</td>\n",
       "      <td>23.0</td>\n",
       "      <td>male</td>\n",
       "      <td>Hispanic</td>\n",
       "      <td>0</td>\n",
       "      <td>0</td>\n",
       "      <td>238</td>\n",
       "      <td>2015</td>\n",
       "      <td>Wichita Police Department</td>\n",
       "      <td>local_police</td>\n",
       "    </tr>\n",
       "    <tr>\n",
       "      <th>3</th>\n",
       "      <td>8</td>\n",
       "      <td>2015-01-04</td>\n",
       "      <td>point</td>\n",
       "      <td>not</td>\n",
       "      <td>replica</td>\n",
       "      <td>San Francisco</td>\n",
       "      <td>San Francisco</td>\n",
       "      <td>CA</td>\n",
       "      <td>37.762910</td>\n",
       "      <td>-122.422001</td>\n",
       "      <td>not_available</td>\n",
       "      <td>32.0</td>\n",
       "      <td>male</td>\n",
       "      <td>White</td>\n",
       "      <td>1</td>\n",
       "      <td>0</td>\n",
       "      <td>196</td>\n",
       "      <td>2015</td>\n",
       "      <td>San Francisco Police Department</td>\n",
       "      <td>local_police</td>\n",
       "    </tr>\n",
       "    <tr>\n",
       "      <th>4</th>\n",
       "      <td>9</td>\n",
       "      <td>2015-01-04</td>\n",
       "      <td>point</td>\n",
       "      <td>not</td>\n",
       "      <td>other</td>\n",
       "      <td>Evans</td>\n",
       "      <td>Weld</td>\n",
       "      <td>CO</td>\n",
       "      <td>40.383937</td>\n",
       "      <td>-104.692261</td>\n",
       "      <td>not_available</td>\n",
       "      <td>39.0</td>\n",
       "      <td>male</td>\n",
       "      <td>Hispanic</td>\n",
       "      <td>0</td>\n",
       "      <td>0</td>\n",
       "      <td>473</td>\n",
       "      <td>2015</td>\n",
       "      <td>Evans Police Department</td>\n",
       "      <td>local_police</td>\n",
       "    </tr>\n",
       "  </tbody>\n",
       "</table>\n",
       "</div>"
      ],
      "text/plain": [
       "   id        date threat_type flee_status armed_with           city  \\\n",
       "0   3  2015-01-02       point         not        gun        Shelton   \n",
       "1   4  2015-01-02       point         not        gun          Aloha   \n",
       "2   5  2015-01-03        move         not    unarmed        Wichita   \n",
       "3   8  2015-01-04       point         not    replica  San Francisco   \n",
       "4   9  2015-01-04       point         not      other          Evans   \n",
       "\n",
       "          county state   latitude   longitude location_precision   age gender  \\\n",
       "0          Mason    WA  47.246826 -123.121592      not_available  53.0   male   \n",
       "1     Washington    OR  45.487421 -122.891696      not_available  47.0   male   \n",
       "2       Sedgwick    KS  37.694766  -97.280554      not_available  23.0   male   \n",
       "3  San Francisco    CA  37.762910 -122.422001      not_available  32.0   male   \n",
       "4           Weld    CO  40.383937 -104.692261      not_available  39.0   male   \n",
       "\n",
       "             race  was_mental_illness_related  body_camera  agency_ids  year  \\\n",
       "0  Asian_Heritage                           1            0          73  2015   \n",
       "1           White                           0            0          70  2015   \n",
       "2        Hispanic                           0            0         238  2015   \n",
       "3           White                           1            0         196  2015   \n",
       "4        Hispanic                           0            0         473  2015   \n",
       "\n",
       "                          agency_name   agency_type  \n",
       "0       Mason County Sheriff's Office       sheriff  \n",
       "1  Washington County Sheriff's Office       sheriff  \n",
       "2           Wichita Police Department  local_police  \n",
       "3     San Francisco Police Department  local_police  \n",
       "4             Evans Police Department  local_police  "
      ]
     },
     "execution_count": 142,
     "metadata": {},
     "output_type": "execute_result"
    }
   ],
   "source": [
    "df.head()"
   ]
  },
  {
   "cell_type": "markdown",
   "id": "3a16bdee",
   "metadata": {},
   "source": [
    "### Yes/No Features"
   ]
  },
  {
   "cell_type": "markdown",
   "id": "9ea7bc7a",
   "metadata": {},
   "source": [
    "For easier labeling in charts/etc. we will turn our boolean values into \"yes/no\""
   ]
  },
  {
   "cell_type": "code",
   "execution_count": 143,
   "id": "20e66c25",
   "metadata": {},
   "outputs": [],
   "source": [
    "df['was_mental_illness_related_yes_no'] = df['was_mental_illness_related'].apply(lambda x: \"Yes\" if x == 1 else \"No\")\n",
    "df['body_camera_yes_no'] = df['body_camera'].apply(lambda x: \"Yes\" if x == 1 else \"No\")"
   ]
  },
  {
   "cell_type": "markdown",
   "id": "6a1279a9",
   "metadata": {},
   "source": [
    "### One-Hot Encoding Data for Analysis"
   ]
  },
  {
   "cell_type": "markdown",
   "id": "515a7dfa",
   "metadata": {},
   "source": [
    "To ensure it is easy to count/analyze categorical data (such as race/mental health features) we will one-hot encode our data and join it to our base data."
   ]
  },
  {
   "cell_type": "code",
   "execution_count": 144,
   "id": "47d6eaa1",
   "metadata": {},
   "outputs": [],
   "source": [
    "race_dummies = pd.get_dummies(df['race'], prefix=\"Race\")\n",
    "race_dummies_cols = list(race_dummies.columns)"
   ]
  },
  {
   "cell_type": "code",
   "execution_count": 145,
   "id": "de6fe649",
   "metadata": {},
   "outputs": [],
   "source": [
    "gender_dummies = pd.get_dummies(df['gender'], prefix='Gender')\n",
    "gender_dummies_cols = list(gender_dummies.columns)"
   ]
  },
  {
   "cell_type": "code",
   "execution_count": 146,
   "id": "f0cc378a",
   "metadata": {},
   "outputs": [],
   "source": [
    "armed_with_dummies = pd.get_dummies(df['armed_with'], prefix=\"primary_weapon\")\n",
    "armed_with_dummies_cols = list(armed_with_dummies.columns)"
   ]
  },
  {
   "cell_type": "code",
   "execution_count": 147,
   "id": "c37e5fa3",
   "metadata": {},
   "outputs": [],
   "source": [
    "threat_with_dummies = pd.get_dummies(df['threat_type'], prefix=\"threat_type\")\n",
    "threat_with_dummies_cols = list(threat_with_dummies.columns)"
   ]
  },
  {
   "cell_type": "code",
   "execution_count": 148,
   "id": "b9f1cdb1",
   "metadata": {},
   "outputs": [],
   "source": [
    "flee_status_dummies = pd.get_dummies(df['flee_status'], prefix=\"flee_status\")\n",
    "flee_status_dummies_cols = list(flee_status_dummies.columns)"
   ]
  },
  {
   "cell_type": "markdown",
   "id": "6fd6d55c",
   "metadata": {},
   "source": [
    "Now we will merge our data together:"
   ]
  },
  {
   "cell_type": "code",
   "execution_count": 149,
   "id": "8338ec93",
   "metadata": {},
   "outputs": [],
   "source": [
    "df = pd.concat([df, race_dummies, gender_dummies, armed_with_dummies, threat_with_dummies, flee_status_dummies], axis=1)"
   ]
  },
  {
   "cell_type": "markdown",
   "id": "d352ee13",
   "metadata": {},
   "source": [
    "### Final Data Inspection / Export"
   ]
  },
  {
   "cell_type": "markdown",
   "id": "855e6f11",
   "metadata": {},
   "source": [
    "We will rename armed_with to \"primary_weapon\""
   ]
  },
  {
   "cell_type": "code",
   "execution_count": 150,
   "id": "e8878f46",
   "metadata": {},
   "outputs": [],
   "source": [
    "df = df.rename(columns={'armed_with':'primary_weapon'})"
   ]
  },
  {
   "cell_type": "code",
   "execution_count": 151,
   "id": "ad5bb160",
   "metadata": {},
   "outputs": [],
   "source": [
    "df = df.set_index('id')"
   ]
  },
  {
   "cell_type": "markdown",
   "id": "238d6a8b",
   "metadata": {},
   "source": [
    "We will re-organize our columns so that related fields are closer together. We will build a quick \"column\" helper to re-order our dataframe columns."
   ]
  },
  {
   "cell_type": "code",
   "execution_count": 152,
   "id": "547c146e",
   "metadata": {},
   "outputs": [],
   "source": [
    "cols = ['year','date'] +\\\n",
    "    ['primary_weapon'] +\\\n",
    "    armed_with_dummies_cols +\\\n",
    "    ['threat_type'] +\\\n",
    "    threat_with_dummies_cols + \\\n",
    "    ['flee_status'] +\\\n",
    "    flee_status_dummies_cols +\\\n",
    "    ['was_mental_illness_related', 'was_mental_illness_related_yes_no', \n",
    "    'body_camera', 'body_camera_yes_no'] +\\\n",
    "    ['race'] + \\\n",
    "    race_dummies_cols +\\\n",
    "    ['gender'] + \\\n",
    "    gender_dummies_cols +\\\n",
    "    ['age'] +  \\\n",
    "    ['city','county','state'] +\\\n",
    "    ['agency_name', 'agency_type','agency_ids',\n",
    "    'latitude', 'longitude', 'location_precision'] "
   ]
  },
  {
   "cell_type": "code",
   "execution_count": 153,
   "id": "f1f04305",
   "metadata": {},
   "outputs": [],
   "source": [
    "df = df.loc[:, cols]"
   ]
  },
  {
   "cell_type": "code",
   "execution_count": 154,
   "id": "6b28c358",
   "metadata": {
    "scrolled": true
   },
   "outputs": [
    {
     "data": {
      "text/html": [
       "<div>\n",
       "<style scoped>\n",
       "    .dataframe tbody tr th:only-of-type {\n",
       "        vertical-align: middle;\n",
       "    }\n",
       "\n",
       "    .dataframe tbody tr th {\n",
       "        vertical-align: top;\n",
       "    }\n",
       "\n",
       "    .dataframe thead th {\n",
       "        text-align: right;\n",
       "    }\n",
       "</style>\n",
       "<table border=\"1\" class=\"dataframe\">\n",
       "  <thead>\n",
       "    <tr style=\"text-align: right;\">\n",
       "      <th></th>\n",
       "      <th>year</th>\n",
       "      <th>date</th>\n",
       "      <th>primary_weapon</th>\n",
       "      <th>primary_weapon_blunt_object</th>\n",
       "      <th>primary_weapon_gun</th>\n",
       "      <th>primary_weapon_knife</th>\n",
       "      <th>primary_weapon_other</th>\n",
       "      <th>primary_weapon_replica</th>\n",
       "      <th>primary_weapon_unarmed</th>\n",
       "      <th>primary_weapon_undetermined</th>\n",
       "      <th>...</th>\n",
       "      <th>age</th>\n",
       "      <th>city</th>\n",
       "      <th>county</th>\n",
       "      <th>state</th>\n",
       "      <th>agency_name</th>\n",
       "      <th>agency_type</th>\n",
       "      <th>agency_ids</th>\n",
       "      <th>latitude</th>\n",
       "      <th>longitude</th>\n",
       "      <th>location_precision</th>\n",
       "    </tr>\n",
       "    <tr>\n",
       "      <th>id</th>\n",
       "      <th></th>\n",
       "      <th></th>\n",
       "      <th></th>\n",
       "      <th></th>\n",
       "      <th></th>\n",
       "      <th></th>\n",
       "      <th></th>\n",
       "      <th></th>\n",
       "      <th></th>\n",
       "      <th></th>\n",
       "      <th></th>\n",
       "      <th></th>\n",
       "      <th></th>\n",
       "      <th></th>\n",
       "      <th></th>\n",
       "      <th></th>\n",
       "      <th></th>\n",
       "      <th></th>\n",
       "      <th></th>\n",
       "      <th></th>\n",
       "      <th></th>\n",
       "    </tr>\n",
       "  </thead>\n",
       "  <tbody>\n",
       "    <tr>\n",
       "      <th>3</th>\n",
       "      <td>2015</td>\n",
       "      <td>2015-01-02</td>\n",
       "      <td>gun</td>\n",
       "      <td>0</td>\n",
       "      <td>1</td>\n",
       "      <td>0</td>\n",
       "      <td>0</td>\n",
       "      <td>0</td>\n",
       "      <td>0</td>\n",
       "      <td>0</td>\n",
       "      <td>...</td>\n",
       "      <td>53.0</td>\n",
       "      <td>Shelton</td>\n",
       "      <td>Mason</td>\n",
       "      <td>WA</td>\n",
       "      <td>Mason County Sheriff's Office</td>\n",
       "      <td>sheriff</td>\n",
       "      <td>73</td>\n",
       "      <td>47.246826</td>\n",
       "      <td>-123.121592</td>\n",
       "      <td>not_available</td>\n",
       "    </tr>\n",
       "    <tr>\n",
       "      <th>4</th>\n",
       "      <td>2015</td>\n",
       "      <td>2015-01-02</td>\n",
       "      <td>gun</td>\n",
       "      <td>0</td>\n",
       "      <td>1</td>\n",
       "      <td>0</td>\n",
       "      <td>0</td>\n",
       "      <td>0</td>\n",
       "      <td>0</td>\n",
       "      <td>0</td>\n",
       "      <td>...</td>\n",
       "      <td>47.0</td>\n",
       "      <td>Aloha</td>\n",
       "      <td>Washington</td>\n",
       "      <td>OR</td>\n",
       "      <td>Washington County Sheriff's Office</td>\n",
       "      <td>sheriff</td>\n",
       "      <td>70</td>\n",
       "      <td>45.487421</td>\n",
       "      <td>-122.891696</td>\n",
       "      <td>not_available</td>\n",
       "    </tr>\n",
       "    <tr>\n",
       "      <th>5</th>\n",
       "      <td>2015</td>\n",
       "      <td>2015-01-03</td>\n",
       "      <td>unarmed</td>\n",
       "      <td>0</td>\n",
       "      <td>0</td>\n",
       "      <td>0</td>\n",
       "      <td>0</td>\n",
       "      <td>0</td>\n",
       "      <td>1</td>\n",
       "      <td>0</td>\n",
       "      <td>...</td>\n",
       "      <td>23.0</td>\n",
       "      <td>Wichita</td>\n",
       "      <td>Sedgwick</td>\n",
       "      <td>KS</td>\n",
       "      <td>Wichita Police Department</td>\n",
       "      <td>local_police</td>\n",
       "      <td>238</td>\n",
       "      <td>37.694766</td>\n",
       "      <td>-97.280554</td>\n",
       "      <td>not_available</td>\n",
       "    </tr>\n",
       "    <tr>\n",
       "      <th>8</th>\n",
       "      <td>2015</td>\n",
       "      <td>2015-01-04</td>\n",
       "      <td>replica</td>\n",
       "      <td>0</td>\n",
       "      <td>0</td>\n",
       "      <td>0</td>\n",
       "      <td>0</td>\n",
       "      <td>1</td>\n",
       "      <td>0</td>\n",
       "      <td>0</td>\n",
       "      <td>...</td>\n",
       "      <td>32.0</td>\n",
       "      <td>San Francisco</td>\n",
       "      <td>San Francisco</td>\n",
       "      <td>CA</td>\n",
       "      <td>San Francisco Police Department</td>\n",
       "      <td>local_police</td>\n",
       "      <td>196</td>\n",
       "      <td>37.762910</td>\n",
       "      <td>-122.422001</td>\n",
       "      <td>not_available</td>\n",
       "    </tr>\n",
       "    <tr>\n",
       "      <th>9</th>\n",
       "      <td>2015</td>\n",
       "      <td>2015-01-04</td>\n",
       "      <td>other</td>\n",
       "      <td>0</td>\n",
       "      <td>0</td>\n",
       "      <td>0</td>\n",
       "      <td>1</td>\n",
       "      <td>0</td>\n",
       "      <td>0</td>\n",
       "      <td>0</td>\n",
       "      <td>...</td>\n",
       "      <td>39.0</td>\n",
       "      <td>Evans</td>\n",
       "      <td>Weld</td>\n",
       "      <td>CO</td>\n",
       "      <td>Evans Police Department</td>\n",
       "      <td>local_police</td>\n",
       "      <td>473</td>\n",
       "      <td>40.383937</td>\n",
       "      <td>-104.692261</td>\n",
       "      <td>not_available</td>\n",
       "    </tr>\n",
       "  </tbody>\n",
       "</table>\n",
       "<p>5 rows × 55 columns</p>\n",
       "</div>"
      ],
      "text/plain": [
       "    year        date primary_weapon  primary_weapon_blunt_object  \\\n",
       "id                                                                 \n",
       "3   2015  2015-01-02            gun                            0   \n",
       "4   2015  2015-01-02            gun                            0   \n",
       "5   2015  2015-01-03        unarmed                            0   \n",
       "8   2015  2015-01-04        replica                            0   \n",
       "9   2015  2015-01-04          other                            0   \n",
       "\n",
       "    primary_weapon_gun  primary_weapon_knife  primary_weapon_other  \\\n",
       "id                                                                   \n",
       "3                    1                     0                     0   \n",
       "4                    1                     0                     0   \n",
       "5                    0                     0                     0   \n",
       "8                    0                     0                     0   \n",
       "9                    0                     0                     1   \n",
       "\n",
       "    primary_weapon_replica  primary_weapon_unarmed  \\\n",
       "id                                                   \n",
       "3                        0                       0   \n",
       "4                        0                       0   \n",
       "5                        0                       1   \n",
       "8                        1                       0   \n",
       "9                        0                       0   \n",
       "\n",
       "    primary_weapon_undetermined  ...   age           city         county  \\\n",
       "id                               ...                                       \n",
       "3                             0  ...  53.0        Shelton          Mason   \n",
       "4                             0  ...  47.0          Aloha     Washington   \n",
       "5                             0  ...  23.0        Wichita       Sedgwick   \n",
       "8                             0  ...  32.0  San Francisco  San Francisco   \n",
       "9                             0  ...  39.0          Evans           Weld   \n",
       "\n",
       "    state                         agency_name   agency_type  agency_ids  \\\n",
       "id                                                                        \n",
       "3      WA       Mason County Sheriff's Office       sheriff          73   \n",
       "4      OR  Washington County Sheriff's Office       sheriff          70   \n",
       "5      KS           Wichita Police Department  local_police         238   \n",
       "8      CA     San Francisco Police Department  local_police         196   \n",
       "9      CO             Evans Police Department  local_police         473   \n",
       "\n",
       "     latitude   longitude  location_precision  \n",
       "id                                             \n",
       "3   47.246826 -123.121592       not_available  \n",
       "4   45.487421 -122.891696       not_available  \n",
       "5   37.694766  -97.280554       not_available  \n",
       "8   37.762910 -122.422001       not_available  \n",
       "9   40.383937 -104.692261       not_available  \n",
       "\n",
       "[5 rows x 55 columns]"
      ]
     },
     "execution_count": 154,
     "metadata": {},
     "output_type": "execute_result"
    }
   ],
   "source": [
    "df.head()"
   ]
  },
  {
   "cell_type": "code",
   "execution_count": 155,
   "id": "306307c6",
   "metadata": {},
   "outputs": [],
   "source": [
    "assert(len(df) == 8735) # After ALL of our processing, let's just verify our data is still correct and nothing got lost"
   ]
  },
  {
   "cell_type": "markdown",
   "id": "43c50dfa",
   "metadata": {},
   "source": [
    "ESRI doesn't like uint8 format from Pandas Get Dummies, so we will convert to a normal Python Int:"
   ]
  },
  {
   "cell_type": "code",
   "execution_count": 156,
   "id": "35ded929",
   "metadata": {},
   "outputs": [],
   "source": [
    "for x in df.columns[df.dtypes == 'uint8']:\n",
    "    \n",
    "    df[x] = df[x].astype(int)"
   ]
  },
  {
   "cell_type": "markdown",
   "id": "4b6e084c",
   "metadata": {},
   "source": [
    "#### We will export our processed data to the root of our Git repo"
   ]
  },
  {
   "cell_type": "code",
   "execution_count": 157,
   "id": "84d2134c",
   "metadata": {},
   "outputs": [],
   "source": [
    "df.to_csv('../Root/Processed_Data.csv')"
   ]
  },
  {
   "cell_type": "markdown",
   "id": "b391ab69",
   "metadata": {},
   "source": [
    "## ESRI ArcGIS Integration (Geo-enabling our Data)"
   ]
  },
  {
   "cell_type": "markdown",
   "id": "8106f555",
   "metadata": {},
   "source": [
    "In order to be able to analyze, map, and make a compelling dashboard/story - we need to get this data geo-enabled and into our ESRI ArcGIS Online portal:"
   ]
  },
  {
   "cell_type": "code",
   "execution_count": 158,
   "id": "4063e965",
   "metadata": {},
   "outputs": [],
   "source": [
    "def log_into_esri_portal():\n",
    "    print(\"Enter ESRI Portal Client ID:\")\n",
    "    client_id = getpass.getpass() #this can be obtained via the ESRI portal > content > app\n",
    "    gis = GIS(\"https://patrickflynngis.maps.arcgis.com/\", client_id=client_id)\n",
    "    return gis"
   ]
  },
  {
   "cell_type": "code",
   "execution_count": null,
   "id": "f755aa91",
   "metadata": {},
   "outputs": [],
   "source": [
    "gis = log_into_esri_portal()"
   ]
  },
  {
   "cell_type": "markdown",
   "id": "ec7c67f6",
   "metadata": {},
   "source": [
    "Now that we are authenticated with the portal, we will create a special spatially-enabled dataframe provided by the ArcGIS API for Python."
   ]
  },
  {
   "cell_type": "code",
   "execution_count": 160,
   "id": "66977daf",
   "metadata": {},
   "outputs": [],
   "source": [
    "spatial_dataframe = pd.DataFrame.spatial.from_xy(df.copy(), 'longitude', 'latitude')\n",
    "col_map = list(spatial_dataframe.columns[:-1])"
   ]
  },
  {
   "cell_type": "code",
   "execution_count": 161,
   "id": "b7f20e26",
   "metadata": {
    "scrolled": true
   },
   "outputs": [
    {
     "data": {
      "text/html": [
       "<div>\n",
       "<style scoped>\n",
       "    .dataframe tbody tr th:only-of-type {\n",
       "        vertical-align: middle;\n",
       "    }\n",
       "\n",
       "    .dataframe tbody tr th {\n",
       "        vertical-align: top;\n",
       "    }\n",
       "\n",
       "    .dataframe thead th {\n",
       "        text-align: right;\n",
       "    }\n",
       "</style>\n",
       "<table border=\"1\" class=\"dataframe\">\n",
       "  <thead>\n",
       "    <tr style=\"text-align: right;\">\n",
       "      <th></th>\n",
       "      <th>year</th>\n",
       "      <th>date</th>\n",
       "      <th>primary_weapon</th>\n",
       "      <th>primary_weapon_blunt_object</th>\n",
       "      <th>primary_weapon_gun</th>\n",
       "      <th>primary_weapon_knife</th>\n",
       "      <th>primary_weapon_other</th>\n",
       "      <th>primary_weapon_replica</th>\n",
       "      <th>primary_weapon_unarmed</th>\n",
       "      <th>primary_weapon_undetermined</th>\n",
       "      <th>...</th>\n",
       "      <th>city</th>\n",
       "      <th>county</th>\n",
       "      <th>state</th>\n",
       "      <th>agency_name</th>\n",
       "      <th>agency_type</th>\n",
       "      <th>agency_ids</th>\n",
       "      <th>latitude</th>\n",
       "      <th>longitude</th>\n",
       "      <th>location_precision</th>\n",
       "      <th>SHAPE</th>\n",
       "    </tr>\n",
       "    <tr>\n",
       "      <th>id</th>\n",
       "      <th></th>\n",
       "      <th></th>\n",
       "      <th></th>\n",
       "      <th></th>\n",
       "      <th></th>\n",
       "      <th></th>\n",
       "      <th></th>\n",
       "      <th></th>\n",
       "      <th></th>\n",
       "      <th></th>\n",
       "      <th></th>\n",
       "      <th></th>\n",
       "      <th></th>\n",
       "      <th></th>\n",
       "      <th></th>\n",
       "      <th></th>\n",
       "      <th></th>\n",
       "      <th></th>\n",
       "      <th></th>\n",
       "      <th></th>\n",
       "      <th></th>\n",
       "    </tr>\n",
       "  </thead>\n",
       "  <tbody>\n",
       "    <tr>\n",
       "      <th>3</th>\n",
       "      <td>2015</td>\n",
       "      <td>2015-01-02</td>\n",
       "      <td>gun</td>\n",
       "      <td>0</td>\n",
       "      <td>1</td>\n",
       "      <td>0</td>\n",
       "      <td>0</td>\n",
       "      <td>0</td>\n",
       "      <td>0</td>\n",
       "      <td>0</td>\n",
       "      <td>...</td>\n",
       "      <td>Shelton</td>\n",
       "      <td>Mason</td>\n",
       "      <td>WA</td>\n",
       "      <td>Mason County Sheriff's Office</td>\n",
       "      <td>sheriff</td>\n",
       "      <td>73</td>\n",
       "      <td>47.246826</td>\n",
       "      <td>-123.121592</td>\n",
       "      <td>not_available</td>\n",
       "      <td>{\"spatialReference\": {\"wkid\": 4326}, \"x\": -123...</td>\n",
       "    </tr>\n",
       "    <tr>\n",
       "      <th>4</th>\n",
       "      <td>2015</td>\n",
       "      <td>2015-01-02</td>\n",
       "      <td>gun</td>\n",
       "      <td>0</td>\n",
       "      <td>1</td>\n",
       "      <td>0</td>\n",
       "      <td>0</td>\n",
       "      <td>0</td>\n",
       "      <td>0</td>\n",
       "      <td>0</td>\n",
       "      <td>...</td>\n",
       "      <td>Aloha</td>\n",
       "      <td>Washington</td>\n",
       "      <td>OR</td>\n",
       "      <td>Washington County Sheriff's Office</td>\n",
       "      <td>sheriff</td>\n",
       "      <td>70</td>\n",
       "      <td>45.487421</td>\n",
       "      <td>-122.891696</td>\n",
       "      <td>not_available</td>\n",
       "      <td>{\"spatialReference\": {\"wkid\": 4326}, \"x\": -122...</td>\n",
       "    </tr>\n",
       "    <tr>\n",
       "      <th>5</th>\n",
       "      <td>2015</td>\n",
       "      <td>2015-01-03</td>\n",
       "      <td>unarmed</td>\n",
       "      <td>0</td>\n",
       "      <td>0</td>\n",
       "      <td>0</td>\n",
       "      <td>0</td>\n",
       "      <td>0</td>\n",
       "      <td>1</td>\n",
       "      <td>0</td>\n",
       "      <td>...</td>\n",
       "      <td>Wichita</td>\n",
       "      <td>Sedgwick</td>\n",
       "      <td>KS</td>\n",
       "      <td>Wichita Police Department</td>\n",
       "      <td>local_police</td>\n",
       "      <td>238</td>\n",
       "      <td>37.694766</td>\n",
       "      <td>-97.280554</td>\n",
       "      <td>not_available</td>\n",
       "      <td>{\"spatialReference\": {\"wkid\": 4326}, \"x\": -97....</td>\n",
       "    </tr>\n",
       "    <tr>\n",
       "      <th>8</th>\n",
       "      <td>2015</td>\n",
       "      <td>2015-01-04</td>\n",
       "      <td>replica</td>\n",
       "      <td>0</td>\n",
       "      <td>0</td>\n",
       "      <td>0</td>\n",
       "      <td>0</td>\n",
       "      <td>1</td>\n",
       "      <td>0</td>\n",
       "      <td>0</td>\n",
       "      <td>...</td>\n",
       "      <td>San Francisco</td>\n",
       "      <td>San Francisco</td>\n",
       "      <td>CA</td>\n",
       "      <td>San Francisco Police Department</td>\n",
       "      <td>local_police</td>\n",
       "      <td>196</td>\n",
       "      <td>37.762910</td>\n",
       "      <td>-122.422001</td>\n",
       "      <td>not_available</td>\n",
       "      <td>{\"spatialReference\": {\"wkid\": 4326}, \"x\": -122...</td>\n",
       "    </tr>\n",
       "    <tr>\n",
       "      <th>9</th>\n",
       "      <td>2015</td>\n",
       "      <td>2015-01-04</td>\n",
       "      <td>other</td>\n",
       "      <td>0</td>\n",
       "      <td>0</td>\n",
       "      <td>0</td>\n",
       "      <td>1</td>\n",
       "      <td>0</td>\n",
       "      <td>0</td>\n",
       "      <td>0</td>\n",
       "      <td>...</td>\n",
       "      <td>Evans</td>\n",
       "      <td>Weld</td>\n",
       "      <td>CO</td>\n",
       "      <td>Evans Police Department</td>\n",
       "      <td>local_police</td>\n",
       "      <td>473</td>\n",
       "      <td>40.383937</td>\n",
       "      <td>-104.692261</td>\n",
       "      <td>not_available</td>\n",
       "      <td>{\"spatialReference\": {\"wkid\": 4326}, \"x\": -104...</td>\n",
       "    </tr>\n",
       "  </tbody>\n",
       "</table>\n",
       "<p>5 rows × 56 columns</p>\n",
       "</div>"
      ],
      "text/plain": [
       "    year        date primary_weapon  primary_weapon_blunt_object  \\\n",
       "id                                                                 \n",
       "3   2015  2015-01-02            gun                            0   \n",
       "4   2015  2015-01-02            gun                            0   \n",
       "5   2015  2015-01-03        unarmed                            0   \n",
       "8   2015  2015-01-04        replica                            0   \n",
       "9   2015  2015-01-04          other                            0   \n",
       "\n",
       "    primary_weapon_gun  primary_weapon_knife  primary_weapon_other  \\\n",
       "id                                                                   \n",
       "3                    1                     0                     0   \n",
       "4                    1                     0                     0   \n",
       "5                    0                     0                     0   \n",
       "8                    0                     0                     0   \n",
       "9                    0                     0                     1   \n",
       "\n",
       "    primary_weapon_replica  primary_weapon_unarmed  \\\n",
       "id                                                   \n",
       "3                        0                       0   \n",
       "4                        0                       0   \n",
       "5                        0                       1   \n",
       "8                        1                       0   \n",
       "9                        0                       0   \n",
       "\n",
       "    primary_weapon_undetermined  ...           city         county state  \\\n",
       "id                               ...                                       \n",
       "3                             0  ...        Shelton          Mason    WA   \n",
       "4                             0  ...          Aloha     Washington    OR   \n",
       "5                             0  ...        Wichita       Sedgwick    KS   \n",
       "8                             0  ...  San Francisco  San Francisco    CA   \n",
       "9                             0  ...          Evans           Weld    CO   \n",
       "\n",
       "                           agency_name   agency_type  agency_ids   latitude  \\\n",
       "id                                                                            \n",
       "3        Mason County Sheriff's Office       sheriff          73  47.246826   \n",
       "4   Washington County Sheriff's Office       sheriff          70  45.487421   \n",
       "5            Wichita Police Department  local_police         238  37.694766   \n",
       "8      San Francisco Police Department  local_police         196  37.762910   \n",
       "9              Evans Police Department  local_police         473  40.383937   \n",
       "\n",
       "     longitude  location_precision  \\\n",
       "id                                   \n",
       "3  -123.121592       not_available   \n",
       "4  -122.891696       not_available   \n",
       "5   -97.280554       not_available   \n",
       "8  -122.422001       not_available   \n",
       "9  -104.692261       not_available   \n",
       "\n",
       "                                                SHAPE  \n",
       "id                                                     \n",
       "3   {\"spatialReference\": {\"wkid\": 4326}, \"x\": -123...  \n",
       "4   {\"spatialReference\": {\"wkid\": 4326}, \"x\": -122...  \n",
       "5   {\"spatialReference\": {\"wkid\": 4326}, \"x\": -97....  \n",
       "8   {\"spatialReference\": {\"wkid\": 4326}, \"x\": -122...  \n",
       "9   {\"spatialReference\": {\"wkid\": 4326}, \"x\": -104...  \n",
       "\n",
       "[5 rows x 56 columns]"
      ]
     },
     "execution_count": 161,
     "metadata": {},
     "output_type": "execute_result"
    }
   ],
   "source": [
    "spatial_dataframe.head()"
   ]
  },
  {
   "cell_type": "code",
   "execution_count": 162,
   "id": "bf7a8d31",
   "metadata": {},
   "outputs": [],
   "source": [
    "assert(len(spatial_dataframe) == len(df))\n",
    "assert(len(spatial_dataframe.columns) == len(df.columns)+1)"
   ]
  },
  {
   "cell_type": "markdown",
   "id": "d48c7473",
   "metadata": {},
   "source": [
    "Now we will publish the data to the cloud!  "
   ]
  },
  {
   "cell_type": "code",
   "execution_count": 163,
   "id": "7d404079",
   "metadata": {},
   "outputs": [],
   "source": [
    "description = '''\n",
    "<div>The purpose of this dataset is to provide decision/policy makers, local/state/federal law enforcement officials, \n",
    "and the community with the available data regarding fatal shootings by police in an effort to reduce fatal encounters \n",
    "between the public and police by 50% in the next 10 years (2032).</div><div><br /></div>This is data provided by the \n",
    "Washington Post (via <a href=\"https://github.com/washingtonpost/data-police-shootings/\" \n",
    "target=\"_blank\">https://github.com/washingtonpost/data-police-shootings/</a>). The data has been cleaned, \n",
    "missing data labeled appropriately, and data without geolocations geocoded to the nearest city.<div><div><br />\n",
    "</div><div>For more information about the processing applied to this data, please visit: \n",
    "<a href=\"https://github.com/PatrickFlynn/fatal_police_shooting_analysis\" target=\"_blank\">\n",
    "https://github.com/PatrickFlynn/fatal_police_shooting_analysis</a></div></div>'''"
   ]
  },
  {
   "cell_type": "code",
   "execution_count": 164,
   "id": "4d060ec7",
   "metadata": {},
   "outputs": [],
   "source": [
    "item_prop = {\n",
    "    'title':'Fatal Police Shootings',\n",
    "    'tags':'law enforcement, data analysis, open source, Washington Post, use of force, moonshot',\n",
    "    'description': description,\n",
    "}\n",
    "csv_data = gis.content.get('847e4a033c07436fb3582fbb0a3ee3ee') #CSV Data\n",
    "if csv_data is None:\n",
    "    csv_data = gis.content.add(item_properties=item_prop, data='../Root/Processed_Data.csv')\n",
    "    data_layer = csv_data.publish()"
   ]
  },
  {
   "cell_type": "code",
   "execution_count": 165,
   "id": "9d02466d",
   "metadata": {},
   "outputs": [
    {
     "data": {
      "text/html": [
       "<div class=\"item_container\" style=\"height: auto; overflow: hidden; border: 1px solid #cfcfcf; border-radius: 2px; background: #f6fafa; line-height: 1.21429em; padding: 10px;\">\n",
       "                    <div class=\"item_left\" style=\"width: 210px; float: left;\">\n",
       "                       <a href='https://PatrickFlynnGIS.maps.arcgis.com/home/item.html?id=847e4a033c07436fb3582fbb0a3ee3ee' target='_blank'>\n",
       "                        <img src='http://static.arcgis.com/images/desktopapp.png' class=\"itemThumbnail\">\n",
       "                       </a>\n",
       "                    </div>\n",
       "\n",
       "                    <div class=\"item_right\"     style=\"float: none; width: auto; overflow: hidden;\">\n",
       "                        <a href='https://PatrickFlynnGIS.maps.arcgis.com/home/item.html?id=847e4a033c07436fb3582fbb0a3ee3ee' target='_blank'><b>Fatal Police Shootings</b>\n",
       "                        </a>\n",
       "                        <br/><img src='https://PatrickFlynnGIS.maps.arcgis.com/home/js/jsapi/esri/css/images/item_type_icons/featureshosted16.png' style=\"vertical-align:middle;\">Feature Layer Collection by patrickseanflynn\n",
       "                        <br/>Last Modified: September 17, 2023\n",
       "                        <br/>0 comments, 0 views\n",
       "                    </div>\n",
       "                </div>\n",
       "                "
      ],
      "text/plain": [
       "<Item title:\"Fatal Police Shootings\" type:Feature Layer Collection owner:patrickseanflynn>"
      ]
     },
     "execution_count": 165,
     "metadata": {},
     "output_type": "execute_result"
    }
   ],
   "source": [
    "data_layer"
   ]
  }
 ],
 "metadata": {
  "kernelspec": {
   "display_name": "Python 3 (ipykernel)",
   "language": "python",
   "name": "python3"
  },
  "language_info": {
   "codemirror_mode": {
    "name": "ipython",
    "version": 3
   },
   "file_extension": ".py",
   "mimetype": "text/x-python",
   "name": "python",
   "nbconvert_exporter": "python",
   "pygments_lexer": "ipython3",
   "version": "3.8.18"
  }
 },
 "nbformat": 4,
 "nbformat_minor": 5
}

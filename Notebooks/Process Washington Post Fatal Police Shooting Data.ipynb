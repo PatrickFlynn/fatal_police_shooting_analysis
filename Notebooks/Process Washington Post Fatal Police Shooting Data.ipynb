{
 "cells": [
  {
   "cell_type": "markdown",
   "id": "2f79fd6b",
   "metadata": {},
   "source": [
    "# Summary"
   ]
  },
  {
   "cell_type": "markdown",
   "id": "39e2781c",
   "metadata": {},
   "source": [
    "### Required Libraries"
   ]
  },
  {
   "cell_type": "code",
   "execution_count": 399,
   "id": "ab8c32c6",
   "metadata": {},
   "outputs": [],
   "source": [
    "#Base Python libraries\n",
    "import requests\n",
    "import os\n",
    "import getpass\n",
    "import urllib\n",
    "import json\n",
    "import pickle\n",
    "import datetime as dt\n",
    "\n",
    "#Data Sci/Analysis libraries\n",
    "import numpy as np\n",
    "import pandas as pd\n",
    "\n",
    "#Visualization Libraries\n",
    "import matplotlib.pyplot as plt\n",
    "import seaborn as sns\n",
    "\n",
    "#ArcGIS \n",
    "from arcgis.gis import GIS"
   ]
  },
  {
   "cell_type": "markdown",
   "id": "4b0ae4ff",
   "metadata": {},
   "source": [
    "### Sources"
   ]
  },
  {
   "cell_type": "markdown",
   "id": "08ba005b",
   "metadata": {},
   "source": [
    "Washington Post Github Repo:\n",
    "- <a href=\"https://github.com/washingtonpost/data-police-shootings/\">https://github.com/washingtonpost/data-police-shootings/</a>\n",
    "\n",
    "Data Dictionary:\n",
    "- <a href=\"https://github.com/washingtonpost/data-police-shootings/blob/master/v2/README.md\">https://github.com/washingtonpost/data-police-shootings/blob/master/v2/README.md</a>"
   ]
  },
  {
   "cell_type": "markdown",
   "id": "da03f5d5",
   "metadata": {},
   "source": [
    "### Download Data from Washington Post Github Repo"
   ]
  },
  {
   "cell_type": "markdown",
   "id": "b1963958",
   "metadata": {},
   "source": [
    "We will be downloading two data sources:\n",
    "   - The actual fatal police shootings (fatal-police-shootings-data.csv)\n",
    "   - Agency information (such as department type, state, ORI codes, etc)"
   ]
  },
  {
   "cell_type": "code",
   "execution_count": 400,
   "id": "643b1274",
   "metadata": {},
   "outputs": [],
   "source": [
    "data_url = \"https://raw.githubusercontent.com/washingtonpost/data-police-shootings/master/v2/fatal-police-shootings-data.csv\"\n",
    "\n",
    "#Put on two lines for readability\n",
    "agency_url = \\\n",
    "\"https://raw.githubusercontent.com/washingtonpost/data-police-shootings/master/v2/fatal-police-shootings-agencies.csv\""
   ]
  },
  {
   "cell_type": "markdown",
   "id": "49a422c1",
   "metadata": {},
   "source": [
    "We will only download this data if it already doesn't exist in our repo: (current date/time of download 2023-09-15 20:00 UTC)"
   ]
  },
  {
   "cell_type": "code",
   "execution_count": 401,
   "id": "edc329a9",
   "metadata": {},
   "outputs": [],
   "source": [
    "if ~ os.path.exists('../Data/fatal-police-shootings-data.csv'):\n",
    "    data_csv = requests.get(data_url).content\n",
    "    with open('../Data/fatal-police-shootings-data.csv', 'wb') as csv_file:\n",
    "        csv_file.write(data_csv)\n",
    "        \n",
    "if ~ os.path.exists('../Data/fatal-police-shootings-agencies.csv'):\n",
    "    data_csv = requests.get(agency_url).content\n",
    "    with open('../Data/fatal-police-shootings-agencies.csv', 'wb') as csv_file:\n",
    "        csv_file.write(data_csv)"
   ]
  },
  {
   "cell_type": "markdown",
   "id": "fd8e5d59",
   "metadata": {},
   "source": [
    "### Inspection of Shooting Dataset"
   ]
  },
  {
   "cell_type": "code",
   "execution_count": 402,
   "id": "b22a1009",
   "metadata": {},
   "outputs": [],
   "source": [
    "df = pd.read_csv('../Data/fatal-police-shootings-data.csv')\n",
    "agency_df = pd.read_csv('../Data/fatal-police-shootings-agencies.csv').drop(columns=['total_shootings', 'state'])"
   ]
  },
  {
   "cell_type": "code",
   "execution_count": 403,
   "id": "a3bf87b4",
   "metadata": {},
   "outputs": [
    {
     "data": {
      "text/html": [
       "<div>\n",
       "<style scoped>\n",
       "    .dataframe tbody tr th:only-of-type {\n",
       "        vertical-align: middle;\n",
       "    }\n",
       "\n",
       "    .dataframe tbody tr th {\n",
       "        vertical-align: top;\n",
       "    }\n",
       "\n",
       "    .dataframe thead th {\n",
       "        text-align: right;\n",
       "    }\n",
       "</style>\n",
       "<table border=\"1\" class=\"dataframe\">\n",
       "  <thead>\n",
       "    <tr style=\"text-align: right;\">\n",
       "      <th></th>\n",
       "      <th>id</th>\n",
       "      <th>date</th>\n",
       "      <th>threat_type</th>\n",
       "      <th>flee_status</th>\n",
       "      <th>armed_with</th>\n",
       "      <th>city</th>\n",
       "      <th>county</th>\n",
       "      <th>state</th>\n",
       "      <th>latitude</th>\n",
       "      <th>longitude</th>\n",
       "      <th>location_precision</th>\n",
       "      <th>name</th>\n",
       "      <th>age</th>\n",
       "      <th>gender</th>\n",
       "      <th>race</th>\n",
       "      <th>race_source</th>\n",
       "      <th>was_mental_illness_related</th>\n",
       "      <th>body_camera</th>\n",
       "      <th>agency_ids</th>\n",
       "    </tr>\n",
       "  </thead>\n",
       "  <tbody>\n",
       "    <tr>\n",
       "      <th>0</th>\n",
       "      <td>3</td>\n",
       "      <td>2015-01-02</td>\n",
       "      <td>point</td>\n",
       "      <td>not</td>\n",
       "      <td>gun</td>\n",
       "      <td>Shelton</td>\n",
       "      <td>Mason</td>\n",
       "      <td>WA</td>\n",
       "      <td>47.246826</td>\n",
       "      <td>-123.121592</td>\n",
       "      <td>not_available</td>\n",
       "      <td>Tim Elliot</td>\n",
       "      <td>53.0</td>\n",
       "      <td>male</td>\n",
       "      <td>A</td>\n",
       "      <td>not_available</td>\n",
       "      <td>True</td>\n",
       "      <td>False</td>\n",
       "      <td>73</td>\n",
       "    </tr>\n",
       "    <tr>\n",
       "      <th>1</th>\n",
       "      <td>4</td>\n",
       "      <td>2015-01-02</td>\n",
       "      <td>point</td>\n",
       "      <td>not</td>\n",
       "      <td>gun</td>\n",
       "      <td>Aloha</td>\n",
       "      <td>Washington</td>\n",
       "      <td>OR</td>\n",
       "      <td>45.487421</td>\n",
       "      <td>-122.891696</td>\n",
       "      <td>not_available</td>\n",
       "      <td>Lewis Lee Lembke</td>\n",
       "      <td>47.0</td>\n",
       "      <td>male</td>\n",
       "      <td>W</td>\n",
       "      <td>not_available</td>\n",
       "      <td>False</td>\n",
       "      <td>False</td>\n",
       "      <td>70</td>\n",
       "    </tr>\n",
       "    <tr>\n",
       "      <th>2</th>\n",
       "      <td>5</td>\n",
       "      <td>2015-01-03</td>\n",
       "      <td>move</td>\n",
       "      <td>not</td>\n",
       "      <td>unarmed</td>\n",
       "      <td>Wichita</td>\n",
       "      <td>Sedgwick</td>\n",
       "      <td>KS</td>\n",
       "      <td>37.694766</td>\n",
       "      <td>-97.280554</td>\n",
       "      <td>not_available</td>\n",
       "      <td>John Paul Quintero</td>\n",
       "      <td>23.0</td>\n",
       "      <td>male</td>\n",
       "      <td>H</td>\n",
       "      <td>not_available</td>\n",
       "      <td>False</td>\n",
       "      <td>False</td>\n",
       "      <td>238</td>\n",
       "    </tr>\n",
       "    <tr>\n",
       "      <th>3</th>\n",
       "      <td>8</td>\n",
       "      <td>2015-01-04</td>\n",
       "      <td>point</td>\n",
       "      <td>not</td>\n",
       "      <td>replica</td>\n",
       "      <td>San Francisco</td>\n",
       "      <td>San Francisco</td>\n",
       "      <td>CA</td>\n",
       "      <td>37.762910</td>\n",
       "      <td>-122.422001</td>\n",
       "      <td>not_available</td>\n",
       "      <td>Matthew Hoffman</td>\n",
       "      <td>32.0</td>\n",
       "      <td>male</td>\n",
       "      <td>W</td>\n",
       "      <td>not_available</td>\n",
       "      <td>True</td>\n",
       "      <td>False</td>\n",
       "      <td>196</td>\n",
       "    </tr>\n",
       "    <tr>\n",
       "      <th>4</th>\n",
       "      <td>9</td>\n",
       "      <td>2015-01-04</td>\n",
       "      <td>point</td>\n",
       "      <td>not</td>\n",
       "      <td>other</td>\n",
       "      <td>Evans</td>\n",
       "      <td>Weld</td>\n",
       "      <td>CO</td>\n",
       "      <td>40.383937</td>\n",
       "      <td>-104.692261</td>\n",
       "      <td>not_available</td>\n",
       "      <td>Michael Rodriguez</td>\n",
       "      <td>39.0</td>\n",
       "      <td>male</td>\n",
       "      <td>H</td>\n",
       "      <td>not_available</td>\n",
       "      <td>False</td>\n",
       "      <td>False</td>\n",
       "      <td>473</td>\n",
       "    </tr>\n",
       "  </tbody>\n",
       "</table>\n",
       "</div>"
      ],
      "text/plain": [
       "   id        date threat_type flee_status armed_with           city  \\\n",
       "0   3  2015-01-02       point         not        gun        Shelton   \n",
       "1   4  2015-01-02       point         not        gun          Aloha   \n",
       "2   5  2015-01-03        move         not    unarmed        Wichita   \n",
       "3   8  2015-01-04       point         not    replica  San Francisco   \n",
       "4   9  2015-01-04       point         not      other          Evans   \n",
       "\n",
       "          county state   latitude   longitude location_precision  \\\n",
       "0          Mason    WA  47.246826 -123.121592      not_available   \n",
       "1     Washington    OR  45.487421 -122.891696      not_available   \n",
       "2       Sedgwick    KS  37.694766  -97.280554      not_available   \n",
       "3  San Francisco    CA  37.762910 -122.422001      not_available   \n",
       "4           Weld    CO  40.383937 -104.692261      not_available   \n",
       "\n",
       "                 name   age gender race    race_source  \\\n",
       "0          Tim Elliot  53.0   male    A  not_available   \n",
       "1    Lewis Lee Lembke  47.0   male    W  not_available   \n",
       "2  John Paul Quintero  23.0   male    H  not_available   \n",
       "3     Matthew Hoffman  32.0   male    W  not_available   \n",
       "4   Michael Rodriguez  39.0   male    H  not_available   \n",
       "\n",
       "   was_mental_illness_related  body_camera agency_ids  \n",
       "0                        True        False         73  \n",
       "1                       False        False         70  \n",
       "2                       False        False        238  \n",
       "3                        True        False        196  \n",
       "4                       False        False        473  "
      ]
     },
     "execution_count": 403,
     "metadata": {},
     "output_type": "execute_result"
    }
   ],
   "source": [
    "df.head()"
   ]
  },
  {
   "cell_type": "code",
   "execution_count": 404,
   "id": "5641bb40",
   "metadata": {},
   "outputs": [
    {
     "name": "stdout",
     "output_type": "stream",
     "text": [
      "<class 'pandas.core.frame.DataFrame'>\n",
      "RangeIndex: 8735 entries, 0 to 8734\n",
      "Data columns (total 19 columns):\n",
      " #   Column                      Non-Null Count  Dtype  \n",
      "---  ------                      --------------  -----  \n",
      " 0   id                          8735 non-null   int64  \n",
      " 1   date                        8735 non-null   object \n",
      " 2   threat_type                 8692 non-null   object \n",
      " 3   flee_status                 7558 non-null   object \n",
      " 4   armed_with                  8525 non-null   object \n",
      " 5   city                        8681 non-null   object \n",
      " 6   county                      3879 non-null   object \n",
      " 7   state                       8735 non-null   object \n",
      " 8   latitude                    7755 non-null   float64\n",
      " 9   longitude                   7755 non-null   float64\n",
      " 10  location_precision          7755 non-null   object \n",
      " 11  name                        8158 non-null   object \n",
      " 12  age                         8134 non-null   float64\n",
      " 13  gender                      8685 non-null   object \n",
      " 14  race                        7336 non-null   object \n",
      " 15  race_source                 7358 non-null   object \n",
      " 16  was_mental_illness_related  8735 non-null   bool   \n",
      " 17  body_camera                 8735 non-null   bool   \n",
      " 18  agency_ids                  8734 non-null   object \n",
      "dtypes: bool(2), float64(3), int64(1), object(13)\n",
      "memory usage: 1.1+ MB\n"
     ]
    }
   ],
   "source": [
    "df.info()"
   ]
  },
  {
   "cell_type": "markdown",
   "id": "01765a8c",
   "metadata": {},
   "source": [
    "For the most part, our dataset is in good shape. But we will want to transform/enrich/remove some of our data to perform our analysis. \n",
    "\n",
    "**Missing Data**</br>\n",
    "The following columns that contain NULL values we will mark as \"unknown\":\n",
    "\n",
    "- threat_type\n",
    "- flee_status\n",
    "- armed_with\n",
    "- city\n",
    "- county\n",
    "- gender\n",
    "- race\n",
    "\n",
    "**Data to be Removed**<br/>\n",
    "We will remove the following columns as they aren't relavant to our analysis:\n",
    "- name\n",
    "- race_source\n",
    "\n",
    "**Data to be Enriched/Transformed**<br/>\n",
    "- armed_with\n",
    "    - We will only keep the MOST severe weapon based on the force continuum (i.e. Hand/Feet/Fist > Knife > Gun etc.)\n",
    "- race\n",
    "    - We will replace the race with the full version (i.e. W => White) as described in the provided data dictionary\n",
    "    - Additionally, if TWO or more races are present (designated with a \";\" separator) we will only use the FIRST race\n",
    "- latitude/longitude\n",
    "    - If we do not have latitude/longitude, we will geolocate the data to the nearest city \n",
    "- agency_ids\n",
    "    - If we have MORE than one agency_id listed for a shooting, we will use the first agency for easier analysis"
   ]
  },
  {
   "cell_type": "markdown",
   "id": "16a7b4a0",
   "metadata": {},
   "source": [
    "### Cleaning our Dataset"
   ]
  },
  {
   "cell_type": "markdown",
   "id": "62b4c9b7",
   "metadata": {},
   "source": [
    "Some basic cleaning and verification:"
   ]
  },
  {
   "cell_type": "markdown",
   "id": "51a3b27f",
   "metadata": {},
   "source": [
    "**Date field:**<br/>We can go ahead and turn out date into a Python DateTime object"
   ]
  },
  {
   "cell_type": "code",
   "execution_count": 405,
   "id": "2da86ad6",
   "metadata": {},
   "outputs": [],
   "source": [
    "df['date'] = pd.to_datetime(df['date'])"
   ]
  },
  {
   "cell_type": "markdown",
   "id": "58c61c3a",
   "metadata": {},
   "source": [
    "Additionally we will create a simple \"year\" field"
   ]
  },
  {
   "cell_type": "code",
   "execution_count": 406,
   "id": "64db4a7c",
   "metadata": {},
   "outputs": [],
   "source": [
    "df['year'] = df['date'].dt.year"
   ]
  },
  {
   "cell_type": "markdown",
   "id": "45544736",
   "metadata": {},
   "source": [
    "**Age:**<br/> We have some missing values for age so we will also verify that they haven't ALSO been coded as 0 or 99 when age is missing:"
   ]
  },
  {
   "cell_type": "code",
   "execution_count": 407,
   "id": "d40acaa8",
   "metadata": {},
   "outputs": [],
   "source": [
    "assert((df['age'] <= 0).sum() + (df['age'] >= 99).sum() == 0)"
   ]
  },
  {
   "cell_type": "markdown",
   "id": "bf5f6793",
   "metadata": {},
   "source": [
    "#### Boolean Fields:\n",
    "We will replace boolean values (true/false) with their corresponding integer values (false = 0, true = 1)"
   ]
  },
  {
   "cell_type": "code",
   "execution_count": 408,
   "id": "552568a3",
   "metadata": {},
   "outputs": [],
   "source": [
    "df.loc[:, ['was_mental_illness_related', 'body_camera']] = df.loc[:, ['was_mental_illness_related', 'body_camera']].astype(int)"
   ]
  },
  {
   "cell_type": "markdown",
   "id": "fd5d7b50",
   "metadata": {},
   "source": [
    "#### Null/Missing Replacements"
   ]
  },
  {
   "cell_type": "markdown",
   "id": "750f1da1",
   "metadata": {},
   "source": [
    "We will mark our NULL values as described above as \"unknown\""
   ]
  },
  {
   "cell_type": "code",
   "execution_count": 409,
   "id": "b5af361a",
   "metadata": {},
   "outputs": [],
   "source": [
    "columns_to_replace_nan_vals = ['threat_type', 'flee_status','armed_with','city','county','gender','race']"
   ]
  },
  {
   "cell_type": "code",
   "execution_count": 410,
   "id": "b6ce959a",
   "metadata": {},
   "outputs": [],
   "source": [
    "df.loc[:, columns_to_replace_nan_vals] = \\\n",
    "df.loc[:, columns_to_replace_nan_vals].fillna('unknown')"
   ]
  },
  {
   "cell_type": "code",
   "execution_count": 411,
   "id": "e44b0899",
   "metadata": {},
   "outputs": [],
   "source": [
    "#Assert that we have replace ALL missing values for designated columns\n",
    "assert(df.loc[:, columns_to_replace_nan_vals].isna().sum().sum() == 0)"
   ]
  },
  {
   "cell_type": "markdown",
   "id": "3394416a",
   "metadata": {},
   "source": [
    "Next we will remove the columns not necessary for our analysis"
   ]
  },
  {
   "cell_type": "code",
   "execution_count": 412,
   "id": "345c3165",
   "metadata": {},
   "outputs": [],
   "source": [
    "df.drop(columns=['name', 'race_source'], inplace=True)"
   ]
  },
  {
   "cell_type": "markdown",
   "id": "d3141f45",
   "metadata": {},
   "source": [
    "Now we will begin transforming/enriching our data:"
   ]
  },
  {
   "cell_type": "markdown",
   "id": "548decb5",
   "metadata": {},
   "source": [
    "#### Weapon (armed_with) Transformation"
   ]
  },
  {
   "cell_type": "markdown",
   "id": "3c70dfce",
   "metadata": {},
   "source": [
    "These are the unique weapon/weapon combinations in the dataset:"
   ]
  },
  {
   "cell_type": "code",
   "execution_count": 413,
   "id": "ae85df21",
   "metadata": {},
   "outputs": [
    {
     "data": {
      "text/plain": [
       "array(['gun', 'unarmed', 'replica', 'other', 'knife', 'unknown',\n",
       "       'blunt_object', 'vehicle', 'undetermined', 'other;gun',\n",
       "       'blunt_object;blunt_object', 'gun;knife', 'knife;blunt_object',\n",
       "       'vehicle;gun', 'gun;vehicle', 'replica;vehicle',\n",
       "       'blunt_object;knife', 'knife;vehicle', 'vehicle;knife;other',\n",
       "       'replica;knife', 'other;blunt_object;knife'], dtype=object)"
      ]
     },
     "execution_count": 413,
     "metadata": {},
     "output_type": "execute_result"
    }
   ],
   "source": [
    "df['armed_with'].unique()"
   ]
  },
  {
   "cell_type": "markdown",
   "id": "f96aaf40",
   "metadata": {},
   "source": [
    "This is obviously somewhat arbitrary in terms of ranking, but in theory is listed in order of danger/perceived danger level from the officer's standpoint:"
   ]
  },
  {
   "cell_type": "code",
   "execution_count": 414,
   "id": "a2614441",
   "metadata": {},
   "outputs": [],
   "source": [
    "weapon_severity = {\n",
    "    'gun' : 1,\n",
    "    'vehicle': 2,\n",
    "    'replica':3,\n",
    "    'knife': 4,\n",
    "    'blunt_object':5,\n",
    "    'other':6,\n",
    "    'unarmed':7,\n",
    "    'undetermined':8,\n",
    "    'unknown':9,\n",
    "}"
   ]
  },
  {
   "cell_type": "markdown",
   "id": "559674a7",
   "metadata": {},
   "source": [
    "Now we will identify any records that have multiple weapons listed and ONLY get the most severe based on our severity ranking created above."
   ]
  },
  {
   "cell_type": "code",
   "execution_count": 415,
   "id": "0c15f4c5",
   "metadata": {},
   "outputs": [],
   "source": [
    "multi_wep_mask = df['armed_with'].str.contains(';')"
   ]
  },
  {
   "cell_type": "code",
   "execution_count": 416,
   "id": "edcf304b",
   "metadata": {},
   "outputs": [],
   "source": [
    "df.loc[multi_wep_mask, 'armed_with'] = \\\n",
    "df.loc[multi_wep_mask, 'armed_with'].str.split(';')\\\n",
    ".apply(lambda x: sorted(x, key=lambda y: weapon_severity[y])[0])"
   ]
  },
  {
   "cell_type": "code",
   "execution_count": 417,
   "id": "983d1939",
   "metadata": {},
   "outputs": [],
   "source": [
    "assert(df.iloc[4824]['armed_with'] == 'vehicle')#Should be VEHICLE, was previously: 'vehicle;knife;other'"
   ]
  },
  {
   "cell_type": "markdown",
   "id": "7fd1baa9",
   "metadata": {},
   "source": [
    "Now let's take one more look and verify we dont have any multi-weapon records:"
   ]
  },
  {
   "cell_type": "code",
   "execution_count": 418,
   "id": "941a1721",
   "metadata": {},
   "outputs": [
    {
     "data": {
      "text/plain": [
       "array(['gun', 'unarmed', 'replica', 'other', 'knife', 'unknown',\n",
       "       'blunt_object', 'vehicle', 'undetermined'], dtype=object)"
      ]
     },
     "execution_count": 418,
     "metadata": {},
     "output_type": "execute_result"
    }
   ],
   "source": [
    "df['armed_with'].unique()"
   ]
  },
  {
   "cell_type": "markdown",
   "id": "f7c37eeb",
   "metadata": {},
   "source": [
    "#### Race Transformation\n",
    "We will first replace the short-hand versions of race with the full version for easier interpretation."
   ]
  },
  {
   "cell_type": "code",
   "execution_count": 419,
   "id": "7f4fcdeb",
   "metadata": {},
   "outputs": [],
   "source": [
    "#Short-hand to longer description map\n",
    "race_map = {\n",
    "    'W':'White',\n",
    "    'B':'Black',\n",
    "    'A':'Asian Heritage',\n",
    "    'N':'Native American',\n",
    "    'H':'Hispanic',\n",
    "    'O':'Other',\n",
    "    '--':'unknown',\n",
    "    'unknown':'unknown',\n",
    "}"
   ]
  },
  {
   "cell_type": "code",
   "execution_count": 420,
   "id": "472ac50d",
   "metadata": {},
   "outputs": [
    {
     "data": {
      "text/plain": [
       "7704    B;H\n",
       "Name: race, dtype: object"
      ]
     },
     "execution_count": 420,
     "metadata": {},
     "output_type": "execute_result"
    }
   ],
   "source": [
    "# We only have one record that lists the deceadant as two races \n",
    "df.loc[df['race'].str.contains(';'), 'race']"
   ]
  },
  {
   "cell_type": "code",
   "execution_count": 421,
   "id": "e91dabb6",
   "metadata": {},
   "outputs": [],
   "source": [
    "#We will fix any subjects that have multiple races listed\n",
    "multi_race_mask = df['race'].str.contains(';')\n",
    "df.loc[multi_race_mask, 'race'] = df.loc[multi_race_mask, 'race'].apply(lambda x: x[0])\n",
    "assert(len(df.loc[df['race'].str.contains(';'), 'race']) == 0) #Quickly verify we handeled all multi-race subjects"
   ]
  },
  {
   "cell_type": "code",
   "execution_count": 422,
   "id": "6012927a",
   "metadata": {},
   "outputs": [],
   "source": [
    "# Now we will map over our races and transform them into the long-form race descriptions\n",
    "df['race'] = df['race'].map(race_map)"
   ]
  },
  {
   "cell_type": "markdown",
   "id": "0d7a9aa8",
   "metadata": {},
   "source": [
    "#### Obtaining missing latitude/longitude data based on city+state"
   ]
  },
  {
   "cell_type": "code",
   "execution_count": 423,
   "id": "c0c2152d",
   "metadata": {},
   "outputs": [],
   "source": [
    "missing_geo_data = df.loc[(df['latitude'].isna()) | (df['longitude'].isna())].copy() \n",
    "#(copy) is toensure we arent referencing base DF"
   ]
  },
  {
   "cell_type": "code",
   "execution_count": 424,
   "id": "16ede1df",
   "metadata": {},
   "outputs": [],
   "source": [
    "missing_geo_data['city_state'] = missing_geo_data['city'] + ', ' + missing_geo_data['state'] + ', USA'"
   ]
  },
  {
   "cell_type": "code",
   "execution_count": 425,
   "id": "491bce78",
   "metadata": {},
   "outputs": [
    {
     "data": {
      "text/plain": [
       "773"
      ]
     },
     "execution_count": 425,
     "metadata": {},
     "output_type": "execute_result"
    }
   ],
   "source": [
    "len(missing_geo_data['city_state'].unique())"
   ]
  },
  {
   "cell_type": "markdown",
   "id": "7ae992d9",
   "metadata": {},
   "source": [
    "We need to geolocate 773 cities! Let's get to it! The first thing we will do is add a record to our missing_geo_data dataframe for the URL encoded address in the form of `city, state, USA` to pass off to Google Geocoding API"
   ]
  },
  {
   "cell_type": "code",
   "execution_count": 426,
   "id": "ed73a731",
   "metadata": {},
   "outputs": [],
   "source": [
    "missing_geo_data['url_address'] = \\\n",
    "missing_geo_data['city_state'].apply(lambda x: urllib.parse.quote(x))"
   ]
  },
  {
   "cell_type": "code",
   "execution_count": 427,
   "id": "393f29f3",
   "metadata": {},
   "outputs": [
    {
     "data": {
      "text/plain": [
       "872               Weatherford%2C%20TX%2C%20USA\n",
       "1371    Chesterfield%20County%2C%20SC%2C%20USA\n",
       "1373                Flagstaff%2C%20AZ%2C%20USA\n",
       "1375                   Oxford%2C%20MA%2C%20USA\n",
       "1388                  Solvang%2C%20CA%2C%20USA\n",
       "Name: url_address, dtype: object"
      ]
     },
     "execution_count": 427,
     "metadata": {},
     "output_type": "execute_result"
    }
   ],
   "source": [
    "missing_geo_data['url_address'].head()"
   ]
  },
  {
   "cell_type": "markdown",
   "id": "2a95850d",
   "metadata": {},
   "source": [
    "We will create a little helper dictionary so that we only have to geocode one city+state once if there are duplicates. This will also ensure that if our code stops/breaks at any point we don't have to re-geolocate that location."
   ]
  },
  {
   "cell_type": "code",
   "execution_count": 428,
   "id": "e0585fa3",
   "metadata": {},
   "outputs": [],
   "source": [
    "unique_address_dict = {}\n",
    "indexes = missing_geo_data.groupby('url_address').indices\n",
    "for key, value in indexes.items():\n",
    "    unique_address_dict[key] = {'row_indexes':list(value), 'coordinates':None, 'location_type':None}"
   ]
  },
  {
   "cell_type": "markdown",
   "id": "062c78b8",
   "metadata": {},
   "source": [
    "Now we will loop through the unique addresses and geolocate them! If this hasn't already been done (e.g. no `geolocated_missing_data.pkl` file, you will need to provide a Google Maps Geocoding API key in order to locate the missing locations."
   ]
  },
  {
   "cell_type": "code",
   "execution_count": 429,
   "id": "023756ec",
   "metadata": {},
   "outputs": [],
   "source": [
    "if os.path.exists('../Data/geolocated_missing_data.pkl'):\n",
    "    \n",
    "    with open('../Data/geolocated_missing_data.pkl', 'rb') as dictionary_pickle:\n",
    "        unique_address_dict = pickle.load(dictionary_pickle)\n",
    "    \n",
    "else:\n",
    "    \n",
    "    api_key = getpass.getpass() #This requires a Google maps API key with Geocoding API enabled\n",
    "\n",
    "    for address, value in unique_address_dict.items():\n",
    "\n",
    "            #Only geolocate the data if we haven't already\n",
    "            if value['coordinates'] is None:\n",
    "\n",
    "                google_geocode_url = \"https://maps.googleapis.com/maps/api/geocode/json?address={}&key={}\"\\\n",
    "                .format(address, api_key)\n",
    "\n",
    "                geolocated_json = json.loads(requests.get(google_geocode_url).content)['results'][0]\n",
    "\n",
    "                coords = geolocated_json['geometry']['location']\n",
    "                location_type = geolocated_json['geometry']['location_type']\n",
    "\n",
    "                unique_address_dict[address]['coordinates'] = coords\n",
    "                unique_address_dict[address]['location_type'] = location_type\n",
    "                \n",
    "    with open('../Data/geolocated_missing_data.pkl', 'wb') as dictionary_pickle:\n",
    "         pickle.dump(unique_address_dict, dictionary_pickle, protocol=pickle.HIGHEST_PROTOCOL)"
   ]
  },
  {
   "cell_type": "markdown",
   "id": "998a6f1b",
   "metadata": {},
   "source": [
    "Now that we have approximately geo-referenced our data we can update the base dataframe and clean up our data we no longer need."
   ]
  },
  {
   "cell_type": "code",
   "execution_count": 430,
   "id": "012dc67b",
   "metadata": {},
   "outputs": [],
   "source": [
    "for vals in unique_address_dict.values():\n",
    "    row_ind_list = vals['row_indexes']\n",
    "    for row_indx_ptr in row_ind_list:\n",
    "        row_idx = missing_geo_data.index[row_indx_ptr]\n",
    "        missing_geo_data.loc[row_idx, 'latitude'] = vals['coordinates']['lat']\n",
    "        missing_geo_data.loc[row_idx, 'longitude'] = vals['coordinates']['lng']\n",
    "        missing_geo_data.loc[row_idx, 'location_precision'] = 'GoogleLocated_' + vals['location_type']\n",
    "        \n",
    "#Update base data    \n",
    "df.update(missing_geo_data[['latitude', 'longitude', 'location_precision']])\n",
    "\n",
    "#Delete missing_geo_data DF and location dictionary now\n",
    "del missing_geo_data, unique_address_dict"
   ]
  },
  {
   "cell_type": "code",
   "execution_count": 431,
   "id": "be89f6c3",
   "metadata": {},
   "outputs": [],
   "source": [
    "assert(df['latitude'].isna().sum() + df['longitude'].isna().sum() == 0)"
   ]
  },
  {
   "cell_type": "markdown",
   "id": "36d8f939",
   "metadata": {},
   "source": [
    "#### Agency Cleaning (Only listing one agency per shooting)"
   ]
  },
  {
   "cell_type": "markdown",
   "id": "22fc0e27",
   "metadata": {},
   "source": [
    "We have two shootings that DO NOT have an agency id listed, rather than dropping these, we will use the agency_id of another shooting that happened in the same city+county+state:"
   ]
  },
  {
   "cell_type": "code",
   "execution_count": 432,
   "id": "a9c3a5b1",
   "metadata": {},
   "outputs": [
    {
     "data": {
      "text/html": [
       "<div>\n",
       "<style scoped>\n",
       "    .dataframe tbody tr th:only-of-type {\n",
       "        vertical-align: middle;\n",
       "    }\n",
       "\n",
       "    .dataframe tbody tr th {\n",
       "        vertical-align: top;\n",
       "    }\n",
       "\n",
       "    .dataframe thead th {\n",
       "        text-align: right;\n",
       "    }\n",
       "</style>\n",
       "<table border=\"1\" class=\"dataframe\">\n",
       "  <thead>\n",
       "    <tr style=\"text-align: right;\">\n",
       "      <th></th>\n",
       "      <th>id</th>\n",
       "      <th>date</th>\n",
       "      <th>threat_type</th>\n",
       "      <th>flee_status</th>\n",
       "      <th>armed_with</th>\n",
       "      <th>city</th>\n",
       "      <th>county</th>\n",
       "      <th>state</th>\n",
       "      <th>latitude</th>\n",
       "      <th>longitude</th>\n",
       "      <th>location_precision</th>\n",
       "      <th>age</th>\n",
       "      <th>gender</th>\n",
       "      <th>race</th>\n",
       "      <th>was_mental_illness_related</th>\n",
       "      <th>body_camera</th>\n",
       "      <th>agency_ids</th>\n",
       "      <th>year</th>\n",
       "    </tr>\n",
       "  </thead>\n",
       "  <tbody>\n",
       "    <tr>\n",
       "      <th>8676</th>\n",
       "      <td>9428</td>\n",
       "      <td>2023-08-05</td>\n",
       "      <td>shoot</td>\n",
       "      <td>unknown</td>\n",
       "      <td>gun</td>\n",
       "      <td>Columbia</td>\n",
       "      <td>Boone</td>\n",
       "      <td>MO</td>\n",
       "      <td>38.922324</td>\n",
       "      <td>-92.335543</td>\n",
       "      <td>address</td>\n",
       "      <td>22.0</td>\n",
       "      <td>male</td>\n",
       "      <td>unknown</td>\n",
       "      <td>1</td>\n",
       "      <td>1</td>\n",
       "      <td>NaN</td>\n",
       "      <td>2023</td>\n",
       "    </tr>\n",
       "  </tbody>\n",
       "</table>\n",
       "</div>"
      ],
      "text/plain": [
       "        id       date threat_type flee_status armed_with      city county  \\\n",
       "8676  9428 2023-08-05       shoot     unknown        gun  Columbia  Boone   \n",
       "\n",
       "     state   latitude  longitude location_precision   age gender     race  \\\n",
       "8676    MO  38.922324 -92.335543            address  22.0   male  unknown   \n",
       "\n",
       "      was_mental_illness_related  body_camera agency_ids  year  \n",
       "8676                           1            1        NaN  2023  "
      ]
     },
     "execution_count": 432,
     "metadata": {},
     "output_type": "execute_result"
    }
   ],
   "source": [
    "df.loc[df['agency_ids'].isna()]"
   ]
  },
  {
   "cell_type": "code",
   "execution_count": 433,
   "id": "0f9c273c",
   "metadata": {},
   "outputs": [],
   "source": [
    "df.loc[df['id'] == 9435, 'agency_ids'] =  \\\n",
    "list(df.loc[(df['state'] == 'TX') \\\n",
    "       & (df['county'] == 'Harris')  \\\n",
    "       & (df['city'] == 'Kingwood') \\\n",
    "       & (~df['agency_ids'].isna()), 'agency_ids'])[0]"
   ]
  },
  {
   "cell_type": "code",
   "execution_count": 434,
   "id": "e66c4d17",
   "metadata": {},
   "outputs": [],
   "source": [
    "#This city+county+state combination has multiple listed, we will use the first\n",
    "df.loc[df['id'] == 9428, 'agency_ids'] = \\\n",
    "list(df.loc[(df['state'] == 'MO') \\\n",
    "       & (df['county'] == 'Boone')  \\\n",
    "       & (df['city'] == 'Columbia') \\\n",
    "       & (~df['agency_ids'].isna()), 'agency_ids'])[0]"
   ]
  },
  {
   "cell_type": "code",
   "execution_count": 435,
   "id": "7a4567b9",
   "metadata": {},
   "outputs": [],
   "source": [
    "assert(len(df.loc[df['agency_ids'].isna()]) == 0)"
   ]
  },
  {
   "cell_type": "markdown",
   "id": "06636d54",
   "metadata": {},
   "source": [
    "Now that we've handeled the missing agency ID's we can remove the shootings with multiple agencies. Of course if we were doing agency-specific related analysis we would handle this process differently."
   ]
  },
  {
   "cell_type": "code",
   "execution_count": 436,
   "id": "dd8afb21",
   "metadata": {},
   "outputs": [],
   "source": [
    "multi_agency_mask = df['agency_ids'].str.contains(';')"
   ]
  },
  {
   "cell_type": "code",
   "execution_count": 437,
   "id": "ae85c83e",
   "metadata": {},
   "outputs": [],
   "source": [
    "df.loc[multi_agency_mask, 'agency_ids'] = df.loc[multi_agency_mask, 'agency_ids'].str.split(';').apply(lambda x: x[0])"
   ]
  },
  {
   "cell_type": "code",
   "execution_count": 438,
   "id": "e5ef620b",
   "metadata": {},
   "outputs": [],
   "source": [
    "assert(df['agency_ids'].str.contains(';').sum() == 0)"
   ]
  },
  {
   "cell_type": "code",
   "execution_count": 439,
   "id": "78b4ce84",
   "metadata": {},
   "outputs": [],
   "source": [
    "df['agency_ids'] = df['agency_ids'].astype(int)"
   ]
  },
  {
   "cell_type": "markdown",
   "id": "99e1137f",
   "metadata": {},
   "source": [
    "### Agency Dataset"
   ]
  },
  {
   "cell_type": "markdown",
   "id": "e6e60c66",
   "metadata": {},
   "source": [
    "In order to enrich our data, we will also join the respective agency for the fatal shooting."
   ]
  },
  {
   "cell_type": "code",
   "execution_count": 440,
   "id": "aed83129",
   "metadata": {},
   "outputs": [
    {
     "data": {
      "text/html": [
       "<div>\n",
       "<style scoped>\n",
       "    .dataframe tbody tr th:only-of-type {\n",
       "        vertical-align: middle;\n",
       "    }\n",
       "\n",
       "    .dataframe tbody tr th {\n",
       "        vertical-align: top;\n",
       "    }\n",
       "\n",
       "    .dataframe thead th {\n",
       "        text-align: right;\n",
       "    }\n",
       "</style>\n",
       "<table border=\"1\" class=\"dataframe\">\n",
       "  <thead>\n",
       "    <tr style=\"text-align: right;\">\n",
       "      <th></th>\n",
       "      <th>id</th>\n",
       "      <th>name</th>\n",
       "      <th>type</th>\n",
       "      <th>oricodes</th>\n",
       "    </tr>\n",
       "  </thead>\n",
       "  <tbody>\n",
       "    <tr>\n",
       "      <th>0</th>\n",
       "      <td>3145</td>\n",
       "      <td>Abbeville County Sheriff's Office</td>\n",
       "      <td>sheriff</td>\n",
       "      <td>SC00100</td>\n",
       "    </tr>\n",
       "    <tr>\n",
       "      <th>1</th>\n",
       "      <td>2576</td>\n",
       "      <td>Aberdeen Police Department</td>\n",
       "      <td>local_police</td>\n",
       "      <td>WA01401</td>\n",
       "    </tr>\n",
       "    <tr>\n",
       "      <th>2</th>\n",
       "      <td>2114</td>\n",
       "      <td>Abilene Police Department</td>\n",
       "      <td>local_police</td>\n",
       "      <td>TX22101</td>\n",
       "    </tr>\n",
       "    <tr>\n",
       "      <th>3</th>\n",
       "      <td>2088</td>\n",
       "      <td>Abington Township Police Department</td>\n",
       "      <td>local_police</td>\n",
       "      <td>PA04601</td>\n",
       "    </tr>\n",
       "    <tr>\n",
       "      <th>4</th>\n",
       "      <td>3187</td>\n",
       "      <td>Acadia Parish Sheriff's Office</td>\n",
       "      <td>sheriff</td>\n",
       "      <td>LA00100</td>\n",
       "    </tr>\n",
       "  </tbody>\n",
       "</table>\n",
       "</div>"
      ],
      "text/plain": [
       "     id                                 name          type oricodes\n",
       "0  3145    Abbeville County Sheriff's Office       sheriff  SC00100\n",
       "1  2576           Aberdeen Police Department  local_police  WA01401\n",
       "2  2114            Abilene Police Department  local_police  TX22101\n",
       "3  2088  Abington Township Police Department  local_police  PA04601\n",
       "4  3187       Acadia Parish Sheriff's Office       sheriff  LA00100"
      ]
     },
     "execution_count": 440,
     "metadata": {},
     "output_type": "execute_result"
    }
   ],
   "source": [
    "agency_df.head()"
   ]
  },
  {
   "cell_type": "code",
   "execution_count": 441,
   "id": "2c9ab30f",
   "metadata": {},
   "outputs": [],
   "source": [
    "agency_df.drop(columns=['oricodes'], inplace=True) #Not required for our analysis\n",
    "agency_df = agency_df.rename(columns={'id':'agency_ids', 'name':'agency_name', 'type':'agency_type'}) #For easier merging"
   ]
  },
  {
   "cell_type": "markdown",
   "id": "aa07aea3",
   "metadata": {},
   "source": [
    "Now we can merge out data with the agency data"
   ]
  },
  {
   "cell_type": "code",
   "execution_count": 442,
   "id": "46dfe21d",
   "metadata": {},
   "outputs": [],
   "source": [
    "df = pd.merge(df, agency_df, how='left', left_on='agency_ids', right_on='agency_ids')"
   ]
  },
  {
   "cell_type": "code",
   "execution_count": 443,
   "id": "e7ac60d8",
   "metadata": {},
   "outputs": [
    {
     "data": {
      "text/html": [
       "<div>\n",
       "<style scoped>\n",
       "    .dataframe tbody tr th:only-of-type {\n",
       "        vertical-align: middle;\n",
       "    }\n",
       "\n",
       "    .dataframe tbody tr th {\n",
       "        vertical-align: top;\n",
       "    }\n",
       "\n",
       "    .dataframe thead th {\n",
       "        text-align: right;\n",
       "    }\n",
       "</style>\n",
       "<table border=\"1\" class=\"dataframe\">\n",
       "  <thead>\n",
       "    <tr style=\"text-align: right;\">\n",
       "      <th></th>\n",
       "      <th>id</th>\n",
       "      <th>date</th>\n",
       "      <th>threat_type</th>\n",
       "      <th>flee_status</th>\n",
       "      <th>armed_with</th>\n",
       "      <th>city</th>\n",
       "      <th>county</th>\n",
       "      <th>state</th>\n",
       "      <th>latitude</th>\n",
       "      <th>longitude</th>\n",
       "      <th>location_precision</th>\n",
       "      <th>age</th>\n",
       "      <th>gender</th>\n",
       "      <th>race</th>\n",
       "      <th>was_mental_illness_related</th>\n",
       "      <th>body_camera</th>\n",
       "      <th>agency_ids</th>\n",
       "      <th>year</th>\n",
       "      <th>agency_name</th>\n",
       "      <th>agency_type</th>\n",
       "    </tr>\n",
       "  </thead>\n",
       "  <tbody>\n",
       "    <tr>\n",
       "      <th>0</th>\n",
       "      <td>3</td>\n",
       "      <td>2015-01-02</td>\n",
       "      <td>point</td>\n",
       "      <td>not</td>\n",
       "      <td>gun</td>\n",
       "      <td>Shelton</td>\n",
       "      <td>Mason</td>\n",
       "      <td>WA</td>\n",
       "      <td>47.246826</td>\n",
       "      <td>-123.121592</td>\n",
       "      <td>not_available</td>\n",
       "      <td>53.0</td>\n",
       "      <td>male</td>\n",
       "      <td>Asian Heritage</td>\n",
       "      <td>1</td>\n",
       "      <td>0</td>\n",
       "      <td>73</td>\n",
       "      <td>2015</td>\n",
       "      <td>Mason County Sheriff's Office</td>\n",
       "      <td>sheriff</td>\n",
       "    </tr>\n",
       "    <tr>\n",
       "      <th>1</th>\n",
       "      <td>4</td>\n",
       "      <td>2015-01-02</td>\n",
       "      <td>point</td>\n",
       "      <td>not</td>\n",
       "      <td>gun</td>\n",
       "      <td>Aloha</td>\n",
       "      <td>Washington</td>\n",
       "      <td>OR</td>\n",
       "      <td>45.487421</td>\n",
       "      <td>-122.891696</td>\n",
       "      <td>not_available</td>\n",
       "      <td>47.0</td>\n",
       "      <td>male</td>\n",
       "      <td>White</td>\n",
       "      <td>0</td>\n",
       "      <td>0</td>\n",
       "      <td>70</td>\n",
       "      <td>2015</td>\n",
       "      <td>Washington County Sheriff's Office</td>\n",
       "      <td>sheriff</td>\n",
       "    </tr>\n",
       "    <tr>\n",
       "      <th>2</th>\n",
       "      <td>5</td>\n",
       "      <td>2015-01-03</td>\n",
       "      <td>move</td>\n",
       "      <td>not</td>\n",
       "      <td>unarmed</td>\n",
       "      <td>Wichita</td>\n",
       "      <td>Sedgwick</td>\n",
       "      <td>KS</td>\n",
       "      <td>37.694766</td>\n",
       "      <td>-97.280554</td>\n",
       "      <td>not_available</td>\n",
       "      <td>23.0</td>\n",
       "      <td>male</td>\n",
       "      <td>Hispanic</td>\n",
       "      <td>0</td>\n",
       "      <td>0</td>\n",
       "      <td>238</td>\n",
       "      <td>2015</td>\n",
       "      <td>Wichita Police Department</td>\n",
       "      <td>local_police</td>\n",
       "    </tr>\n",
       "    <tr>\n",
       "      <th>3</th>\n",
       "      <td>8</td>\n",
       "      <td>2015-01-04</td>\n",
       "      <td>point</td>\n",
       "      <td>not</td>\n",
       "      <td>replica</td>\n",
       "      <td>San Francisco</td>\n",
       "      <td>San Francisco</td>\n",
       "      <td>CA</td>\n",
       "      <td>37.762910</td>\n",
       "      <td>-122.422001</td>\n",
       "      <td>not_available</td>\n",
       "      <td>32.0</td>\n",
       "      <td>male</td>\n",
       "      <td>White</td>\n",
       "      <td>1</td>\n",
       "      <td>0</td>\n",
       "      <td>196</td>\n",
       "      <td>2015</td>\n",
       "      <td>San Francisco Police Department</td>\n",
       "      <td>local_police</td>\n",
       "    </tr>\n",
       "    <tr>\n",
       "      <th>4</th>\n",
       "      <td>9</td>\n",
       "      <td>2015-01-04</td>\n",
       "      <td>point</td>\n",
       "      <td>not</td>\n",
       "      <td>other</td>\n",
       "      <td>Evans</td>\n",
       "      <td>Weld</td>\n",
       "      <td>CO</td>\n",
       "      <td>40.383937</td>\n",
       "      <td>-104.692261</td>\n",
       "      <td>not_available</td>\n",
       "      <td>39.0</td>\n",
       "      <td>male</td>\n",
       "      <td>Hispanic</td>\n",
       "      <td>0</td>\n",
       "      <td>0</td>\n",
       "      <td>473</td>\n",
       "      <td>2015</td>\n",
       "      <td>Evans Police Department</td>\n",
       "      <td>local_police</td>\n",
       "    </tr>\n",
       "  </tbody>\n",
       "</table>\n",
       "</div>"
      ],
      "text/plain": [
       "   id       date threat_type flee_status armed_with           city  \\\n",
       "0   3 2015-01-02       point         not        gun        Shelton   \n",
       "1   4 2015-01-02       point         not        gun          Aloha   \n",
       "2   5 2015-01-03        move         not    unarmed        Wichita   \n",
       "3   8 2015-01-04       point         not    replica  San Francisco   \n",
       "4   9 2015-01-04       point         not      other          Evans   \n",
       "\n",
       "          county state   latitude   longitude location_precision   age gender  \\\n",
       "0          Mason    WA  47.246826 -123.121592      not_available  53.0   male   \n",
       "1     Washington    OR  45.487421 -122.891696      not_available  47.0   male   \n",
       "2       Sedgwick    KS  37.694766  -97.280554      not_available  23.0   male   \n",
       "3  San Francisco    CA  37.762910 -122.422001      not_available  32.0   male   \n",
       "4           Weld    CO  40.383937 -104.692261      not_available  39.0   male   \n",
       "\n",
       "             race  was_mental_illness_related  body_camera  agency_ids  year  \\\n",
       "0  Asian Heritage                           1            0          73  2015   \n",
       "1           White                           0            0          70  2015   \n",
       "2        Hispanic                           0            0         238  2015   \n",
       "3           White                           1            0         196  2015   \n",
       "4        Hispanic                           0            0         473  2015   \n",
       "\n",
       "                          agency_name   agency_type  \n",
       "0       Mason County Sheriff's Office       sheriff  \n",
       "1  Washington County Sheriff's Office       sheriff  \n",
       "2           Wichita Police Department  local_police  \n",
       "3     San Francisco Police Department  local_police  \n",
       "4             Evans Police Department  local_police  "
      ]
     },
     "execution_count": 443,
     "metadata": {},
     "output_type": "execute_result"
    }
   ],
   "source": [
    "df.head()"
   ]
  },
  {
   "cell_type": "markdown",
   "id": "d352ee13",
   "metadata": {},
   "source": [
    "### Final Data Inspection / Export"
   ]
  },
  {
   "cell_type": "markdown",
   "id": "855e6f11",
   "metadata": {},
   "source": [
    "We will rename armed_with to \"primary_weapon\""
   ]
  },
  {
   "cell_type": "code",
   "execution_count": 444,
   "id": "e8878f46",
   "metadata": {},
   "outputs": [],
   "source": [
    "df = df.rename(columns={'armed_with':'primary_weapon'})"
   ]
  },
  {
   "cell_type": "code",
   "execution_count": 445,
   "id": "ad5bb160",
   "metadata": {},
   "outputs": [],
   "source": [
    "df = df.set_index('id')"
   ]
  },
  {
   "cell_type": "markdown",
   "id": "f2320dd2",
   "metadata": {},
   "source": [
    "We will re-organize our columns so that related fields are closer together"
   ]
  },
  {
   "cell_type": "code",
   "execution_count": 446,
   "id": "cb9f6670",
   "metadata": {},
   "outputs": [],
   "source": [
    "df = df.loc[:, [\n",
    "    'year','date', \n",
    "    'primary_weapon','threat_type', 'flee_status', \n",
    "    'was_mental_illness_related', 'body_camera',\n",
    "    'race', 'gender', 'age', \n",
    "    'city','county','state', \n",
    "    'agency_name', 'agency_type','agency_ids',\n",
    "    'latitude', 'longitude', 'location_precision', \n",
    "]]"
   ]
  },
  {
   "cell_type": "code",
   "execution_count": 447,
   "id": "6b28c358",
   "metadata": {},
   "outputs": [
    {
     "data": {
      "text/html": [
       "<div>\n",
       "<style scoped>\n",
       "    .dataframe tbody tr th:only-of-type {\n",
       "        vertical-align: middle;\n",
       "    }\n",
       "\n",
       "    .dataframe tbody tr th {\n",
       "        vertical-align: top;\n",
       "    }\n",
       "\n",
       "    .dataframe thead th {\n",
       "        text-align: right;\n",
       "    }\n",
       "</style>\n",
       "<table border=\"1\" class=\"dataframe\">\n",
       "  <thead>\n",
       "    <tr style=\"text-align: right;\">\n",
       "      <th></th>\n",
       "      <th>year</th>\n",
       "      <th>date</th>\n",
       "      <th>primary_weapon</th>\n",
       "      <th>threat_type</th>\n",
       "      <th>flee_status</th>\n",
       "      <th>was_mental_illness_related</th>\n",
       "      <th>body_camera</th>\n",
       "      <th>race</th>\n",
       "      <th>gender</th>\n",
       "      <th>age</th>\n",
       "      <th>city</th>\n",
       "      <th>county</th>\n",
       "      <th>state</th>\n",
       "      <th>agency_name</th>\n",
       "      <th>agency_type</th>\n",
       "      <th>agency_ids</th>\n",
       "      <th>latitude</th>\n",
       "      <th>longitude</th>\n",
       "      <th>location_precision</th>\n",
       "    </tr>\n",
       "    <tr>\n",
       "      <th>id</th>\n",
       "      <th></th>\n",
       "      <th></th>\n",
       "      <th></th>\n",
       "      <th></th>\n",
       "      <th></th>\n",
       "      <th></th>\n",
       "      <th></th>\n",
       "      <th></th>\n",
       "      <th></th>\n",
       "      <th></th>\n",
       "      <th></th>\n",
       "      <th></th>\n",
       "      <th></th>\n",
       "      <th></th>\n",
       "      <th></th>\n",
       "      <th></th>\n",
       "      <th></th>\n",
       "      <th></th>\n",
       "      <th></th>\n",
       "    </tr>\n",
       "  </thead>\n",
       "  <tbody>\n",
       "    <tr>\n",
       "      <th>3</th>\n",
       "      <td>2015</td>\n",
       "      <td>2015-01-02</td>\n",
       "      <td>gun</td>\n",
       "      <td>point</td>\n",
       "      <td>not</td>\n",
       "      <td>1</td>\n",
       "      <td>0</td>\n",
       "      <td>Asian Heritage</td>\n",
       "      <td>male</td>\n",
       "      <td>53.0</td>\n",
       "      <td>Shelton</td>\n",
       "      <td>Mason</td>\n",
       "      <td>WA</td>\n",
       "      <td>Mason County Sheriff's Office</td>\n",
       "      <td>sheriff</td>\n",
       "      <td>73</td>\n",
       "      <td>47.246826</td>\n",
       "      <td>-123.121592</td>\n",
       "      <td>not_available</td>\n",
       "    </tr>\n",
       "    <tr>\n",
       "      <th>4</th>\n",
       "      <td>2015</td>\n",
       "      <td>2015-01-02</td>\n",
       "      <td>gun</td>\n",
       "      <td>point</td>\n",
       "      <td>not</td>\n",
       "      <td>0</td>\n",
       "      <td>0</td>\n",
       "      <td>White</td>\n",
       "      <td>male</td>\n",
       "      <td>47.0</td>\n",
       "      <td>Aloha</td>\n",
       "      <td>Washington</td>\n",
       "      <td>OR</td>\n",
       "      <td>Washington County Sheriff's Office</td>\n",
       "      <td>sheriff</td>\n",
       "      <td>70</td>\n",
       "      <td>45.487421</td>\n",
       "      <td>-122.891696</td>\n",
       "      <td>not_available</td>\n",
       "    </tr>\n",
       "    <tr>\n",
       "      <th>5</th>\n",
       "      <td>2015</td>\n",
       "      <td>2015-01-03</td>\n",
       "      <td>unarmed</td>\n",
       "      <td>move</td>\n",
       "      <td>not</td>\n",
       "      <td>0</td>\n",
       "      <td>0</td>\n",
       "      <td>Hispanic</td>\n",
       "      <td>male</td>\n",
       "      <td>23.0</td>\n",
       "      <td>Wichita</td>\n",
       "      <td>Sedgwick</td>\n",
       "      <td>KS</td>\n",
       "      <td>Wichita Police Department</td>\n",
       "      <td>local_police</td>\n",
       "      <td>238</td>\n",
       "      <td>37.694766</td>\n",
       "      <td>-97.280554</td>\n",
       "      <td>not_available</td>\n",
       "    </tr>\n",
       "    <tr>\n",
       "      <th>8</th>\n",
       "      <td>2015</td>\n",
       "      <td>2015-01-04</td>\n",
       "      <td>replica</td>\n",
       "      <td>point</td>\n",
       "      <td>not</td>\n",
       "      <td>1</td>\n",
       "      <td>0</td>\n",
       "      <td>White</td>\n",
       "      <td>male</td>\n",
       "      <td>32.0</td>\n",
       "      <td>San Francisco</td>\n",
       "      <td>San Francisco</td>\n",
       "      <td>CA</td>\n",
       "      <td>San Francisco Police Department</td>\n",
       "      <td>local_police</td>\n",
       "      <td>196</td>\n",
       "      <td>37.762910</td>\n",
       "      <td>-122.422001</td>\n",
       "      <td>not_available</td>\n",
       "    </tr>\n",
       "    <tr>\n",
       "      <th>9</th>\n",
       "      <td>2015</td>\n",
       "      <td>2015-01-04</td>\n",
       "      <td>other</td>\n",
       "      <td>point</td>\n",
       "      <td>not</td>\n",
       "      <td>0</td>\n",
       "      <td>0</td>\n",
       "      <td>Hispanic</td>\n",
       "      <td>male</td>\n",
       "      <td>39.0</td>\n",
       "      <td>Evans</td>\n",
       "      <td>Weld</td>\n",
       "      <td>CO</td>\n",
       "      <td>Evans Police Department</td>\n",
       "      <td>local_police</td>\n",
       "      <td>473</td>\n",
       "      <td>40.383937</td>\n",
       "      <td>-104.692261</td>\n",
       "      <td>not_available</td>\n",
       "    </tr>\n",
       "  </tbody>\n",
       "</table>\n",
       "</div>"
      ],
      "text/plain": [
       "    year       date primary_weapon threat_type flee_status  \\\n",
       "id                                                           \n",
       "3   2015 2015-01-02            gun       point         not   \n",
       "4   2015 2015-01-02            gun       point         not   \n",
       "5   2015 2015-01-03        unarmed        move         not   \n",
       "8   2015 2015-01-04        replica       point         not   \n",
       "9   2015 2015-01-04          other       point         not   \n",
       "\n",
       "    was_mental_illness_related  body_camera            race gender   age  \\\n",
       "id                                                                         \n",
       "3                            1            0  Asian Heritage   male  53.0   \n",
       "4                            0            0           White   male  47.0   \n",
       "5                            0            0        Hispanic   male  23.0   \n",
       "8                            1            0           White   male  32.0   \n",
       "9                            0            0        Hispanic   male  39.0   \n",
       "\n",
       "             city         county state                         agency_name  \\\n",
       "id                                                                           \n",
       "3         Shelton          Mason    WA       Mason County Sheriff's Office   \n",
       "4           Aloha     Washington    OR  Washington County Sheriff's Office   \n",
       "5         Wichita       Sedgwick    KS           Wichita Police Department   \n",
       "8   San Francisco  San Francisco    CA     San Francisco Police Department   \n",
       "9           Evans           Weld    CO             Evans Police Department   \n",
       "\n",
       "     agency_type  agency_ids   latitude   longitude location_precision  \n",
       "id                                                                      \n",
       "3        sheriff          73  47.246826 -123.121592      not_available  \n",
       "4        sheriff          70  45.487421 -122.891696      not_available  \n",
       "5   local_police         238  37.694766  -97.280554      not_available  \n",
       "8   local_police         196  37.762910 -122.422001      not_available  \n",
       "9   local_police         473  40.383937 -104.692261      not_available  "
      ]
     },
     "execution_count": 447,
     "metadata": {},
     "output_type": "execute_result"
    }
   ],
   "source": [
    "df.head()"
   ]
  },
  {
   "cell_type": "code",
   "execution_count": 448,
   "id": "306307c6",
   "metadata": {},
   "outputs": [],
   "source": [
    "assert(len(df) == 8735) # After ALL of our processing, let's just verify our data is still correct and nothing got lost"
   ]
  },
  {
   "cell_type": "markdown",
   "id": "9b279aa2",
   "metadata": {},
   "source": [
    "#### We will export our processed data to the root of our Git repo"
   ]
  },
  {
   "cell_type": "code",
   "execution_count": 449,
   "id": "84d2134c",
   "metadata": {},
   "outputs": [],
   "source": [
    "df.to_csv('../Root/Processed_Data.csv')"
   ]
  },
  {
   "cell_type": "markdown",
   "id": "b391ab69",
   "metadata": {},
   "source": [
    "## ESRI ArcGIS "
   ]
  },
  {
   "cell_type": "markdown",
   "id": "8106f555",
   "metadata": {},
   "source": [
    "In order to be able to analyze, map, and make a compelling dashboard/story - we need to get this data geo-enabled and into our ESRI ArcGIS Online portal:"
   ]
  },
  {
   "cell_type": "code",
   "execution_count": 450,
   "id": "f755aa91",
   "metadata": {},
   "outputs": [
    {
     "name": "stdout",
     "output_type": "stream",
     "text": [
      "Logged in as: Patrick Flynn\n"
     ]
    }
   ],
   "source": [
    "try: \n",
    "    gis\n",
    "    print('Logged in as: {}'.format(gis.properties.user.fullName))\n",
    "except:\n",
    "    client_id = getpass.getpass() #this can be obtained via the ESRI portal > content > app\n",
    "    gis = GIS(\"https://patrickflynngis.maps.arcgis.com/\", client_id=client_id)"
   ]
  },
  {
   "cell_type": "markdown",
   "id": "ec7c67f6",
   "metadata": {},
   "source": [
    "Now that we are authenticated with the portal, we will create a special spatially-enabled dataframe provided by the ArcGIS API for Python."
   ]
  },
  {
   "cell_type": "code",
   "execution_count": 451,
   "id": "66977daf",
   "metadata": {},
   "outputs": [],
   "source": [
    "spatial_dataframe = pd.DataFrame.spatial.from_xy(df, 'longitude', 'latitude')"
   ]
  },
  {
   "cell_type": "code",
   "execution_count": 452,
   "id": "265e1a77",
   "metadata": {},
   "outputs": [
    {
     "data": {
      "text/html": [
       "<div>\n",
       "<style scoped>\n",
       "    .dataframe tbody tr th:only-of-type {\n",
       "        vertical-align: middle;\n",
       "    }\n",
       "\n",
       "    .dataframe tbody tr th {\n",
       "        vertical-align: top;\n",
       "    }\n",
       "\n",
       "    .dataframe thead th {\n",
       "        text-align: right;\n",
       "    }\n",
       "</style>\n",
       "<table border=\"1\" class=\"dataframe\">\n",
       "  <thead>\n",
       "    <tr style=\"text-align: right;\">\n",
       "      <th></th>\n",
       "      <th>year</th>\n",
       "      <th>date</th>\n",
       "      <th>primary_weapon</th>\n",
       "      <th>threat_type</th>\n",
       "      <th>flee_status</th>\n",
       "      <th>was_mental_illness_related</th>\n",
       "      <th>body_camera</th>\n",
       "      <th>race</th>\n",
       "      <th>gender</th>\n",
       "      <th>age</th>\n",
       "      <th>city</th>\n",
       "      <th>county</th>\n",
       "      <th>state</th>\n",
       "      <th>agency_name</th>\n",
       "      <th>agency_type</th>\n",
       "      <th>agency_ids</th>\n",
       "      <th>latitude</th>\n",
       "      <th>longitude</th>\n",
       "      <th>location_precision</th>\n",
       "      <th>SHAPE</th>\n",
       "    </tr>\n",
       "    <tr>\n",
       "      <th>id</th>\n",
       "      <th></th>\n",
       "      <th></th>\n",
       "      <th></th>\n",
       "      <th></th>\n",
       "      <th></th>\n",
       "      <th></th>\n",
       "      <th></th>\n",
       "      <th></th>\n",
       "      <th></th>\n",
       "      <th></th>\n",
       "      <th></th>\n",
       "      <th></th>\n",
       "      <th></th>\n",
       "      <th></th>\n",
       "      <th></th>\n",
       "      <th></th>\n",
       "      <th></th>\n",
       "      <th></th>\n",
       "      <th></th>\n",
       "      <th></th>\n",
       "    </tr>\n",
       "  </thead>\n",
       "  <tbody>\n",
       "    <tr>\n",
       "      <th>3</th>\n",
       "      <td>2015</td>\n",
       "      <td>2015-01-02</td>\n",
       "      <td>gun</td>\n",
       "      <td>point</td>\n",
       "      <td>not</td>\n",
       "      <td>1</td>\n",
       "      <td>0</td>\n",
       "      <td>Asian Heritage</td>\n",
       "      <td>male</td>\n",
       "      <td>53.0</td>\n",
       "      <td>Shelton</td>\n",
       "      <td>Mason</td>\n",
       "      <td>WA</td>\n",
       "      <td>Mason County Sheriff's Office</td>\n",
       "      <td>sheriff</td>\n",
       "      <td>73</td>\n",
       "      <td>47.246826</td>\n",
       "      <td>-123.121592</td>\n",
       "      <td>not_available</td>\n",
       "      <td>{\"spatialReference\": {\"wkid\": 4326}, \"x\": -123...</td>\n",
       "    </tr>\n",
       "    <tr>\n",
       "      <th>4</th>\n",
       "      <td>2015</td>\n",
       "      <td>2015-01-02</td>\n",
       "      <td>gun</td>\n",
       "      <td>point</td>\n",
       "      <td>not</td>\n",
       "      <td>0</td>\n",
       "      <td>0</td>\n",
       "      <td>White</td>\n",
       "      <td>male</td>\n",
       "      <td>47.0</td>\n",
       "      <td>Aloha</td>\n",
       "      <td>Washington</td>\n",
       "      <td>OR</td>\n",
       "      <td>Washington County Sheriff's Office</td>\n",
       "      <td>sheriff</td>\n",
       "      <td>70</td>\n",
       "      <td>45.487421</td>\n",
       "      <td>-122.891696</td>\n",
       "      <td>not_available</td>\n",
       "      <td>{\"spatialReference\": {\"wkid\": 4326}, \"x\": -122...</td>\n",
       "    </tr>\n",
       "    <tr>\n",
       "      <th>5</th>\n",
       "      <td>2015</td>\n",
       "      <td>2015-01-03</td>\n",
       "      <td>unarmed</td>\n",
       "      <td>move</td>\n",
       "      <td>not</td>\n",
       "      <td>0</td>\n",
       "      <td>0</td>\n",
       "      <td>Hispanic</td>\n",
       "      <td>male</td>\n",
       "      <td>23.0</td>\n",
       "      <td>Wichita</td>\n",
       "      <td>Sedgwick</td>\n",
       "      <td>KS</td>\n",
       "      <td>Wichita Police Department</td>\n",
       "      <td>local_police</td>\n",
       "      <td>238</td>\n",
       "      <td>37.694766</td>\n",
       "      <td>-97.280554</td>\n",
       "      <td>not_available</td>\n",
       "      <td>{\"spatialReference\": {\"wkid\": 4326}, \"x\": -97....</td>\n",
       "    </tr>\n",
       "    <tr>\n",
       "      <th>8</th>\n",
       "      <td>2015</td>\n",
       "      <td>2015-01-04</td>\n",
       "      <td>replica</td>\n",
       "      <td>point</td>\n",
       "      <td>not</td>\n",
       "      <td>1</td>\n",
       "      <td>0</td>\n",
       "      <td>White</td>\n",
       "      <td>male</td>\n",
       "      <td>32.0</td>\n",
       "      <td>San Francisco</td>\n",
       "      <td>San Francisco</td>\n",
       "      <td>CA</td>\n",
       "      <td>San Francisco Police Department</td>\n",
       "      <td>local_police</td>\n",
       "      <td>196</td>\n",
       "      <td>37.762910</td>\n",
       "      <td>-122.422001</td>\n",
       "      <td>not_available</td>\n",
       "      <td>{\"spatialReference\": {\"wkid\": 4326}, \"x\": -122...</td>\n",
       "    </tr>\n",
       "    <tr>\n",
       "      <th>9</th>\n",
       "      <td>2015</td>\n",
       "      <td>2015-01-04</td>\n",
       "      <td>other</td>\n",
       "      <td>point</td>\n",
       "      <td>not</td>\n",
       "      <td>0</td>\n",
       "      <td>0</td>\n",
       "      <td>Hispanic</td>\n",
       "      <td>male</td>\n",
       "      <td>39.0</td>\n",
       "      <td>Evans</td>\n",
       "      <td>Weld</td>\n",
       "      <td>CO</td>\n",
       "      <td>Evans Police Department</td>\n",
       "      <td>local_police</td>\n",
       "      <td>473</td>\n",
       "      <td>40.383937</td>\n",
       "      <td>-104.692261</td>\n",
       "      <td>not_available</td>\n",
       "      <td>{\"spatialReference\": {\"wkid\": 4326}, \"x\": -104...</td>\n",
       "    </tr>\n",
       "  </tbody>\n",
       "</table>\n",
       "</div>"
      ],
      "text/plain": [
       "    year       date primary_weapon threat_type flee_status  \\\n",
       "id                                                           \n",
       "3   2015 2015-01-02            gun       point         not   \n",
       "4   2015 2015-01-02            gun       point         not   \n",
       "5   2015 2015-01-03        unarmed        move         not   \n",
       "8   2015 2015-01-04        replica       point         not   \n",
       "9   2015 2015-01-04          other       point         not   \n",
       "\n",
       "    was_mental_illness_related  body_camera            race gender   age  \\\n",
       "id                                                                         \n",
       "3                            1            0  Asian Heritage   male  53.0   \n",
       "4                            0            0           White   male  47.0   \n",
       "5                            0            0        Hispanic   male  23.0   \n",
       "8                            1            0           White   male  32.0   \n",
       "9                            0            0        Hispanic   male  39.0   \n",
       "\n",
       "             city         county state                         agency_name  \\\n",
       "id                                                                           \n",
       "3         Shelton          Mason    WA       Mason County Sheriff's Office   \n",
       "4           Aloha     Washington    OR  Washington County Sheriff's Office   \n",
       "5         Wichita       Sedgwick    KS           Wichita Police Department   \n",
       "8   San Francisco  San Francisco    CA     San Francisco Police Department   \n",
       "9           Evans           Weld    CO             Evans Police Department   \n",
       "\n",
       "     agency_type  agency_ids   latitude   longitude location_precision  \\\n",
       "id                                                                       \n",
       "3        sheriff          73  47.246826 -123.121592      not_available   \n",
       "4        sheriff          70  45.487421 -122.891696      not_available   \n",
       "5   local_police         238  37.694766  -97.280554      not_available   \n",
       "8   local_police         196  37.762910 -122.422001      not_available   \n",
       "9   local_police         473  40.383937 -104.692261      not_available   \n",
       "\n",
       "                                                SHAPE  \n",
       "id                                                     \n",
       "3   {\"spatialReference\": {\"wkid\": 4326}, \"x\": -123...  \n",
       "4   {\"spatialReference\": {\"wkid\": 4326}, \"x\": -122...  \n",
       "5   {\"spatialReference\": {\"wkid\": 4326}, \"x\": -97....  \n",
       "8   {\"spatialReference\": {\"wkid\": 4326}, \"x\": -122...  \n",
       "9   {\"spatialReference\": {\"wkid\": 4326}, \"x\": -104...  "
      ]
     },
     "execution_count": 452,
     "metadata": {},
     "output_type": "execute_result"
    }
   ],
   "source": [
    "spatial_dataframe.head()"
   ]
  },
  {
   "cell_type": "code",
   "execution_count": 453,
   "id": "3dfdc44c",
   "metadata": {},
   "outputs": [],
   "source": [
    "assert(len(spatial_dataframe) == len(df))\n",
    "assert(len(spatial_dataframe.columns) == len(df.columns))"
   ]
  },
  {
   "cell_type": "markdown",
   "id": "d48c7473",
   "metadata": {},
   "source": [
    "Now we will publish the data to the cloud!  \n",
    "*Note: ESRI Feature Layer field names get truncated down to 10 characters. We will create aliases on the feature layer in the ESRI portal*"
   ]
  },
  {
   "cell_type": "code",
   "execution_count": 456,
   "id": "f69e8460",
   "metadata": {},
   "outputs": [
    {
     "data": {
      "text/html": [
       "<div class=\"item_container\" style=\"height: auto; overflow: hidden; border: 1px solid #cfcfcf; border-radius: 2px; background: #f6fafa; line-height: 1.21429em; padding: 10px;\">\n",
       "                    <div class=\"item_left\" style=\"width: 210px; float: left;\">\n",
       "                       <a href='https://PatrickFlynnGIS.maps.arcgis.com/home/item.html?id=41b0a6d6301540a8845a43113219621b' target='_blank'>\n",
       "                        <img src='data:image/png;base64,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' width='200' height='133' class=\"itemThumbnail\">\n",
       "                       </a>\n",
       "                    </div>\n",
       "\n",
       "                    <div class=\"item_right\"     style=\"float: none; width: auto; overflow: hidden;\">\n",
       "                        <a href='https://PatrickFlynnGIS.maps.arcgis.com/home/item.html?id=41b0a6d6301540a8845a43113219621b' target='_blank'><b>Fatal Police Shootings</b>\n",
       "                        </a>\n",
       "                        <br/><img src='https://PatrickFlynnGIS.maps.arcgis.com/home/js/jsapi/esri/css/images/item_type_icons/featureshosted16.png' style=\"vertical-align:middle;\">Feature Layer Collection by patrickseanflynn\n",
       "                        <br/>Last Modified: September 17, 2023\n",
       "                        <br/>0 comments, 16 views\n",
       "                    </div>\n",
       "                </div>\n",
       "                "
      ],
      "text/plain": [
       "<Item title:\"Fatal Police Shootings\" type:Feature Layer Collection owner:patrickseanflynn>"
      ]
     },
     "execution_count": 456,
     "metadata": {},
     "output_type": "execute_result"
    }
   ],
   "source": [
    "try:\n",
    "    data_layer = gis.content.get('41b0a6d6301540a8845a43113219621b')\n",
    "except: \n",
    "    layer_name = 'Fatal Police Shootings'\n",
    "    data_layer = spatial_dataframe.spatial.to_featurelayer(layer_name, gis=gis)\n",
    "\n",
    "data_layer"
   ]
  }
 ],
 "metadata": {
  "kernelspec": {
   "display_name": "Python 3 (ipykernel)",
   "language": "python",
   "name": "python3"
  },
  "language_info": {
   "codemirror_mode": {
    "name": "ipython",
    "version": 3
   },
   "file_extension": ".py",
   "mimetype": "text/x-python",
   "name": "python",
   "nbconvert_exporter": "python",
   "pygments_lexer": "ipython3",
   "version": "3.8.18"
  }
 },
 "nbformat": 4,
 "nbformat_minor": 5
}

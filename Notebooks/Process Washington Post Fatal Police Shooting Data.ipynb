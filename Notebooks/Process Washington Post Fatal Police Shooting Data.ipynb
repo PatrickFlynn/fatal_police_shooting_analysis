{
 "cells": [
  {
   "cell_type": "markdown",
   "id": "2f79fd6b",
   "metadata": {},
   "source": [
    "# Summary"
   ]
  },
  {
   "cell_type": "markdown",
   "id": "39e2781c",
   "metadata": {},
   "source": [
    "### Required Libraries"
   ]
  },
  {
   "cell_type": "code",
   "execution_count": 403,
   "id": "ab8c32c6",
   "metadata": {},
   "outputs": [],
   "source": [
    "#Base Python libraries\n",
    "import requests\n",
    "import os\n",
    "import getpass\n",
    "import urllib\n",
    "import json\n",
    "import pickle\n",
    "\n",
    "#Data Sci/Analysis libraries\n",
    "import numpy as np\n",
    "import pandas as pd\n",
    "\n",
    "#Visualization Libraries\n",
    "import matplotlib.pyplot as plt\n",
    "import seaborn as sns"
   ]
  },
  {
   "cell_type": "markdown",
   "id": "4b0ae4ff",
   "metadata": {},
   "source": [
    "### Sources"
   ]
  },
  {
   "cell_type": "markdown",
   "id": "08ba005b",
   "metadata": {},
   "source": [
    "Washington Post Github Repo:\n",
    "- <a href=\"https://github.com/washingtonpost/data-police-shootings/\">https://github.com/washingtonpost/data-police-shootings/</a>\n",
    "\n",
    "Data Dictionary:\n",
    "- <a href=\"https://github.com/washingtonpost/data-police-shootings/blob/master/v2/README.md\">https://github.com/washingtonpost/data-police-shootings/blob/master/v2/README.md</a>"
   ]
  },
  {
   "cell_type": "markdown",
   "id": "da03f5d5",
   "metadata": {},
   "source": [
    "### Download Data from Washington Post Github Repo"
   ]
  },
  {
   "cell_type": "markdown",
   "id": "b1963958",
   "metadata": {},
   "source": [
    "We will be downloading two data sources:\n",
    "   - The actual fatal police shootings (fatal-police-shootings-data.csv)\n",
    "   - Agency information (such as department type, state, ORI codes, etc)"
   ]
  },
  {
   "cell_type": "code",
   "execution_count": 201,
   "id": "643b1274",
   "metadata": {},
   "outputs": [],
   "source": [
    "data_url = \"https://raw.githubusercontent.com/washingtonpost/data-police-shootings/master/v2/fatal-police-shootings-data.csv\"\n",
    "\n",
    "#Put on two lines for readability\n",
    "agency_url = \\\n",
    "\"https://raw.githubusercontent.com/washingtonpost/data-police-shootings/master/v2/fatal-police-shootings-agencies.csv\""
   ]
  },
  {
   "cell_type": "markdown",
   "id": "49a422c1",
   "metadata": {},
   "source": [
    "We will only download this data if it already doesn't exist in our repo: (current date/time of download 2023-09-15 20:00 UTC)"
   ]
  },
  {
   "cell_type": "code",
   "execution_count": 202,
   "id": "edc329a9",
   "metadata": {},
   "outputs": [],
   "source": [
    "if ~ os.path.exists('../Data/fatal-police-shootings-data.csv'):\n",
    "    data_csv = requests.get(data_url).content\n",
    "    with open('../Data/fatal-police-shootings-data.csv', 'wb') as csv_file:\n",
    "        csv_file.write(data_csv)\n",
    "        \n",
    "if ~ os.path.exists('../Data/fatal-police-shootings-agencies.csv'):\n",
    "    data_csv = requests.get(agency_url).content\n",
    "    with open('../Data/fatal-police-shootings-agencies.csv', 'wb') as csv_file:\n",
    "        csv_file.write(data_csv)"
   ]
  },
  {
   "cell_type": "markdown",
   "id": "cace65dd",
   "metadata": {},
   "source": [
    "### Inspection of Shooting Dataset"
   ]
  },
  {
   "cell_type": "code",
   "execution_count": 203,
   "id": "91f4fb93",
   "metadata": {},
   "outputs": [],
   "source": [
    "df = pd.read_csv('../Data/fatal-police-shootings-data.csv')\n",
    "agency_df = pd.read_csv('../Data/fatal-police-shootings-agencies.csv').drop(columns=['total_shootings', 'state'])"
   ]
  },
  {
   "cell_type": "code",
   "execution_count": 204,
   "id": "ffa30f4e",
   "metadata": {},
   "outputs": [
    {
     "data": {
      "text/html": [
       "<div>\n",
       "<style scoped>\n",
       "    .dataframe tbody tr th:only-of-type {\n",
       "        vertical-align: middle;\n",
       "    }\n",
       "\n",
       "    .dataframe tbody tr th {\n",
       "        vertical-align: top;\n",
       "    }\n",
       "\n",
       "    .dataframe thead th {\n",
       "        text-align: right;\n",
       "    }\n",
       "</style>\n",
       "<table border=\"1\" class=\"dataframe\">\n",
       "  <thead>\n",
       "    <tr style=\"text-align: right;\">\n",
       "      <th></th>\n",
       "      <th>id</th>\n",
       "      <th>date</th>\n",
       "      <th>threat_type</th>\n",
       "      <th>flee_status</th>\n",
       "      <th>armed_with</th>\n",
       "      <th>city</th>\n",
       "      <th>county</th>\n",
       "      <th>state</th>\n",
       "      <th>latitude</th>\n",
       "      <th>longitude</th>\n",
       "      <th>location_precision</th>\n",
       "      <th>name</th>\n",
       "      <th>age</th>\n",
       "      <th>gender</th>\n",
       "      <th>race</th>\n",
       "      <th>race_source</th>\n",
       "      <th>was_mental_illness_related</th>\n",
       "      <th>body_camera</th>\n",
       "      <th>agency_ids</th>\n",
       "    </tr>\n",
       "  </thead>\n",
       "  <tbody>\n",
       "    <tr>\n",
       "      <th>0</th>\n",
       "      <td>3</td>\n",
       "      <td>2015-01-02</td>\n",
       "      <td>point</td>\n",
       "      <td>not</td>\n",
       "      <td>gun</td>\n",
       "      <td>Shelton</td>\n",
       "      <td>Mason</td>\n",
       "      <td>WA</td>\n",
       "      <td>47.246826</td>\n",
       "      <td>-123.121592</td>\n",
       "      <td>not_available</td>\n",
       "      <td>Tim Elliot</td>\n",
       "      <td>53.0</td>\n",
       "      <td>male</td>\n",
       "      <td>A</td>\n",
       "      <td>not_available</td>\n",
       "      <td>True</td>\n",
       "      <td>False</td>\n",
       "      <td>73</td>\n",
       "    </tr>\n",
       "    <tr>\n",
       "      <th>1</th>\n",
       "      <td>4</td>\n",
       "      <td>2015-01-02</td>\n",
       "      <td>point</td>\n",
       "      <td>not</td>\n",
       "      <td>gun</td>\n",
       "      <td>Aloha</td>\n",
       "      <td>Washington</td>\n",
       "      <td>OR</td>\n",
       "      <td>45.487421</td>\n",
       "      <td>-122.891696</td>\n",
       "      <td>not_available</td>\n",
       "      <td>Lewis Lee Lembke</td>\n",
       "      <td>47.0</td>\n",
       "      <td>male</td>\n",
       "      <td>W</td>\n",
       "      <td>not_available</td>\n",
       "      <td>False</td>\n",
       "      <td>False</td>\n",
       "      <td>70</td>\n",
       "    </tr>\n",
       "    <tr>\n",
       "      <th>2</th>\n",
       "      <td>5</td>\n",
       "      <td>2015-01-03</td>\n",
       "      <td>move</td>\n",
       "      <td>not</td>\n",
       "      <td>unarmed</td>\n",
       "      <td>Wichita</td>\n",
       "      <td>Sedgwick</td>\n",
       "      <td>KS</td>\n",
       "      <td>37.694766</td>\n",
       "      <td>-97.280554</td>\n",
       "      <td>not_available</td>\n",
       "      <td>John Paul Quintero</td>\n",
       "      <td>23.0</td>\n",
       "      <td>male</td>\n",
       "      <td>H</td>\n",
       "      <td>not_available</td>\n",
       "      <td>False</td>\n",
       "      <td>False</td>\n",
       "      <td>238</td>\n",
       "    </tr>\n",
       "    <tr>\n",
       "      <th>3</th>\n",
       "      <td>8</td>\n",
       "      <td>2015-01-04</td>\n",
       "      <td>point</td>\n",
       "      <td>not</td>\n",
       "      <td>replica</td>\n",
       "      <td>San Francisco</td>\n",
       "      <td>San Francisco</td>\n",
       "      <td>CA</td>\n",
       "      <td>37.762910</td>\n",
       "      <td>-122.422001</td>\n",
       "      <td>not_available</td>\n",
       "      <td>Matthew Hoffman</td>\n",
       "      <td>32.0</td>\n",
       "      <td>male</td>\n",
       "      <td>W</td>\n",
       "      <td>not_available</td>\n",
       "      <td>True</td>\n",
       "      <td>False</td>\n",
       "      <td>196</td>\n",
       "    </tr>\n",
       "    <tr>\n",
       "      <th>4</th>\n",
       "      <td>9</td>\n",
       "      <td>2015-01-04</td>\n",
       "      <td>point</td>\n",
       "      <td>not</td>\n",
       "      <td>other</td>\n",
       "      <td>Evans</td>\n",
       "      <td>Weld</td>\n",
       "      <td>CO</td>\n",
       "      <td>40.383937</td>\n",
       "      <td>-104.692261</td>\n",
       "      <td>not_available</td>\n",
       "      <td>Michael Rodriguez</td>\n",
       "      <td>39.0</td>\n",
       "      <td>male</td>\n",
       "      <td>H</td>\n",
       "      <td>not_available</td>\n",
       "      <td>False</td>\n",
       "      <td>False</td>\n",
       "      <td>473</td>\n",
       "    </tr>\n",
       "  </tbody>\n",
       "</table>\n",
       "</div>"
      ],
      "text/plain": [
       "   id        date threat_type flee_status armed_with           city  \\\n",
       "0   3  2015-01-02       point         not        gun        Shelton   \n",
       "1   4  2015-01-02       point         not        gun          Aloha   \n",
       "2   5  2015-01-03        move         not    unarmed        Wichita   \n",
       "3   8  2015-01-04       point         not    replica  San Francisco   \n",
       "4   9  2015-01-04       point         not      other          Evans   \n",
       "\n",
       "          county state   latitude   longitude location_precision  \\\n",
       "0          Mason    WA  47.246826 -123.121592      not_available   \n",
       "1     Washington    OR  45.487421 -122.891696      not_available   \n",
       "2       Sedgwick    KS  37.694766  -97.280554      not_available   \n",
       "3  San Francisco    CA  37.762910 -122.422001      not_available   \n",
       "4           Weld    CO  40.383937 -104.692261      not_available   \n",
       "\n",
       "                 name   age gender race    race_source  \\\n",
       "0          Tim Elliot  53.0   male    A  not_available   \n",
       "1    Lewis Lee Lembke  47.0   male    W  not_available   \n",
       "2  John Paul Quintero  23.0   male    H  not_available   \n",
       "3     Matthew Hoffman  32.0   male    W  not_available   \n",
       "4   Michael Rodriguez  39.0   male    H  not_available   \n",
       "\n",
       "   was_mental_illness_related  body_camera agency_ids  \n",
       "0                        True        False         73  \n",
       "1                       False        False         70  \n",
       "2                       False        False        238  \n",
       "3                        True        False        196  \n",
       "4                       False        False        473  "
      ]
     },
     "execution_count": 204,
     "metadata": {},
     "output_type": "execute_result"
    }
   ],
   "source": [
    "df.head()"
   ]
  },
  {
   "cell_type": "code",
   "execution_count": 205,
   "id": "4bb3f450",
   "metadata": {},
   "outputs": [
    {
     "name": "stdout",
     "output_type": "stream",
     "text": [
      "<class 'pandas.core.frame.DataFrame'>\n",
      "RangeIndex: 8735 entries, 0 to 8734\n",
      "Data columns (total 19 columns):\n",
      " #   Column                      Non-Null Count  Dtype  \n",
      "---  ------                      --------------  -----  \n",
      " 0   id                          8735 non-null   int64  \n",
      " 1   date                        8735 non-null   object \n",
      " 2   threat_type                 8692 non-null   object \n",
      " 3   flee_status                 7558 non-null   object \n",
      " 4   armed_with                  8525 non-null   object \n",
      " 5   city                        8681 non-null   object \n",
      " 6   county                      3879 non-null   object \n",
      " 7   state                       8735 non-null   object \n",
      " 8   latitude                    7755 non-null   float64\n",
      " 9   longitude                   7755 non-null   float64\n",
      " 10  location_precision          7755 non-null   object \n",
      " 11  name                        8158 non-null   object \n",
      " 12  age                         8134 non-null   float64\n",
      " 13  gender                      8685 non-null   object \n",
      " 14  race                        7336 non-null   object \n",
      " 15  race_source                 7358 non-null   object \n",
      " 16  was_mental_illness_related  8735 non-null   bool   \n",
      " 17  body_camera                 8735 non-null   bool   \n",
      " 18  agency_ids                  8733 non-null   object \n",
      "dtypes: bool(2), float64(3), int64(1), object(13)\n",
      "memory usage: 1.1+ MB\n"
     ]
    }
   ],
   "source": [
    "df.info()"
   ]
  },
  {
   "cell_type": "markdown",
   "id": "a9661fea",
   "metadata": {},
   "source": [
    "For the most part, our dataset is in good shape. But we will want to transform/enrich/remove some of our data to perform our analysis. \n",
    "\n",
    "**Missing Data**</br>\n",
    "The following columns that contain NULL values we will mark as \"unknown\":\n",
    "\n",
    "- threat_type\n",
    "- flee_status\n",
    "- armed_with\n",
    "- city\n",
    "- county\n",
    "- gender\n",
    "- race\n",
    "\n",
    "**Data to be Removed**<br/>\n",
    "We will remove the following columns as they aren't relavant to our analysis:\n",
    "- name\n",
    "- race_source\n",
    "\n",
    "**Data to be Enriched/Transformed**<br/>\n",
    "- Race\n",
    "    - We will replace the race with the full version (i.e. W => White) as described in the provided data dictionary\n",
    "    - Additionally, if TWO or more races are present (designated with a \";\" separator) we will only use the FIRST race\n",
    "- latitude/longitude\n",
    "    - If we do not have latitude/longitude, we will geolocate the data to the nearest city \n",
    "- agency_ids\n",
    "    - If we have MORE than one agency_id listed for a shooting, we will use the first agency for easier analysis"
   ]
  },
  {
   "cell_type": "markdown",
   "id": "911b6957",
   "metadata": {},
   "source": [
    "#### Cleaning our Dataset"
   ]
  },
  {
   "cell_type": "markdown",
   "id": "9ca51cfa",
   "metadata": {},
   "source": [
    "We can go ahead and turn out date into a Python DateTime object"
   ]
  },
  {
   "cell_type": "code",
   "execution_count": 233,
   "id": "51bfc37b",
   "metadata": {},
   "outputs": [],
   "source": [
    "df['date'] = pd.to_datetime(df['date'])"
   ]
  },
  {
   "cell_type": "markdown",
   "id": "0949a39c",
   "metadata": {},
   "source": [
    "First we will mark our NULL values as described above as \"unknown\""
   ]
  },
  {
   "cell_type": "code",
   "execution_count": 206,
   "id": "17384098",
   "metadata": {},
   "outputs": [],
   "source": [
    "columns_to_replace_nan_vals = ['threat_type', 'flee_status','armed_with','city','county','gender','race']"
   ]
  },
  {
   "cell_type": "code",
   "execution_count": 207,
   "id": "e901ba41",
   "metadata": {},
   "outputs": [],
   "source": [
    "df.loc[:, columns_to_replace_nan_vals] = \\\n",
    "df.loc[:, columns_to_replace_nan_vals].fillna('unknown')"
   ]
  },
  {
   "cell_type": "code",
   "execution_count": 208,
   "id": "11303912",
   "metadata": {},
   "outputs": [],
   "source": [
    "#Assert that we have replace ALL missing values for designated columns\n",
    "assert(df.loc[:, columns_to_replace_nan_vals].isna().sum().sum() == 0)"
   ]
  },
  {
   "cell_type": "markdown",
   "id": "6b5bff11",
   "metadata": {},
   "source": [
    "Next we will remove the columns not necessary for our analysis"
   ]
  },
  {
   "cell_type": "code",
   "execution_count": 209,
   "id": "eec9c0e6",
   "metadata": {},
   "outputs": [],
   "source": [
    "df.drop(columns=['name', 'race_source'], inplace=True)"
   ]
  },
  {
   "cell_type": "markdown",
   "id": "266e232e",
   "metadata": {},
   "source": [
    "Now we will begin transforming/enriching our data:"
   ]
  },
  {
   "cell_type": "markdown",
   "id": "3e706a44",
   "metadata": {},
   "source": [
    "#### Race Transformation\n",
    "We will first replace the short-hand versions of race with the full version for easier interpretation."
   ]
  },
  {
   "cell_type": "code",
   "execution_count": 210,
   "id": "45f723b4",
   "metadata": {},
   "outputs": [],
   "source": [
    "#Short-hand to longer description map\n",
    "race_map = {\n",
    "    'W':'White',\n",
    "    'B':'Black',\n",
    "    'A':'Asian Heritage',\n",
    "    'N':'Native American',\n",
    "    'H':'Hispanic',\n",
    "    'O':'Other',\n",
    "    '--':'unknown',\n",
    "    'unknown':'unknown',\n",
    "}"
   ]
  },
  {
   "cell_type": "code",
   "execution_count": 211,
   "id": "a70c3824",
   "metadata": {},
   "outputs": [
    {
     "data": {
      "text/plain": [
       "7704    B;H\n",
       "Name: race, dtype: object"
      ]
     },
     "execution_count": 211,
     "metadata": {},
     "output_type": "execute_result"
    }
   ],
   "source": [
    "# We only have one record that lists the deceadant as two races \n",
    "df.loc[df['race'].str.contains(';'), 'race']"
   ]
  },
  {
   "cell_type": "code",
   "execution_count": 212,
   "id": "baedafb6",
   "metadata": {},
   "outputs": [],
   "source": [
    "#We will fix any subjects that have multiple races listed\n",
    "multi_race_mask = df['race'].str.contains(';')\n",
    "df.loc[multi_race_mask, 'race'] = df.loc[multi_race_mask, 'race'].apply(lambda x: x[0])\n",
    "assert(len(df.loc[df['race'].str.contains(';'), 'race']) == 0) #Quickly verify we handeled all multi-race subjects"
   ]
  },
  {
   "cell_type": "code",
   "execution_count": 213,
   "id": "f3ebc702",
   "metadata": {},
   "outputs": [],
   "source": [
    "# Now we will map over our races and transform them into the long-form race descriptions\n",
    "df['race'] = df['race'].map(race_map)"
   ]
  },
  {
   "cell_type": "markdown",
   "id": "62b7c4e8",
   "metadata": {},
   "source": [
    "#### Obtaining missing latitude/longitude data based on city+state"
   ]
  },
  {
   "cell_type": "code",
   "execution_count": 393,
   "id": "db8ff1d0",
   "metadata": {},
   "outputs": [],
   "source": [
    "missing_geo_data = df.loc[(df['latitude'].isna()) | (df['longitude'].isna())].copy() \n",
    "#(copy) is toensure we arent referencing base DF"
   ]
  },
  {
   "cell_type": "code",
   "execution_count": 394,
   "id": "ff77fcaa",
   "metadata": {},
   "outputs": [],
   "source": [
    "missing_geo_data['city_state'] = missing_geo_data['city'] + ', ' + missing_geo_data['state'] + ', USA'"
   ]
  },
  {
   "cell_type": "code",
   "execution_count": 395,
   "id": "4de67467",
   "metadata": {},
   "outputs": [
    {
     "data": {
      "text/plain": [
       "773"
      ]
     },
     "execution_count": 395,
     "metadata": {},
     "output_type": "execute_result"
    }
   ],
   "source": [
    "len(missing_geo_data['city_state'].unique())"
   ]
  },
  {
   "cell_type": "markdown",
   "id": "62980d94",
   "metadata": {},
   "source": [
    "We need to geolocate 773 cities! Let's get to it! The first thing we will do is add a record to our missing_geo_data dataframe for the URL encoded address in the form of `city, state, USA` to pass off to Google Geocoding API"
   ]
  },
  {
   "cell_type": "code",
   "execution_count": 396,
   "id": "37ddca9b",
   "metadata": {},
   "outputs": [],
   "source": [
    "missing_geo_data['url_address'] = \\\n",
    "missing_geo_data['city_state'].apply(lambda x: urllib.parse.quote(x))"
   ]
  },
  {
   "cell_type": "code",
   "execution_count": 397,
   "id": "19ecaeee",
   "metadata": {},
   "outputs": [
    {
     "data": {
      "text/plain": [
       "872               Weatherford%2C%20TX%2C%20USA\n",
       "1371    Chesterfield%20County%2C%20SC%2C%20USA\n",
       "1373                Flagstaff%2C%20AZ%2C%20USA\n",
       "1375                   Oxford%2C%20MA%2C%20USA\n",
       "1388                  Solvang%2C%20CA%2C%20USA\n",
       "Name: url_address, dtype: object"
      ]
     },
     "execution_count": 397,
     "metadata": {},
     "output_type": "execute_result"
    }
   ],
   "source": [
    "missing_geo_data['url_address'].head()"
   ]
  },
  {
   "cell_type": "markdown",
   "id": "224ffd59",
   "metadata": {},
   "source": [
    "We will create a little helper dictionary so that we only have to geocode one city+state once if there are duplicates. This will also ensure that if our code stops/breaks at any point we don't have to re-geolocate that location."
   ]
  },
  {
   "cell_type": "code",
   "execution_count": 306,
   "id": "f877a76c",
   "metadata": {},
   "outputs": [],
   "source": [
    "unique_address_dict = {}\n",
    "indexes = missing_geo_data.groupby('url_address').indices\n",
    "for key, value in indexes.items():\n",
    "    unique_address_dict[key] = {'row_indexes':list(value), 'coordinates':None, 'location_type':None}"
   ]
  },
  {
   "cell_type": "markdown",
   "id": "32d32ef9",
   "metadata": {},
   "source": [
    "Now we will loop through the unique addresses and geolocate them! If this hasn't already been done (e.g. no `geolocated_missing_data.pkl` file, you will need to provide a Google Maps Geocoding API key in order to locate the missing locations."
   ]
  },
  {
   "cell_type": "code",
   "execution_count": 425,
   "id": "05dc1571",
   "metadata": {},
   "outputs": [],
   "source": [
    "if os.path.exists('../Data/geolocated_missing_data.pkl'):\n",
    "    \n",
    "    with open('../Data/geolocated_missing_data.pkl', 'rb') as dictionary_pickle:\n",
    "        unique_address_dict = pickle.load(dictionary_pickle)\n",
    "    \n",
    "else:\n",
    "    \n",
    "    api_key = getpass.getpass() #This requires a Google maps API key with Geocoding API enabled\n",
    "\n",
    "    for address, value in unique_address_dict.items():\n",
    "\n",
    "            #Only geolocate the data if we haven't already\n",
    "            if value['coordinates'] is None:\n",
    "\n",
    "                google_geocode_url = \"https://maps.googleapis.com/maps/api/geocode/json?address={}&key={}\"\\\n",
    "                .format(address, api_key)\n",
    "\n",
    "                geolocated_json = json.loads(requests.get(google_geocode_url).content)['results'][0]\n",
    "\n",
    "                coords = geolocated_json['geometry']['location']\n",
    "                location_type = geolocated_json['geometry']['location_type']\n",
    "\n",
    "                unique_address_dict[address]['coordinates'] = coords\n",
    "                unique_address_dict[address]['location_type'] = location_type\n",
    "                \n",
    "    with open('../Data/geolocated_missing_data.pkl', 'wb') as dictionary_pickle:\n",
    "         pickle.dump(unique_address_dict, dictionary_pickle, protocol=pickle.HIGHEST_PROTOCOL)"
   ]
  },
  {
   "cell_type": "markdown",
   "id": "b92a48ad",
   "metadata": {},
   "source": [
    "Now that we have approximately geo-referenced our data we can update the base dataframe and clean up our data we no longer need."
   ]
  },
  {
   "cell_type": "code",
   "execution_count": 427,
   "id": "d8f276b9",
   "metadata": {},
   "outputs": [],
   "source": [
    "for vals in unique_address_dict.values():\n",
    "    row_ind_list = vals['row_indexes']\n",
    "    for row_indx_ptr in row_ind_list:\n",
    "        row_idx = missing_geo_data.index[row_indx_ptr]\n",
    "        missing_geo_data.loc[row_idx, 'latitude'] = vals['coordinates']['lat']\n",
    "        missing_geo_data.loc[row_idx, 'longitude'] = vals['coordinates']['lng']\n",
    "        missing_geo_data.loc[row_idx, 'location_precision'] = 'GoogleLocated_' + vals['location_type']\n",
    "        \n",
    "#Update base data    \n",
    "df.update(missing_geo_data[['latitude', 'longitude', 'location_precision']])"
   ]
  },
  {
   "cell_type": "code",
   "execution_count": 432,
   "id": "3b68c23b",
   "metadata": {},
   "outputs": [
    {
     "ename": "AssertionError",
     "evalue": "",
     "output_type": "error",
     "traceback": [
      "\u001b[0;31m---------------------------------------------------------------------------\u001b[0m",
      "\u001b[0;31mAssertionError\u001b[0m                            Traceback (most recent call last)",
      "Cell \u001b[0;32mIn[432], line 1\u001b[0m\n\u001b[0;32m----> 1\u001b[0m \u001b[38;5;28;01massert\u001b[39;00m(df[\u001b[38;5;124m'\u001b[39m\u001b[38;5;124mlatitude\u001b[39m\u001b[38;5;124m'\u001b[39m]\u001b[38;5;241m.\u001b[39misna()\u001b[38;5;241m.\u001b[39msum() \u001b[38;5;241m+\u001b[39m df[\u001b[38;5;124m'\u001b[39m\u001b[38;5;124mlongitude\u001b[39m\u001b[38;5;124m'\u001b[39m]\u001b[38;5;241m.\u001b[39misna()\u001b[38;5;241m.\u001b[39msum())\n",
      "\u001b[0;31mAssertionError\u001b[0m: "
     ]
    }
   ],
   "source": [
    "assert(df['latitude'].isna().sum() + df['longitude'].isna().sum())"
   ]
  },
  {
   "cell_type": "markdown",
   "id": "1c848ce1",
   "metadata": {},
   "source": [
    "#### Agency Cleaning (Only listing one agency per shooting)"
   ]
  },
  {
   "cell_type": "markdown",
   "id": "6b95a3f8",
   "metadata": {},
   "source": [
    "We have two shootings that DO NOT have an agency id listed, rather than dropping these, we will use the agency_id of another shooting that happened in the same city+county+state:"
   ]
  },
  {
   "cell_type": "code",
   "execution_count": 214,
   "id": "657d97d4",
   "metadata": {},
   "outputs": [
    {
     "data": {
      "text/html": [
       "<div>\n",
       "<style scoped>\n",
       "    .dataframe tbody tr th:only-of-type {\n",
       "        vertical-align: middle;\n",
       "    }\n",
       "\n",
       "    .dataframe tbody tr th {\n",
       "        vertical-align: top;\n",
       "    }\n",
       "\n",
       "    .dataframe thead th {\n",
       "        text-align: right;\n",
       "    }\n",
       "</style>\n",
       "<table border=\"1\" class=\"dataframe\">\n",
       "  <thead>\n",
       "    <tr style=\"text-align: right;\">\n",
       "      <th></th>\n",
       "      <th>id</th>\n",
       "      <th>date</th>\n",
       "      <th>threat_type</th>\n",
       "      <th>flee_status</th>\n",
       "      <th>armed_with</th>\n",
       "      <th>city</th>\n",
       "      <th>county</th>\n",
       "      <th>state</th>\n",
       "      <th>latitude</th>\n",
       "      <th>longitude</th>\n",
       "      <th>location_precision</th>\n",
       "      <th>age</th>\n",
       "      <th>gender</th>\n",
       "      <th>race</th>\n",
       "      <th>was_mental_illness_related</th>\n",
       "      <th>body_camera</th>\n",
       "      <th>agency_ids</th>\n",
       "    </tr>\n",
       "  </thead>\n",
       "  <tbody>\n",
       "    <tr>\n",
       "      <th>8672</th>\n",
       "      <td>9435</td>\n",
       "      <td>2023-08-04</td>\n",
       "      <td>threat</td>\n",
       "      <td>foot</td>\n",
       "      <td>gun</td>\n",
       "      <td>Kingwood</td>\n",
       "      <td>Harris</td>\n",
       "      <td>TX</td>\n",
       "      <td>30.055926</td>\n",
       "      <td>-95.222457</td>\n",
       "      <td>poi_large</td>\n",
       "      <td>NaN</td>\n",
       "      <td>unknown</td>\n",
       "      <td>unknown</td>\n",
       "      <td>False</td>\n",
       "      <td>False</td>\n",
       "      <td>NaN</td>\n",
       "    </tr>\n",
       "    <tr>\n",
       "      <th>8676</th>\n",
       "      <td>9428</td>\n",
       "      <td>2023-08-05</td>\n",
       "      <td>shoot</td>\n",
       "      <td>unknown</td>\n",
       "      <td>gun</td>\n",
       "      <td>Columbia</td>\n",
       "      <td>Boone</td>\n",
       "      <td>MO</td>\n",
       "      <td>38.922324</td>\n",
       "      <td>-92.335543</td>\n",
       "      <td>address</td>\n",
       "      <td>22.0</td>\n",
       "      <td>male</td>\n",
       "      <td>unknown</td>\n",
       "      <td>True</td>\n",
       "      <td>True</td>\n",
       "      <td>NaN</td>\n",
       "    </tr>\n",
       "  </tbody>\n",
       "</table>\n",
       "</div>"
      ],
      "text/plain": [
       "        id        date threat_type flee_status armed_with      city  county  \\\n",
       "8672  9435  2023-08-04      threat        foot        gun  Kingwood  Harris   \n",
       "8676  9428  2023-08-05       shoot     unknown        gun  Columbia   Boone   \n",
       "\n",
       "     state   latitude  longitude location_precision   age   gender     race  \\\n",
       "8672    TX  30.055926 -95.222457          poi_large   NaN  unknown  unknown   \n",
       "8676    MO  38.922324 -92.335543            address  22.0     male  unknown   \n",
       "\n",
       "      was_mental_illness_related  body_camera agency_ids  \n",
       "8672                       False        False        NaN  \n",
       "8676                        True         True        NaN  "
      ]
     },
     "execution_count": 214,
     "metadata": {},
     "output_type": "execute_result"
    }
   ],
   "source": [
    "df.loc[df['agency_ids'].isna()]"
   ]
  },
  {
   "cell_type": "code",
   "execution_count": 215,
   "id": "235ae211",
   "metadata": {},
   "outputs": [],
   "source": [
    "df.loc[df['id'] == 9435, 'agency_ids'] =  \\\n",
    "list(df.loc[(df['state'] == 'TX') \\\n",
    "       & (df['county'] == 'Harris')  \\\n",
    "       & (df['city'] == 'Kingwood') \\\n",
    "       & (~df['agency_ids'].isna()), 'agency_ids'])[0]"
   ]
  },
  {
   "cell_type": "code",
   "execution_count": 216,
   "id": "587e0e2d",
   "metadata": {},
   "outputs": [],
   "source": [
    "#This city+county+state combination has multiple listed, we will use the first\n",
    "df.loc[df['id'] == 9428, 'agency_ids'] = \\\n",
    "list(df.loc[(df['state'] == 'MO') \\\n",
    "       & (df['county'] == 'Boone')  \\\n",
    "       & (df['city'] == 'Columbia') \\\n",
    "       & (~df['agency_ids'].isna()), 'agency_ids'])[0]"
   ]
  },
  {
   "cell_type": "code",
   "execution_count": 217,
   "id": "1003e601",
   "metadata": {},
   "outputs": [],
   "source": [
    "assert(len(df.loc[df['agency_ids'].isna()]) == 0)"
   ]
  },
  {
   "cell_type": "markdown",
   "id": "acd6d92f",
   "metadata": {},
   "source": [
    "Now that we've handeled the missing agency ID's we can remove the shootings with multiple agencies. Of course if we were doing agency-specific related analysis we would handle this process differently."
   ]
  },
  {
   "cell_type": "code",
   "execution_count": 218,
   "id": "c4c9678e",
   "metadata": {},
   "outputs": [],
   "source": [
    "multi_agency_mask = df['agency_ids'].str.contains(';')"
   ]
  },
  {
   "cell_type": "code",
   "execution_count": 219,
   "id": "c5beb620",
   "metadata": {},
   "outputs": [],
   "source": [
    "df.loc[multi_agency_mask, 'agency_ids'] = df.loc[multi_agency_mask, 'agency_ids'].str.split(';').apply(lambda x: x[0])"
   ]
  },
  {
   "cell_type": "code",
   "execution_count": 220,
   "id": "e11dcfba",
   "metadata": {},
   "outputs": [],
   "source": [
    "assert(df['agency_ids'].str.contains(';').sum() == 0)"
   ]
  },
  {
   "cell_type": "code",
   "execution_count": 221,
   "id": "7543bc51",
   "metadata": {},
   "outputs": [],
   "source": [
    "df['agency_ids'] = df['agency_ids'].astype(int)"
   ]
  },
  {
   "cell_type": "markdown",
   "id": "5e74f25e",
   "metadata": {},
   "source": [
    "### Agency Dataset"
   ]
  },
  {
   "cell_type": "markdown",
   "id": "f8d63df4",
   "metadata": {},
   "source": [
    "In order to enrich our data, we will also join the respective agency for the fatal shooting."
   ]
  },
  {
   "cell_type": "code",
   "execution_count": 222,
   "id": "49e6a456",
   "metadata": {},
   "outputs": [
    {
     "data": {
      "text/html": [
       "<div>\n",
       "<style scoped>\n",
       "    .dataframe tbody tr th:only-of-type {\n",
       "        vertical-align: middle;\n",
       "    }\n",
       "\n",
       "    .dataframe tbody tr th {\n",
       "        vertical-align: top;\n",
       "    }\n",
       "\n",
       "    .dataframe thead th {\n",
       "        text-align: right;\n",
       "    }\n",
       "</style>\n",
       "<table border=\"1\" class=\"dataframe\">\n",
       "  <thead>\n",
       "    <tr style=\"text-align: right;\">\n",
       "      <th></th>\n",
       "      <th>id</th>\n",
       "      <th>name</th>\n",
       "      <th>type</th>\n",
       "      <th>oricodes</th>\n",
       "    </tr>\n",
       "  </thead>\n",
       "  <tbody>\n",
       "    <tr>\n",
       "      <th>0</th>\n",
       "      <td>3145</td>\n",
       "      <td>Abbeville County Sheriff's Office</td>\n",
       "      <td>sheriff</td>\n",
       "      <td>SC00100</td>\n",
       "    </tr>\n",
       "    <tr>\n",
       "      <th>1</th>\n",
       "      <td>2576</td>\n",
       "      <td>Aberdeen Police Department</td>\n",
       "      <td>local_police</td>\n",
       "      <td>WA01401</td>\n",
       "    </tr>\n",
       "    <tr>\n",
       "      <th>2</th>\n",
       "      <td>2114</td>\n",
       "      <td>Abilene Police Department</td>\n",
       "      <td>local_police</td>\n",
       "      <td>TX22101</td>\n",
       "    </tr>\n",
       "    <tr>\n",
       "      <th>3</th>\n",
       "      <td>2088</td>\n",
       "      <td>Abington Township Police Department</td>\n",
       "      <td>local_police</td>\n",
       "      <td>PA04601</td>\n",
       "    </tr>\n",
       "    <tr>\n",
       "      <th>4</th>\n",
       "      <td>3187</td>\n",
       "      <td>Acadia Parish Sheriff's Office</td>\n",
       "      <td>sheriff</td>\n",
       "      <td>LA00100</td>\n",
       "    </tr>\n",
       "  </tbody>\n",
       "</table>\n",
       "</div>"
      ],
      "text/plain": [
       "     id                                 name          type oricodes\n",
       "0  3145    Abbeville County Sheriff's Office       sheriff  SC00100\n",
       "1  2576           Aberdeen Police Department  local_police  WA01401\n",
       "2  2114            Abilene Police Department  local_police  TX22101\n",
       "3  2088  Abington Township Police Department  local_police  PA04601\n",
       "4  3187       Acadia Parish Sheriff's Office       sheriff  LA00100"
      ]
     },
     "execution_count": 222,
     "metadata": {},
     "output_type": "execute_result"
    }
   ],
   "source": [
    "agency_df.head()"
   ]
  },
  {
   "cell_type": "code",
   "execution_count": 230,
   "id": "223c3c60",
   "metadata": {},
   "outputs": [],
   "source": [
    "agency_df = agency_df.rename(columns={'id':'agency_ids'}) #For easier merging"
   ]
  },
  {
   "cell_type": "markdown",
   "id": "d18d68d6",
   "metadata": {},
   "source": [
    "Now we can merge out data with the agency data"
   ]
  },
  {
   "cell_type": "code",
   "execution_count": 228,
   "id": "6337b190",
   "metadata": {},
   "outputs": [],
   "source": [
    "df = pd.merge(df, agency_df, how='left', left_on='agency_ids', right_on='agency_ids')"
   ]
  },
  {
   "cell_type": "code",
   "execution_count": 235,
   "id": "130c4b71",
   "metadata": {},
   "outputs": [
    {
     "data": {
      "text/html": [
       "<div>\n",
       "<style scoped>\n",
       "    .dataframe tbody tr th:only-of-type {\n",
       "        vertical-align: middle;\n",
       "    }\n",
       "\n",
       "    .dataframe tbody tr th {\n",
       "        vertical-align: top;\n",
       "    }\n",
       "\n",
       "    .dataframe thead th {\n",
       "        text-align: right;\n",
       "    }\n",
       "</style>\n",
       "<table border=\"1\" class=\"dataframe\">\n",
       "  <thead>\n",
       "    <tr style=\"text-align: right;\">\n",
       "      <th></th>\n",
       "      <th>id</th>\n",
       "      <th>date</th>\n",
       "      <th>threat_type</th>\n",
       "      <th>flee_status</th>\n",
       "      <th>armed_with</th>\n",
       "      <th>city</th>\n",
       "      <th>county</th>\n",
       "      <th>state</th>\n",
       "      <th>latitude</th>\n",
       "      <th>longitude</th>\n",
       "      <th>location_precision</th>\n",
       "      <th>age</th>\n",
       "      <th>gender</th>\n",
       "      <th>race</th>\n",
       "      <th>was_mental_illness_related</th>\n",
       "      <th>body_camera</th>\n",
       "      <th>agency_ids</th>\n",
       "      <th>name</th>\n",
       "      <th>type</th>\n",
       "      <th>oricodes</th>\n",
       "    </tr>\n",
       "  </thead>\n",
       "  <tbody>\n",
       "    <tr>\n",
       "      <th>0</th>\n",
       "      <td>3</td>\n",
       "      <td>2015-01-02</td>\n",
       "      <td>point</td>\n",
       "      <td>not</td>\n",
       "      <td>gun</td>\n",
       "      <td>Shelton</td>\n",
       "      <td>Mason</td>\n",
       "      <td>WA</td>\n",
       "      <td>47.246826</td>\n",
       "      <td>-123.121592</td>\n",
       "      <td>not_available</td>\n",
       "      <td>53.0</td>\n",
       "      <td>male</td>\n",
       "      <td>Asian Heritage</td>\n",
       "      <td>True</td>\n",
       "      <td>False</td>\n",
       "      <td>73</td>\n",
       "      <td>Mason County Sheriff's Office</td>\n",
       "      <td>sheriff</td>\n",
       "      <td>WA02300</td>\n",
       "    </tr>\n",
       "    <tr>\n",
       "      <th>1</th>\n",
       "      <td>4</td>\n",
       "      <td>2015-01-02</td>\n",
       "      <td>point</td>\n",
       "      <td>not</td>\n",
       "      <td>gun</td>\n",
       "      <td>Aloha</td>\n",
       "      <td>Washington</td>\n",
       "      <td>OR</td>\n",
       "      <td>45.487421</td>\n",
       "      <td>-122.891696</td>\n",
       "      <td>not_available</td>\n",
       "      <td>47.0</td>\n",
       "      <td>male</td>\n",
       "      <td>White</td>\n",
       "      <td>False</td>\n",
       "      <td>False</td>\n",
       "      <td>70</td>\n",
       "      <td>Washington County Sheriff's Office</td>\n",
       "      <td>sheriff</td>\n",
       "      <td>OR03400</td>\n",
       "    </tr>\n",
       "    <tr>\n",
       "      <th>2</th>\n",
       "      <td>5</td>\n",
       "      <td>2015-01-03</td>\n",
       "      <td>move</td>\n",
       "      <td>not</td>\n",
       "      <td>unarmed</td>\n",
       "      <td>Wichita</td>\n",
       "      <td>Sedgwick</td>\n",
       "      <td>KS</td>\n",
       "      <td>37.694766</td>\n",
       "      <td>-97.280554</td>\n",
       "      <td>not_available</td>\n",
       "      <td>23.0</td>\n",
       "      <td>male</td>\n",
       "      <td>Hispanic</td>\n",
       "      <td>False</td>\n",
       "      <td>False</td>\n",
       "      <td>238</td>\n",
       "      <td>Wichita Police Department</td>\n",
       "      <td>local_police</td>\n",
       "      <td>KS08703</td>\n",
       "    </tr>\n",
       "    <tr>\n",
       "      <th>3</th>\n",
       "      <td>8</td>\n",
       "      <td>2015-01-04</td>\n",
       "      <td>point</td>\n",
       "      <td>not</td>\n",
       "      <td>replica</td>\n",
       "      <td>San Francisco</td>\n",
       "      <td>San Francisco</td>\n",
       "      <td>CA</td>\n",
       "      <td>37.762910</td>\n",
       "      <td>-122.422001</td>\n",
       "      <td>not_available</td>\n",
       "      <td>32.0</td>\n",
       "      <td>male</td>\n",
       "      <td>White</td>\n",
       "      <td>True</td>\n",
       "      <td>False</td>\n",
       "      <td>196</td>\n",
       "      <td>San Francisco Police Department</td>\n",
       "      <td>local_police</td>\n",
       "      <td>CA03801</td>\n",
       "    </tr>\n",
       "    <tr>\n",
       "      <th>4</th>\n",
       "      <td>9</td>\n",
       "      <td>2015-01-04</td>\n",
       "      <td>point</td>\n",
       "      <td>not</td>\n",
       "      <td>other</td>\n",
       "      <td>Evans</td>\n",
       "      <td>Weld</td>\n",
       "      <td>CO</td>\n",
       "      <td>40.383937</td>\n",
       "      <td>-104.692261</td>\n",
       "      <td>not_available</td>\n",
       "      <td>39.0</td>\n",
       "      <td>male</td>\n",
       "      <td>Hispanic</td>\n",
       "      <td>False</td>\n",
       "      <td>False</td>\n",
       "      <td>473</td>\n",
       "      <td>Evans Police Department</td>\n",
       "      <td>local_police</td>\n",
       "      <td>CO06204</td>\n",
       "    </tr>\n",
       "  </tbody>\n",
       "</table>\n",
       "</div>"
      ],
      "text/plain": [
       "   id       date threat_type flee_status armed_with           city  \\\n",
       "0   3 2015-01-02       point         not        gun        Shelton   \n",
       "1   4 2015-01-02       point         not        gun          Aloha   \n",
       "2   5 2015-01-03        move         not    unarmed        Wichita   \n",
       "3   8 2015-01-04       point         not    replica  San Francisco   \n",
       "4   9 2015-01-04       point         not      other          Evans   \n",
       "\n",
       "          county state   latitude   longitude location_precision   age gender  \\\n",
       "0          Mason    WA  47.246826 -123.121592      not_available  53.0   male   \n",
       "1     Washington    OR  45.487421 -122.891696      not_available  47.0   male   \n",
       "2       Sedgwick    KS  37.694766  -97.280554      not_available  23.0   male   \n",
       "3  San Francisco    CA  37.762910 -122.422001      not_available  32.0   male   \n",
       "4           Weld    CO  40.383937 -104.692261      not_available  39.0   male   \n",
       "\n",
       "             race  was_mental_illness_related  body_camera  agency_ids  \\\n",
       "0  Asian Heritage                        True        False          73   \n",
       "1           White                       False        False          70   \n",
       "2        Hispanic                       False        False         238   \n",
       "3           White                        True        False         196   \n",
       "4        Hispanic                       False        False         473   \n",
       "\n",
       "                                 name          type oricodes  \n",
       "0       Mason County Sheriff's Office       sheriff  WA02300  \n",
       "1  Washington County Sheriff's Office       sheriff  OR03400  \n",
       "2           Wichita Police Department  local_police  KS08703  \n",
       "3     San Francisco Police Department  local_police  CA03801  \n",
       "4             Evans Police Department  local_police  CO06204  "
      ]
     },
     "execution_count": 235,
     "metadata": {},
     "output_type": "execute_result"
    }
   ],
   "source": [
    "df.head()"
   ]
  }
 ],
 "metadata": {
  "kernelspec": {
   "display_name": "Python 3 (ipykernel)",
   "language": "python",
   "name": "python3"
  },
  "language_info": {
   "codemirror_mode": {
    "name": "ipython",
    "version": 3
   },
   "file_extension": ".py",
   "mimetype": "text/x-python",
   "name": "python",
   "nbconvert_exporter": "python",
   "pygments_lexer": "ipython3",
   "version": "3.11.4"
  }
 },
 "nbformat": 4,
 "nbformat_minor": 5
}
